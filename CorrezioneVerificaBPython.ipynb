{
  "nbformat": 4,
  "nbformat_minor": 0,
  "metadata": {
    "colab": {
      "name": "CorrezioneVerificaBPython.ipynb",
      "provenance": [],
      "collapsed_sections": []
    },
    "kernelspec": {
      "name": "python3",
      "display_name": "Python 3"
    },
    "language_info": {
      "name": "python"
    }
  },
  "cells": [
    {
      "cell_type": "markdown",
      "metadata": {
        "id": "A0C-1IcbsyL5"
      },
      "source": [
        "1. scrivere un programma che calcoli le radici (dette anche zeri) di una equazione di secondo grado. L’utente inserisce i valori dei coefficienti  a. b e c e il programma calcola gli zeri.\n"
      ]
    },
    {
      "cell_type": "code",
      "metadata": {
        "colab": {
          "base_uri": "https://localhost:8080/"
        },
        "id": "Np2nySDjsqEM",
        "outputId": "165965b8-9eea-49d8-8073-406bd0a52a01"
      },
      "source": [
        "a = float(input(\"Inserisci il coefficiente a: \"))\n",
        "b = float(input(\"Inserisci il coefficiente b: \"))\n",
        "c = float(input(\"Inserisci il coefficiente c: \"))\n",
        "\n",
        "\n",
        "delta = b**2 - 4 * a * c\n",
        "x1 = (-b - (delta)) / (2 * a)\n",
        "x2 = (-b + (delta)) / (2 * a)\n",
        "print(\"Delta positivo. Due soluzioni reali x1=\", x1, \" x2=\", x2)"
      ],
      "execution_count": null,
      "outputs": [
        {
          "output_type": "stream",
          "name": "stdout",
          "text": [
            "Inserisci il coefficiente a: 10\n",
            "Inserisci il coefficiente b: 5\n",
            "Inserisci il coefficiente c: 20\n",
            "Delta positivo. Due soluzioni reali x1= 38.5  x2= -39.0\n"
          ]
        }
      ]
    },
    {
      "cell_type": "markdown",
      "metadata": {
        "id": "Ww7Rbfv2s1Ps"
      },
      "source": [
        "2. modificare il programma precedente in modo che prima di effettuare il calcolo controlli che i valori inseriti dall’utente siano accettabili. Visualizzare gli opportuni messaggi di errore a seconda del verificarsi delle diverse condizioni\n"
      ]
    },
    {
      "cell_type": "code",
      "metadata": {
        "colab": {
          "base_uri": "https://localhost:8080/"
        },
        "id": "Z12IC5KCs2_D",
        "outputId": "4fb242fc-1541-4dd6-e25f-216f55b453ed"
      },
      "source": [
        "a = float(input('Inserire il coefficiente a: '))\n",
        "if a < 0:\n",
        "  print('Coefficiente a minore di 0')\n",
        "else:\n",
        "  b = float(input('Inserire il coefficiente b: '))\n",
        "  if b < 0:\n",
        "    print('Coefficiente b minore di 0')\n",
        "  else:\n",
        "      c = float(input('Inserire il coefficiente c: '))\n",
        "      if c < 0:\n",
        "        print('Coefficiente c minore di 0')\n",
        "      else:\n",
        "          print(\"Delta positivo. Due soluzioni reali x1=\", x1, \" x2=\", x2)"
      ],
      "execution_count": null,
      "outputs": [
        {
          "output_type": "stream",
          "name": "stdout",
          "text": [
            "Inserire il coefficiente a: -1\n",
            "Coefficiente a minore di 0\n"
          ]
        }
      ]
    },
    {
      "cell_type": "markdown",
      "metadata": {
        "id": "zkIfnkErs3Ms"
      },
      "source": [
        "3. scrivere un programma che permetta di visualizzare tutti i multipli di 10 minori di un numero inserito dall’utente.\n"
      ]
    },
    {
      "cell_type": "code",
      "metadata": {
        "colab": {
          "base_uri": "https://localhost:8080/"
        },
        "id": "v48WxEVPs47l",
        "outputId": "76835913-f544-4716-ed0d-15513c79abbe"
      },
      "source": [
        "n = int(input('Inserire n: '))\n",
        "\n",
        "for i in range(1,N):\n",
        "  if i%10 == 0:\n",
        "    print(i)"
      ],
      "execution_count": null,
      "outputs": [
        {
          "output_type": "stream",
          "name": "stdout",
          "text": [
            "Inserire N: 100\n",
            "10\n",
            "20\n",
            "30\n",
            "40\n",
            "50\n",
            "60\n",
            "70\n",
            "80\n",
            "90\n"
          ]
        }
      ]
    },
    {
      "cell_type": "markdown",
      "metadata": {
        "id": "O_ExXU9gs5Ni"
      },
      "source": [
        "4. scrivere un programma che inserisca in una lista tutti i numeri interi pari minori di un numero inserito dall’utente. Al termine, visualizzare la lista dei numeri e la lista al contrario\n"
      ]
    },
    {
      "cell_type": "code",
      "metadata": {
        "id": "GJ3Y9h7Zs-fy",
        "colab": {
          "base_uri": "https://localhost:8080/"
        },
        "outputId": "790360e1-000a-4d7a-e3ff-c2de5df43014"
      },
      "source": [
        "numero = int(input('Inserire numero: '))\n",
        "l = [int(elementi) for elementi in range(0,numero+1)]\n",
        "listanumeri = list(filter(lambda x: x%2 == 0, l))\n",
        "print(listanumeri)\n",
        "print(sorted(listanumeri,reverse=True))"
      ],
      "execution_count": null,
      "outputs": [
        {
          "output_type": "stream",
          "name": "stdout",
          "text": [
            "Inserire numero: 10\n",
            "[0, 2, 4, 6, 8, 10]\n",
            "[10, 8, 6, 4, 2, 0]\n"
          ]
        }
      ]
    },
    {
      "cell_type": "markdown",
      "metadata": {
        "id": "WA_mxzWns-rE"
      },
      "source": [
        "5. scrivere un programma che carichi in una lista chiamata “tutti” i numeri dispari compresi tra 0 e 90. Usando poi lo slicing, caricare in una lista chiamata “bassi” gli elementi della prima metà della lista “tutti” e in una lista chiamata “alti” gli elementi della seconda metà della lista. Al termine visualizzare le tre liste..\n"
      ]
    },
    {
      "cell_type": "code",
      "metadata": {
        "colab": {
          "base_uri": "https://localhost:8080/"
        },
        "id": "xLzV9zL1tBWD",
        "outputId": "dfc5b7c7-6705-48f7-973a-f32779f17bf7"
      },
      "source": [
        "tutti = [int(elementi) for elementi in range(0,90) if elementi%2 != 0]\n",
        "print(tutti)\n",
        "bassi = []\n",
        "alti = []\n",
        "for i in tutti:\n",
        "  if i < 50:\n",
        "    bassi.append(i)\n",
        "  else:\n",
        "    alti.append(i)\n",
        "print('Bassi = ',bassi)\n",
        "print('Alti = ',alti)"
      ],
      "execution_count": null,
      "outputs": [
        {
          "output_type": "stream",
          "name": "stdout",
          "text": [
            "[1, 3, 5, 7, 9, 11, 13, 15, 17, 19, 21, 23, 25, 27, 29, 31, 33, 35, 37, 39, 41, 43, 45, 47, 49, 51, 53, 55, 57, 59, 61, 63, 65, 67, 69, 71, 73, 75, 77, 79, 81, 83, 85, 87, 89]\n",
            "Bassi =  [1, 3, 5, 7, 9, 11, 13, 15, 17, 19, 21, 23, 25, 27, 29, 31, 33, 35, 37, 39, 41, 43, 45, 47, 49]\n",
            "Alti =  [51, 53, 55, 57, 59, 61, 63, 65, 67, 69, 71, 73, 75, 77, 79, 81, 83, 85, 87, 89]\n"
          ]
        }
      ]
    },
    {
      "cell_type": "markdown",
      "metadata": {
        "id": "aJ5n6W1VtDd6"
      },
      "source": [
        "6. scrivere una funzione chiamata volumeCubo che dato il lato in metri di un cubo calcoli il suo volume. Utilizzare poi quella funzione per scrivere un’altra funzione chiamata pesoCubo che permetta di calcolare il peso in kg di un cubo dato il suo lato in metri e la sua densità, espressa in grammi al centimetro cubo. Infine, scrivere un programma che calcoli il peso di un cubo di alluminio avente il lato di un metro (la densità dell’alluminio è di 2.7 g/cm3)\n"
      ]
    },
    {
      "cell_type": "code",
      "metadata": {
        "id": "jl162-mstFaa",
        "colab": {
          "base_uri": "https://localhost:8080/"
        },
        "outputId": "5f3d3333-b7ac-4f55-f041-f70cc9d081e7"
      },
      "source": [
        "def volumeCubo(x):\n",
        "  return x**3\n",
        "\n",
        "def pesoCubo(l,d):\n",
        "  return volumeCubo(l) * d\n",
        "print(pesoCubo(1,2.7*1000),'kg')"
      ],
      "execution_count": null,
      "outputs": [
        {
          "output_type": "stream",
          "name": "stdout",
          "text": [
            "2700.0 kg\n"
          ]
        }
      ]
    },
    {
      "cell_type": "markdown",
      "metadata": {
        "id": "JAbYGFRytFnD"
      },
      "source": [
        "7. data una lista di 100 numeri pari casuali caricata tramite una list comprehension, sostituire con uno zero tutti gli elementi della lista che sono multipli di 6\n"
      ]
    },
    {
      "cell_type": "code",
      "metadata": {
        "id": "8ec4DaHpkgd2"
      },
      "source": [
        ""
      ],
      "execution_count": null,
      "outputs": []
    },
    {
      "cell_type": "markdown",
      "metadata": {
        "id": "tCkromfctHyx"
      },
      "source": [
        "8. data una lista di 100 numeri pari casuali caricata tramite una list comprehension, eliminare tutti gli elementi della lista minori di un valore intero inserito dall’utente\n"
      ]
    },
    {
      "cell_type": "code",
      "metadata": {
        "colab": {
          "base_uri": "https://localhost:8080/"
        },
        "id": "KCpWLWNgtJsl",
        "outputId": "dcd62493-5d55-4bad-aea8-820e341c0c48"
      },
      "source": [
        "import random\n",
        "a = int(input('Inserire numero: '))\n",
        "\n",
        "lista = [random.randint(0,1000) for i in range(0,200)]\n",
        "lista2 = list(filter(lambda x: x%2 == 0, lista))\n",
        "lista3 = list(filter(lambda x: x < a,lista2))\n",
        "\n",
        "print(sorted(lista2))\n",
        "print(sorted(lista3))"
      ],
      "execution_count": null,
      "outputs": [
        {
          "output_type": "stream",
          "name": "stdout",
          "text": [
            "Inserire numero: 50\n",
            "[4, 20, 40, 52, 60, 74, 76, 90, 92, 96, 110, 112, 118, 130, 164, 168, 170, 182, 184, 190, 194, 202, 218, 222, 234, 248, 254, 258, 278, 284, 288, 308, 314, 324, 342, 344, 346, 356, 364, 382, 404, 416, 442, 448, 454, 456, 466, 478, 484, 490, 494, 498, 504, 544, 552, 558, 590, 628, 640, 648, 670, 686, 686, 706, 710, 714, 736, 742, 754, 770, 770, 772, 784, 784, 818, 820, 842, 846, 848, 848, 860, 864, 868, 882, 882, 886, 924, 924, 926, 928, 944, 948, 950, 974, 976, 976, 978, 980, 984]\n",
            "[4, 19, 20, 35, 40, 49]\n"
          ]
        }
      ]
    },
    {
      "cell_type": "markdown",
      "metadata": {
        "id": "nBVfbxfItJ7b"
      },
      "source": [
        "9. progettare una struttura dati che permetta di memorizzare l’orario di partenza e di arrivo dei treni della tratta Milano Roma dell’alta velocità. Ad esempio il treno 9645 parte alle 16.00 e arriva alle 19.10, il treno 9647 parte alle 16.30 e arriva alle 19.40 a Roma. Memorizzare nella struttura dati progettata queste informazioni e scrivere il codice necessario per cercare un treno ed avere l’ora di partenza e l’ora di arrivo. Se non c’è il treno che l’utente inserisce, dare un opportuno messaggio di errore.\n"
      ]
    },
    {
      "cell_type": "code",
      "metadata": {
        "colab": {
          "base_uri": "https://localhost:8080/"
        },
        "id": "o7Gory4xtLsC",
        "outputId": "ae4ae21d-3bb4-4c3c-bd53-ba6c86291ab5"
      },
      "source": [
        "milanoroma = [{'numerotreno':'9645','partenza':'16.00','arrivo':'19.10'},\n",
        "               {'numerotreno':'9647','partenza':'16.30','arrivo':'19.40'}]\n",
        "               \n",
        "infotreno = input('Inserire numero treno: ')\n",
        "for treno in milanoroma:\n",
        "  if treno['numerotreno'] == infotreno:\n",
        "    print(treno['partenza'],treno['arrivo'])\n"
      ],
      "execution_count": null,
      "outputs": [
        {
          "output_type": "stream",
          "name": "stdout",
          "text": [
            "Inserire numero treno: 9645\n",
            "16.00 19.10\n"
          ]
        }
      ]
    }
  ]
}