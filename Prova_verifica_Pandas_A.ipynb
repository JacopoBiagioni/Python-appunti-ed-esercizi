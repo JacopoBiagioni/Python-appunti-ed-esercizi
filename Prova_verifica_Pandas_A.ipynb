{
  "nbformat": 4,
  "nbformat_minor": 0,
  "metadata": {
    "colab": {
      "name": "Prova verifica Pandas A.ipynb",
      "provenance": [],
      "collapsed_sections": []
    },
    "kernelspec": {
      "name": "python3",
      "display_name": "Python 3"
    },
    "language_info": {
      "name": "python"
    }
  },
  "cells": [
    {
      "cell_type": "code",
      "metadata": {
        "id": "zey3MPR5jzmy"
      },
      "source": [
        "import pandas as pd"
      ],
      "execution_count": null,
      "outputs": []
    },
    {
      "cell_type": "code",
      "metadata": {
        "colab": {
          "base_uri": "https://localhost:8080/",
          "height": 419
        },
        "id": "bdTF4eB-kCYl",
        "outputId": "bde9689b-b915-4ab0-ef12-d86cf8d5dc51"
      },
      "source": [
        "url = 'https://gist.githubusercontent.com/tiangechen/b68782efa49a16edaf07dc2cdaa855ea/raw/0c794a9717f18b094eabab2cd6a6b9a226903577/movies.csv'\n",
        "df = pd.read_csv(url)\n",
        "df"
      ],
      "execution_count": null,
      "outputs": [
        {
          "output_type": "execute_result",
          "data": {
            "text/html": [
              "<div>\n",
              "<style scoped>\n",
              "    .dataframe tbody tr th:only-of-type {\n",
              "        vertical-align: middle;\n",
              "    }\n",
              "\n",
              "    .dataframe tbody tr th {\n",
              "        vertical-align: top;\n",
              "    }\n",
              "\n",
              "    .dataframe thead th {\n",
              "        text-align: right;\n",
              "    }\n",
              "</style>\n",
              "<table border=\"1\" class=\"dataframe\">\n",
              "  <thead>\n",
              "    <tr style=\"text-align: right;\">\n",
              "      <th></th>\n",
              "      <th>Film</th>\n",
              "      <th>Genre</th>\n",
              "      <th>Lead Studio</th>\n",
              "      <th>Audience score %</th>\n",
              "      <th>Profitability</th>\n",
              "      <th>Rotten Tomatoes %</th>\n",
              "      <th>Worldwide Gross</th>\n",
              "      <th>Year</th>\n",
              "    </tr>\n",
              "  </thead>\n",
              "  <tbody>\n",
              "    <tr>\n",
              "      <th>0</th>\n",
              "      <td>Zack and Miri Make a Porno</td>\n",
              "      <td>Romance</td>\n",
              "      <td>The Weinstein Company</td>\n",
              "      <td>70</td>\n",
              "      <td>1.747542</td>\n",
              "      <td>64</td>\n",
              "      <td>$41.94</td>\n",
              "      <td>2008</td>\n",
              "    </tr>\n",
              "    <tr>\n",
              "      <th>1</th>\n",
              "      <td>Youth in Revolt</td>\n",
              "      <td>Comedy</td>\n",
              "      <td>The Weinstein Company</td>\n",
              "      <td>52</td>\n",
              "      <td>1.090000</td>\n",
              "      <td>68</td>\n",
              "      <td>$19.62</td>\n",
              "      <td>2010</td>\n",
              "    </tr>\n",
              "    <tr>\n",
              "      <th>2</th>\n",
              "      <td>You Will Meet a Tall Dark Stranger</td>\n",
              "      <td>Comedy</td>\n",
              "      <td>Independent</td>\n",
              "      <td>35</td>\n",
              "      <td>1.211818</td>\n",
              "      <td>43</td>\n",
              "      <td>$26.66</td>\n",
              "      <td>2010</td>\n",
              "    </tr>\n",
              "    <tr>\n",
              "      <th>3</th>\n",
              "      <td>When in Rome</td>\n",
              "      <td>Comedy</td>\n",
              "      <td>Disney</td>\n",
              "      <td>44</td>\n",
              "      <td>0.000000</td>\n",
              "      <td>15</td>\n",
              "      <td>$43.04</td>\n",
              "      <td>2010</td>\n",
              "    </tr>\n",
              "    <tr>\n",
              "      <th>4</th>\n",
              "      <td>What Happens in Vegas</td>\n",
              "      <td>Comedy</td>\n",
              "      <td>Fox</td>\n",
              "      <td>72</td>\n",
              "      <td>6.267647</td>\n",
              "      <td>28</td>\n",
              "      <td>$219.37</td>\n",
              "      <td>2008</td>\n",
              "    </tr>\n",
              "    <tr>\n",
              "      <th>...</th>\n",
              "      <td>...</td>\n",
              "      <td>...</td>\n",
              "      <td>...</td>\n",
              "      <td>...</td>\n",
              "      <td>...</td>\n",
              "      <td>...</td>\n",
              "      <td>...</td>\n",
              "      <td>...</td>\n",
              "    </tr>\n",
              "    <tr>\n",
              "      <th>72</th>\n",
              "      <td>Across the Universe</td>\n",
              "      <td>romance</td>\n",
              "      <td>Independent</td>\n",
              "      <td>84</td>\n",
              "      <td>0.652603</td>\n",
              "      <td>54</td>\n",
              "      <td>$29.37</td>\n",
              "      <td>2007</td>\n",
              "    </tr>\n",
              "    <tr>\n",
              "      <th>73</th>\n",
              "      <td>A Serious Man</td>\n",
              "      <td>Drama</td>\n",
              "      <td>Universal</td>\n",
              "      <td>64</td>\n",
              "      <td>4.382857</td>\n",
              "      <td>89</td>\n",
              "      <td>$30.68</td>\n",
              "      <td>2009</td>\n",
              "    </tr>\n",
              "    <tr>\n",
              "      <th>74</th>\n",
              "      <td>A Dangerous Method</td>\n",
              "      <td>Drama</td>\n",
              "      <td>Independent</td>\n",
              "      <td>89</td>\n",
              "      <td>0.448645</td>\n",
              "      <td>79</td>\n",
              "      <td>$8.97</td>\n",
              "      <td>2011</td>\n",
              "    </tr>\n",
              "    <tr>\n",
              "      <th>75</th>\n",
              "      <td>27 Dresses</td>\n",
              "      <td>Comedy</td>\n",
              "      <td>Fox</td>\n",
              "      <td>71</td>\n",
              "      <td>5.343622</td>\n",
              "      <td>40</td>\n",
              "      <td>$160.31</td>\n",
              "      <td>2008</td>\n",
              "    </tr>\n",
              "    <tr>\n",
              "      <th>76</th>\n",
              "      <td>(500) Days of Summer</td>\n",
              "      <td>comedy</td>\n",
              "      <td>Fox</td>\n",
              "      <td>81</td>\n",
              "      <td>8.096000</td>\n",
              "      <td>87</td>\n",
              "      <td>$60.72</td>\n",
              "      <td>2009</td>\n",
              "    </tr>\n",
              "  </tbody>\n",
              "</table>\n",
              "<p>77 rows × 8 columns</p>\n",
              "</div>"
            ],
            "text/plain": [
              "                                  Film    Genre  ... Worldwide Gross  Year\n",
              "0           Zack and Miri Make a Porno  Romance  ...         $41.94   2008\n",
              "1                      Youth in Revolt   Comedy  ...         $19.62   2010\n",
              "2   You Will Meet a Tall Dark Stranger   Comedy  ...         $26.66   2010\n",
              "3                         When in Rome   Comedy  ...         $43.04   2010\n",
              "4                What Happens in Vegas   Comedy  ...        $219.37   2008\n",
              "..                                 ...      ...  ...             ...   ...\n",
              "72                 Across the Universe  romance  ...         $29.37   2007\n",
              "73                       A Serious Man    Drama  ...         $30.68   2009\n",
              "74                  A Dangerous Method    Drama  ...          $8.97   2011\n",
              "75                          27 Dresses   Comedy  ...        $160.31   2008\n",
              "76                (500) Days of Summer   comedy  ...         $60.72   2009\n",
              "\n",
              "[77 rows x 8 columns]"
            ]
          },
          "metadata": {},
          "execution_count": 3
        }
      ]
    },
    {
      "cell_type": "markdown",
      "metadata": {
        "id": "_U-BdnvCkJYf"
      },
      "source": [
        "1. Scrivere le istruzioni per caricare i dati del file csv (inventare il link e il nome del file) in un dataframe Pandas chiamato “movies”"
      ]
    },
    {
      "cell_type": "code",
      "metadata": {
        "colab": {
          "base_uri": "https://localhost:8080/",
          "height": 419
        },
        "id": "CNbTcqgqkQuE",
        "outputId": "71c1b732-30d3-4144-b7a0-f561bc9d72d2"
      },
      "source": [
        "movies = pd.DataFrame(df)\n",
        "movies"
      ],
      "execution_count": null,
      "outputs": [
        {
          "output_type": "execute_result",
          "data": {
            "text/html": [
              "<div>\n",
              "<style scoped>\n",
              "    .dataframe tbody tr th:only-of-type {\n",
              "        vertical-align: middle;\n",
              "    }\n",
              "\n",
              "    .dataframe tbody tr th {\n",
              "        vertical-align: top;\n",
              "    }\n",
              "\n",
              "    .dataframe thead th {\n",
              "        text-align: right;\n",
              "    }\n",
              "</style>\n",
              "<table border=\"1\" class=\"dataframe\">\n",
              "  <thead>\n",
              "    <tr style=\"text-align: right;\">\n",
              "      <th></th>\n",
              "      <th>Film</th>\n",
              "      <th>Genre</th>\n",
              "      <th>Lead Studio</th>\n",
              "      <th>Audience score %</th>\n",
              "      <th>Profitability</th>\n",
              "      <th>Rotten Tomatoes %</th>\n",
              "      <th>Worldwide Gross</th>\n",
              "      <th>Year</th>\n",
              "    </tr>\n",
              "  </thead>\n",
              "  <tbody>\n",
              "    <tr>\n",
              "      <th>0</th>\n",
              "      <td>Zack and Miri Make a Porno</td>\n",
              "      <td>Romance</td>\n",
              "      <td>The Weinstein Company</td>\n",
              "      <td>70</td>\n",
              "      <td>1.747542</td>\n",
              "      <td>64</td>\n",
              "      <td>$41.94</td>\n",
              "      <td>2008</td>\n",
              "    </tr>\n",
              "    <tr>\n",
              "      <th>1</th>\n",
              "      <td>Youth in Revolt</td>\n",
              "      <td>Comedy</td>\n",
              "      <td>The Weinstein Company</td>\n",
              "      <td>52</td>\n",
              "      <td>1.090000</td>\n",
              "      <td>68</td>\n",
              "      <td>$19.62</td>\n",
              "      <td>2010</td>\n",
              "    </tr>\n",
              "    <tr>\n",
              "      <th>2</th>\n",
              "      <td>You Will Meet a Tall Dark Stranger</td>\n",
              "      <td>Comedy</td>\n",
              "      <td>Independent</td>\n",
              "      <td>35</td>\n",
              "      <td>1.211818</td>\n",
              "      <td>43</td>\n",
              "      <td>$26.66</td>\n",
              "      <td>2010</td>\n",
              "    </tr>\n",
              "    <tr>\n",
              "      <th>3</th>\n",
              "      <td>When in Rome</td>\n",
              "      <td>Comedy</td>\n",
              "      <td>Disney</td>\n",
              "      <td>44</td>\n",
              "      <td>0.000000</td>\n",
              "      <td>15</td>\n",
              "      <td>$43.04</td>\n",
              "      <td>2010</td>\n",
              "    </tr>\n",
              "    <tr>\n",
              "      <th>4</th>\n",
              "      <td>What Happens in Vegas</td>\n",
              "      <td>Comedy</td>\n",
              "      <td>Fox</td>\n",
              "      <td>72</td>\n",
              "      <td>6.267647</td>\n",
              "      <td>28</td>\n",
              "      <td>$219.37</td>\n",
              "      <td>2008</td>\n",
              "    </tr>\n",
              "    <tr>\n",
              "      <th>...</th>\n",
              "      <td>...</td>\n",
              "      <td>...</td>\n",
              "      <td>...</td>\n",
              "      <td>...</td>\n",
              "      <td>...</td>\n",
              "      <td>...</td>\n",
              "      <td>...</td>\n",
              "      <td>...</td>\n",
              "    </tr>\n",
              "    <tr>\n",
              "      <th>72</th>\n",
              "      <td>Across the Universe</td>\n",
              "      <td>romance</td>\n",
              "      <td>Independent</td>\n",
              "      <td>84</td>\n",
              "      <td>0.652603</td>\n",
              "      <td>54</td>\n",
              "      <td>$29.37</td>\n",
              "      <td>2007</td>\n",
              "    </tr>\n",
              "    <tr>\n",
              "      <th>73</th>\n",
              "      <td>A Serious Man</td>\n",
              "      <td>Drama</td>\n",
              "      <td>Universal</td>\n",
              "      <td>64</td>\n",
              "      <td>4.382857</td>\n",
              "      <td>89</td>\n",
              "      <td>$30.68</td>\n",
              "      <td>2009</td>\n",
              "    </tr>\n",
              "    <tr>\n",
              "      <th>74</th>\n",
              "      <td>A Dangerous Method</td>\n",
              "      <td>Drama</td>\n",
              "      <td>Independent</td>\n",
              "      <td>89</td>\n",
              "      <td>0.448645</td>\n",
              "      <td>79</td>\n",
              "      <td>$8.97</td>\n",
              "      <td>2011</td>\n",
              "    </tr>\n",
              "    <tr>\n",
              "      <th>75</th>\n",
              "      <td>27 Dresses</td>\n",
              "      <td>Comedy</td>\n",
              "      <td>Fox</td>\n",
              "      <td>71</td>\n",
              "      <td>5.343622</td>\n",
              "      <td>40</td>\n",
              "      <td>$160.31</td>\n",
              "      <td>2008</td>\n",
              "    </tr>\n",
              "    <tr>\n",
              "      <th>76</th>\n",
              "      <td>(500) Days of Summer</td>\n",
              "      <td>comedy</td>\n",
              "      <td>Fox</td>\n",
              "      <td>81</td>\n",
              "      <td>8.096000</td>\n",
              "      <td>87</td>\n",
              "      <td>$60.72</td>\n",
              "      <td>2009</td>\n",
              "    </tr>\n",
              "  </tbody>\n",
              "</table>\n",
              "<p>77 rows × 8 columns</p>\n",
              "</div>"
            ],
            "text/plain": [
              "                                  Film    Genre  ... Worldwide Gross  Year\n",
              "0           Zack and Miri Make a Porno  Romance  ...         $41.94   2008\n",
              "1                      Youth in Revolt   Comedy  ...         $19.62   2010\n",
              "2   You Will Meet a Tall Dark Stranger   Comedy  ...         $26.66   2010\n",
              "3                         When in Rome   Comedy  ...         $43.04   2010\n",
              "4                What Happens in Vegas   Comedy  ...        $219.37   2008\n",
              "..                                 ...      ...  ...             ...   ...\n",
              "72                 Across the Universe  romance  ...         $29.37   2007\n",
              "73                       A Serious Man    Drama  ...         $30.68   2009\n",
              "74                  A Dangerous Method    Drama  ...          $8.97   2011\n",
              "75                          27 Dresses   Comedy  ...        $160.31   2008\n",
              "76                (500) Days of Summer   comedy  ...         $60.72   2009\n",
              "\n",
              "[77 rows x 8 columns]"
            ]
          },
          "metadata": {},
          "execution_count": 4
        }
      ]
    },
    {
      "cell_type": "markdown",
      "metadata": {
        "id": "TwCP903Ikb61"
      },
      "source": [
        "2. visualizzare le ultime 8 righe del dataframe\n"
      ]
    },
    {
      "cell_type": "code",
      "metadata": {
        "colab": {
          "base_uri": "https://localhost:8080/",
          "height": 297
        },
        "id": "hGP8UQ37kd-0",
        "outputId": "fff525fa-9fc2-470b-99b8-003018809660"
      },
      "source": [
        "movies.tail(8)"
      ],
      "execution_count": null,
      "outputs": [
        {
          "output_type": "execute_result",
          "data": {
            "text/html": [
              "<div>\n",
              "<style scoped>\n",
              "    .dataframe tbody tr th:only-of-type {\n",
              "        vertical-align: middle;\n",
              "    }\n",
              "\n",
              "    .dataframe tbody tr th {\n",
              "        vertical-align: top;\n",
              "    }\n",
              "\n",
              "    .dataframe thead th {\n",
              "        text-align: right;\n",
              "    }\n",
              "</style>\n",
              "<table border=\"1\" class=\"dataframe\">\n",
              "  <thead>\n",
              "    <tr style=\"text-align: right;\">\n",
              "      <th></th>\n",
              "      <th>Film</th>\n",
              "      <th>Genre</th>\n",
              "      <th>Lead Studio</th>\n",
              "      <th>Audience score %</th>\n",
              "      <th>Profitability</th>\n",
              "      <th>Rotten Tomatoes %</th>\n",
              "      <th>Worldwide Gross</th>\n",
              "      <th>Year</th>\n",
              "    </tr>\n",
              "  </thead>\n",
              "  <tbody>\n",
              "    <tr>\n",
              "      <th>69</th>\n",
              "      <td>Enchanted</td>\n",
              "      <td>Comedy</td>\n",
              "      <td>Disney</td>\n",
              "      <td>80</td>\n",
              "      <td>4.005737</td>\n",
              "      <td>93</td>\n",
              "      <td>$340.49</td>\n",
              "      <td>2007</td>\n",
              "    </tr>\n",
              "    <tr>\n",
              "      <th>70</th>\n",
              "      <td>Dear John</td>\n",
              "      <td>Drama</td>\n",
              "      <td>Sony</td>\n",
              "      <td>66</td>\n",
              "      <td>4.598800</td>\n",
              "      <td>29</td>\n",
              "      <td>$114.97</td>\n",
              "      <td>2010</td>\n",
              "    </tr>\n",
              "    <tr>\n",
              "      <th>71</th>\n",
              "      <td>Beginners</td>\n",
              "      <td>Comedy</td>\n",
              "      <td>Independent</td>\n",
              "      <td>80</td>\n",
              "      <td>4.471875</td>\n",
              "      <td>84</td>\n",
              "      <td>$14.31</td>\n",
              "      <td>2011</td>\n",
              "    </tr>\n",
              "    <tr>\n",
              "      <th>72</th>\n",
              "      <td>Across the Universe</td>\n",
              "      <td>romance</td>\n",
              "      <td>Independent</td>\n",
              "      <td>84</td>\n",
              "      <td>0.652603</td>\n",
              "      <td>54</td>\n",
              "      <td>$29.37</td>\n",
              "      <td>2007</td>\n",
              "    </tr>\n",
              "    <tr>\n",
              "      <th>73</th>\n",
              "      <td>A Serious Man</td>\n",
              "      <td>Drama</td>\n",
              "      <td>Universal</td>\n",
              "      <td>64</td>\n",
              "      <td>4.382857</td>\n",
              "      <td>89</td>\n",
              "      <td>$30.68</td>\n",
              "      <td>2009</td>\n",
              "    </tr>\n",
              "    <tr>\n",
              "      <th>74</th>\n",
              "      <td>A Dangerous Method</td>\n",
              "      <td>Drama</td>\n",
              "      <td>Independent</td>\n",
              "      <td>89</td>\n",
              "      <td>0.448645</td>\n",
              "      <td>79</td>\n",
              "      <td>$8.97</td>\n",
              "      <td>2011</td>\n",
              "    </tr>\n",
              "    <tr>\n",
              "      <th>75</th>\n",
              "      <td>27 Dresses</td>\n",
              "      <td>Comedy</td>\n",
              "      <td>Fox</td>\n",
              "      <td>71</td>\n",
              "      <td>5.343622</td>\n",
              "      <td>40</td>\n",
              "      <td>$160.31</td>\n",
              "      <td>2008</td>\n",
              "    </tr>\n",
              "    <tr>\n",
              "      <th>76</th>\n",
              "      <td>(500) Days of Summer</td>\n",
              "      <td>comedy</td>\n",
              "      <td>Fox</td>\n",
              "      <td>81</td>\n",
              "      <td>8.096000</td>\n",
              "      <td>87</td>\n",
              "      <td>$60.72</td>\n",
              "      <td>2009</td>\n",
              "    </tr>\n",
              "  </tbody>\n",
              "</table>\n",
              "</div>"
            ],
            "text/plain": [
              "                    Film    Genre  ... Worldwide Gross  Year\n",
              "69             Enchanted   Comedy  ...        $340.49   2007\n",
              "70             Dear John    Drama  ...        $114.97   2010\n",
              "71             Beginners   Comedy  ...         $14.31   2011\n",
              "72   Across the Universe  romance  ...         $29.37   2007\n",
              "73         A Serious Man    Drama  ...         $30.68   2009\n",
              "74    A Dangerous Method    Drama  ...          $8.97   2011\n",
              "75            27 Dresses   Comedy  ...        $160.31   2008\n",
              "76  (500) Days of Summer   comedy  ...         $60.72   2009\n",
              "\n",
              "[8 rows x 8 columns]"
            ]
          },
          "metadata": {},
          "execution_count": 5
        }
      ]
    },
    {
      "cell_type": "markdown",
      "metadata": {
        "id": "AJc_QUXlkpXm"
      },
      "source": [
        "3. visualizzare solo le colonne che contengono il titolo e il genere del film\n"
      ]
    },
    {
      "cell_type": "code",
      "metadata": {
        "colab": {
          "base_uri": "https://localhost:8080/",
          "height": 419
        },
        "id": "98Z2shFMksCU",
        "outputId": "73eede75-ff2b-4c3a-b897-dee292f6f5bf"
      },
      "source": [
        "movies[['Film','Genre']]"
      ],
      "execution_count": null,
      "outputs": [
        {
          "output_type": "execute_result",
          "data": {
            "text/html": [
              "<div>\n",
              "<style scoped>\n",
              "    .dataframe tbody tr th:only-of-type {\n",
              "        vertical-align: middle;\n",
              "    }\n",
              "\n",
              "    .dataframe tbody tr th {\n",
              "        vertical-align: top;\n",
              "    }\n",
              "\n",
              "    .dataframe thead th {\n",
              "        text-align: right;\n",
              "    }\n",
              "</style>\n",
              "<table border=\"1\" class=\"dataframe\">\n",
              "  <thead>\n",
              "    <tr style=\"text-align: right;\">\n",
              "      <th></th>\n",
              "      <th>Film</th>\n",
              "      <th>Genre</th>\n",
              "    </tr>\n",
              "  </thead>\n",
              "  <tbody>\n",
              "    <tr>\n",
              "      <th>0</th>\n",
              "      <td>Zack and Miri Make a Porno</td>\n",
              "      <td>Romance</td>\n",
              "    </tr>\n",
              "    <tr>\n",
              "      <th>1</th>\n",
              "      <td>Youth in Revolt</td>\n",
              "      <td>Comedy</td>\n",
              "    </tr>\n",
              "    <tr>\n",
              "      <th>2</th>\n",
              "      <td>You Will Meet a Tall Dark Stranger</td>\n",
              "      <td>Comedy</td>\n",
              "    </tr>\n",
              "    <tr>\n",
              "      <th>3</th>\n",
              "      <td>When in Rome</td>\n",
              "      <td>Comedy</td>\n",
              "    </tr>\n",
              "    <tr>\n",
              "      <th>4</th>\n",
              "      <td>What Happens in Vegas</td>\n",
              "      <td>Comedy</td>\n",
              "    </tr>\n",
              "    <tr>\n",
              "      <th>...</th>\n",
              "      <td>...</td>\n",
              "      <td>...</td>\n",
              "    </tr>\n",
              "    <tr>\n",
              "      <th>72</th>\n",
              "      <td>Across the Universe</td>\n",
              "      <td>romance</td>\n",
              "    </tr>\n",
              "    <tr>\n",
              "      <th>73</th>\n",
              "      <td>A Serious Man</td>\n",
              "      <td>Drama</td>\n",
              "    </tr>\n",
              "    <tr>\n",
              "      <th>74</th>\n",
              "      <td>A Dangerous Method</td>\n",
              "      <td>Drama</td>\n",
              "    </tr>\n",
              "    <tr>\n",
              "      <th>75</th>\n",
              "      <td>27 Dresses</td>\n",
              "      <td>Comedy</td>\n",
              "    </tr>\n",
              "    <tr>\n",
              "      <th>76</th>\n",
              "      <td>(500) Days of Summer</td>\n",
              "      <td>comedy</td>\n",
              "    </tr>\n",
              "  </tbody>\n",
              "</table>\n",
              "<p>77 rows × 2 columns</p>\n",
              "</div>"
            ],
            "text/plain": [
              "                                  Film    Genre\n",
              "0           Zack and Miri Make a Porno  Romance\n",
              "1                      Youth in Revolt   Comedy\n",
              "2   You Will Meet a Tall Dark Stranger   Comedy\n",
              "3                         When in Rome   Comedy\n",
              "4                What Happens in Vegas   Comedy\n",
              "..                                 ...      ...\n",
              "72                 Across the Universe  romance\n",
              "73                       A Serious Man    Drama\n",
              "74                  A Dangerous Method    Drama\n",
              "75                          27 Dresses   Comedy\n",
              "76                (500) Days of Summer   comedy\n",
              "\n",
              "[77 rows x 2 columns]"
            ]
          },
          "metadata": {},
          "execution_count": 6
        }
      ]
    },
    {
      "cell_type": "markdown",
      "metadata": {
        "id": "9DPPWjvIk5ZV"
      },
      "source": [
        "4. visualizzare le righe del dataframe dalla 20 alla 30\n"
      ]
    },
    {
      "cell_type": "code",
      "metadata": {
        "colab": {
          "base_uri": "https://localhost:8080/",
          "height": 359
        },
        "id": "81I3Bv1kk7M0",
        "outputId": "c31d1d3e-2546-4d55-e5bd-84ffcb3eff85"
      },
      "source": [
        "movies[20:30]"
      ],
      "execution_count": null,
      "outputs": [
        {
          "output_type": "execute_result",
          "data": {
            "text/html": [
              "<div>\n",
              "<style scoped>\n",
              "    .dataframe tbody tr th:only-of-type {\n",
              "        vertical-align: middle;\n",
              "    }\n",
              "\n",
              "    .dataframe tbody tr th {\n",
              "        vertical-align: top;\n",
              "    }\n",
              "\n",
              "    .dataframe thead th {\n",
              "        text-align: right;\n",
              "    }\n",
              "</style>\n",
              "<table border=\"1\" class=\"dataframe\">\n",
              "  <thead>\n",
              "    <tr style=\"text-align: right;\">\n",
              "      <th></th>\n",
              "      <th>Film</th>\n",
              "      <th>Genre</th>\n",
              "      <th>Lead Studio</th>\n",
              "      <th>Audience score %</th>\n",
              "      <th>Profitability</th>\n",
              "      <th>Rotten Tomatoes %</th>\n",
              "      <th>Worldwide Gross</th>\n",
              "      <th>Year</th>\n",
              "    </tr>\n",
              "  </thead>\n",
              "  <tbody>\n",
              "    <tr>\n",
              "      <th>20</th>\n",
              "      <td>The Curious Case of Benjamin Button</td>\n",
              "      <td>Fantasy</td>\n",
              "      <td>Warner Bros.</td>\n",
              "      <td>81</td>\n",
              "      <td>1.783944</td>\n",
              "      <td>73</td>\n",
              "      <td>$285.43</td>\n",
              "      <td>2008</td>\n",
              "    </tr>\n",
              "    <tr>\n",
              "      <th>21</th>\n",
              "      <td>The Back-up Plan</td>\n",
              "      <td>Comedy</td>\n",
              "      <td>CBS</td>\n",
              "      <td>47</td>\n",
              "      <td>2.202571</td>\n",
              "      <td>20</td>\n",
              "      <td>$77.09</td>\n",
              "      <td>2010</td>\n",
              "    </tr>\n",
              "    <tr>\n",
              "      <th>22</th>\n",
              "      <td>Tangled</td>\n",
              "      <td>Animation</td>\n",
              "      <td>Disney</td>\n",
              "      <td>88</td>\n",
              "      <td>1.365692</td>\n",
              "      <td>89</td>\n",
              "      <td>$355.01</td>\n",
              "      <td>2010</td>\n",
              "    </tr>\n",
              "    <tr>\n",
              "      <th>23</th>\n",
              "      <td>Something Borrowed</td>\n",
              "      <td>Romance</td>\n",
              "      <td>Independent</td>\n",
              "      <td>48</td>\n",
              "      <td>1.719514</td>\n",
              "      <td>15</td>\n",
              "      <td>$60.18</td>\n",
              "      <td>2011</td>\n",
              "    </tr>\n",
              "    <tr>\n",
              "      <th>24</th>\n",
              "      <td>She's Out of My League</td>\n",
              "      <td>Comedy</td>\n",
              "      <td>Paramount</td>\n",
              "      <td>60</td>\n",
              "      <td>2.440500</td>\n",
              "      <td>57</td>\n",
              "      <td>$48.81</td>\n",
              "      <td>2010</td>\n",
              "    </tr>\n",
              "    <tr>\n",
              "      <th>25</th>\n",
              "      <td>Sex and the City Two</td>\n",
              "      <td>Comedy</td>\n",
              "      <td>Warner Bros.</td>\n",
              "      <td>49</td>\n",
              "      <td>2.883500</td>\n",
              "      <td>15</td>\n",
              "      <td>$288.35</td>\n",
              "      <td>2010</td>\n",
              "    </tr>\n",
              "    <tr>\n",
              "      <th>26</th>\n",
              "      <td>Sex and the City 2</td>\n",
              "      <td>Comedy</td>\n",
              "      <td>Warner Bros.</td>\n",
              "      <td>49</td>\n",
              "      <td>2.883500</td>\n",
              "      <td>15</td>\n",
              "      <td>$288.35</td>\n",
              "      <td>2010</td>\n",
              "    </tr>\n",
              "    <tr>\n",
              "      <th>27</th>\n",
              "      <td>Sex and the City</td>\n",
              "      <td>Comedy</td>\n",
              "      <td>Warner Bros.</td>\n",
              "      <td>81</td>\n",
              "      <td>7.221796</td>\n",
              "      <td>49</td>\n",
              "      <td>$415.25</td>\n",
              "      <td>2008</td>\n",
              "    </tr>\n",
              "    <tr>\n",
              "      <th>28</th>\n",
              "      <td>Remember Me</td>\n",
              "      <td>Drama</td>\n",
              "      <td>Summit</td>\n",
              "      <td>70</td>\n",
              "      <td>3.491250</td>\n",
              "      <td>28</td>\n",
              "      <td>$55.86</td>\n",
              "      <td>2010</td>\n",
              "    </tr>\n",
              "    <tr>\n",
              "      <th>29</th>\n",
              "      <td>Rachel Getting Married</td>\n",
              "      <td>Drama</td>\n",
              "      <td>Independent</td>\n",
              "      <td>61</td>\n",
              "      <td>1.384167</td>\n",
              "      <td>85</td>\n",
              "      <td>$16.61</td>\n",
              "      <td>2008</td>\n",
              "    </tr>\n",
              "  </tbody>\n",
              "</table>\n",
              "</div>"
            ],
            "text/plain": [
              "                                   Film      Genre  ... Worldwide Gross  Year\n",
              "20  The Curious Case of Benjamin Button    Fantasy  ...        $285.43   2008\n",
              "21                     The Back-up Plan     Comedy  ...         $77.09   2010\n",
              "22                              Tangled  Animation  ...        $355.01   2010\n",
              "23                   Something Borrowed    Romance  ...         $60.18   2011\n",
              "24               She's Out of My League     Comedy  ...         $48.81   2010\n",
              "25                 Sex and the City Two     Comedy  ...        $288.35   2010\n",
              "26                   Sex and the City 2     Comedy  ...        $288.35   2010\n",
              "27                     Sex and the City     Comedy  ...        $415.25   2008\n",
              "28                          Remember Me      Drama  ...         $55.86   2010\n",
              "29               Rachel Getting Married      Drama  ...         $16.61   2008\n",
              "\n",
              "[10 rows x 8 columns]"
            ]
          },
          "metadata": {},
          "execution_count": 9
        }
      ]
    },
    {
      "cell_type": "markdown",
      "metadata": {
        "id": "K2EAspMDlQW9"
      },
      "source": [
        "5. visualizzare i titolo e l’anno dei film che si trovano nelle posizioni 23, 29 e 45\n"
      ]
    },
    {
      "cell_type": "code",
      "metadata": {
        "colab": {
          "base_uri": "https://localhost:8080/",
          "height": 142
        },
        "id": "IIwvl5TSlW0u",
        "outputId": "9d160fca-603e-491e-c5dc-ea0e2471eced"
      },
      "source": [
        "movies.loc[[23,29,45],['Film','Year']]"
      ],
      "execution_count": null,
      "outputs": [
        {
          "output_type": "execute_result",
          "data": {
            "text/html": [
              "<div>\n",
              "<style scoped>\n",
              "    .dataframe tbody tr th:only-of-type {\n",
              "        vertical-align: middle;\n",
              "    }\n",
              "\n",
              "    .dataframe tbody tr th {\n",
              "        vertical-align: top;\n",
              "    }\n",
              "\n",
              "    .dataframe thead th {\n",
              "        text-align: right;\n",
              "    }\n",
              "</style>\n",
              "<table border=\"1\" class=\"dataframe\">\n",
              "  <thead>\n",
              "    <tr style=\"text-align: right;\">\n",
              "      <th></th>\n",
              "      <th>Film</th>\n",
              "      <th>Year</th>\n",
              "    </tr>\n",
              "  </thead>\n",
              "  <tbody>\n",
              "    <tr>\n",
              "      <th>23</th>\n",
              "      <td>Something Borrowed</td>\n",
              "      <td>2011</td>\n",
              "    </tr>\n",
              "    <tr>\n",
              "      <th>29</th>\n",
              "      <td>Rachel Getting Married</td>\n",
              "      <td>2008</td>\n",
              "    </tr>\n",
              "    <tr>\n",
              "      <th>45</th>\n",
              "      <td>Mamma Mia!</td>\n",
              "      <td>2008</td>\n",
              "    </tr>\n",
              "  </tbody>\n",
              "</table>\n",
              "</div>"
            ],
            "text/plain": [
              "                      Film  Year\n",
              "23      Something Borrowed  2011\n",
              "29  Rachel Getting Married  2008\n",
              "45              Mamma Mia!  2008"
            ]
          },
          "metadata": {},
          "execution_count": 10
        }
      ]
    },
    {
      "cell_type": "markdown",
      "metadata": {
        "id": "F4DD6tc4nMGD"
      },
      "source": [
        "6. visualizzare i titoli dei film del genere “Animation”\n"
      ]
    },
    {
      "cell_type": "code",
      "metadata": {
        "colab": {
          "base_uri": "https://localhost:8080/",
          "height": 173
        },
        "id": "RmVwh2GpnOKk",
        "outputId": "c9b20276-ea03-4c5b-f24a-991c1e4c2da3"
      },
      "source": [
        "movies[movies['Genre'] == 'Animation']"
      ],
      "execution_count": null,
      "outputs": [
        {
          "output_type": "execute_result",
          "data": {
            "text/html": [
              "<div>\n",
              "<style scoped>\n",
              "    .dataframe tbody tr th:only-of-type {\n",
              "        vertical-align: middle;\n",
              "    }\n",
              "\n",
              "    .dataframe tbody tr th {\n",
              "        vertical-align: top;\n",
              "    }\n",
              "\n",
              "    .dataframe thead th {\n",
              "        text-align: right;\n",
              "    }\n",
              "</style>\n",
              "<table border=\"1\" class=\"dataframe\">\n",
              "  <thead>\n",
              "    <tr style=\"text-align: right;\">\n",
              "      <th></th>\n",
              "      <th>Film</th>\n",
              "      <th>Genre</th>\n",
              "      <th>Lead Studio</th>\n",
              "      <th>Audience score %</th>\n",
              "      <th>Profitability</th>\n",
              "      <th>Rotten Tomatoes %</th>\n",
              "      <th>Worldwide Gross</th>\n",
              "      <th>Year</th>\n",
              "    </tr>\n",
              "  </thead>\n",
              "  <tbody>\n",
              "    <tr>\n",
              "      <th>6</th>\n",
              "      <td>WALL-E</td>\n",
              "      <td>Animation</td>\n",
              "      <td>Disney</td>\n",
              "      <td>89</td>\n",
              "      <td>2.896019</td>\n",
              "      <td>96</td>\n",
              "      <td>$521.28</td>\n",
              "      <td>2008</td>\n",
              "    </tr>\n",
              "    <tr>\n",
              "      <th>22</th>\n",
              "      <td>Tangled</td>\n",
              "      <td>Animation</td>\n",
              "      <td>Disney</td>\n",
              "      <td>88</td>\n",
              "      <td>1.365692</td>\n",
              "      <td>89</td>\n",
              "      <td>$355.01</td>\n",
              "      <td>2010</td>\n",
              "    </tr>\n",
              "    <tr>\n",
              "      <th>64</th>\n",
              "      <td>Gnomeo and Juliet</td>\n",
              "      <td>Animation</td>\n",
              "      <td>Disney</td>\n",
              "      <td>52</td>\n",
              "      <td>5.387972</td>\n",
              "      <td>56</td>\n",
              "      <td>$193.97</td>\n",
              "      <td>2011</td>\n",
              "    </tr>\n",
              "    <tr>\n",
              "      <th>65</th>\n",
              "      <td>Gnomeo and Juliet</td>\n",
              "      <td>Animation</td>\n",
              "      <td>Disney</td>\n",
              "      <td>52</td>\n",
              "      <td>5.387972</td>\n",
              "      <td>56</td>\n",
              "      <td>$193.97</td>\n",
              "      <td>2011</td>\n",
              "    </tr>\n",
              "  </tbody>\n",
              "</table>\n",
              "</div>"
            ],
            "text/plain": [
              "                 Film      Genre  ... Worldwide Gross  Year\n",
              "6              WALL-E  Animation  ...        $521.28   2008\n",
              "22            Tangled  Animation  ...        $355.01   2010\n",
              "64  Gnomeo and Juliet  Animation  ...        $193.97   2011\n",
              "65  Gnomeo and Juliet  Animation  ...        $193.97   2011\n",
              "\n",
              "[4 rows x 8 columns]"
            ]
          },
          "metadata": {},
          "execution_count": 11
        }
      ]
    },
    {
      "cell_type": "markdown",
      "metadata": {
        "id": "zWNywUwEneVr"
      },
      "source": [
        "7. visualizzare i titoli dei film prodotti dalla “Disney” e dalla “20th Century Fox”\n"
      ]
    },
    {
      "cell_type": "code",
      "metadata": {
        "colab": {
          "base_uri": "https://localhost:8080/"
        },
        "id": "HHKmq3Ainf7E",
        "outputId": "c5f4048e-0d6e-47f6-b406-9ac665218fc7"
      },
      "source": [
        "movies.loc[movies['Lead Studio'] == 'Disney', 'Film']"
      ],
      "execution_count": null,
      "outputs": [
        {
          "output_type": "execute_result",
          "data": {
            "text/plain": [
              "3                           When in Rome\n",
              "6                                 WALL-E\n",
              "16                          The Proposal\n",
              "22                               Tangled\n",
              "60    High School Musical 3: Senior Year\n",
              "64                     Gnomeo and Juliet\n",
              "65                     Gnomeo and Juliet\n",
              "69                             Enchanted\n",
              "Name: Film, dtype: object"
            ]
          },
          "metadata": {},
          "execution_count": 12
        }
      ]
    },
    {
      "cell_type": "code",
      "metadata": {
        "colab": {
          "base_uri": "https://localhost:8080/"
        },
        "id": "oLgk9M-mp7Os",
        "outputId": "7d199101-ebe6-4c21-fe99-c599c8cbc7b3"
      },
      "source": [
        "movies.loc[movies['Lead Studio'] == '20th Century Fox', 'Film']"
      ],
      "execution_count": null,
      "outputs": [
        {
          "output_type": "execute_result",
          "data": {
            "text/plain": [
              "5     Water For Elephants\n",
              "41            Monte Carlo\n",
              "Name: Film, dtype: object"
            ]
          },
          "metadata": {},
          "execution_count": 13
        }
      ]
    },
    {
      "cell_type": "markdown",
      "metadata": {
        "id": "AT-uaiBWp_Y5"
      },
      "source": [
        "8. visualizzare i titoli dei film usciti dal 2005 al 2010\n"
      ]
    },
    {
      "cell_type": "code",
      "metadata": {
        "colab": {
          "base_uri": "https://localhost:8080/"
        },
        "id": "3Y2dcS5sqBVB",
        "outputId": "92511ccf-cd54-45b6-e7b4-6ddedb328286"
      },
      "source": [
        "movies.loc[(movies['Year'] < 2010) & (movies['Year'] > 2005), 'Film']"
      ],
      "execution_count": null,
      "outputs": [
        {
          "output_type": "execute_result",
          "data": {
            "text/plain": [
              "0              Zack and Miri Make a Porno\n",
              "4                   What Happens in Vegas\n",
              "6                                  WALL-E\n",
              "7                                Waitress\n",
              "10    Tyler Perry's Why Did I get Married\n",
              "12                               Twilight\n",
              "13                         The Ugly Truth\n",
              "14            The Twilight Saga: New Moon\n",
              "15               The Time Traveler's Wife\n",
              "16                           The Proposal\n",
              "17                 The Invention of Lying\n",
              "18                     The Heartbreak Kid\n",
              "19                            The Duchess\n",
              "20    The Curious Case of Benjamin Button\n",
              "27                       Sex and the City\n",
              "29                 Rachel Getting Married\n",
              "30                               Penelope\n",
              "31                        P.S. I Love You\n",
              "32                     Over Her Dead Body\n",
              "35                      Not Easily Broken\n",
              "36                        No Reservations\n",
              "37     Nick and Norah's Infinite Playlist\n",
              "40                       Music and Lyrics\n",
              "42         Miss Pettigrew Lives for a Day\n",
              "44                          Marley and Me\n",
              "45                             Mamma Mia!\n",
              "46                             Mamma Mia!\n",
              "47                          Made of Honor\n",
              "48                           Love Happens\n",
              "51                         License to Wed\n",
              "54                             Knocked Up\n",
              "58                       It's Complicated\n",
              "60     High School Musical 3: Senior Year\n",
              "61            He's Just Not That Into You\n",
              "62                        Good Luck Chuck\n",
              "66             Ghosts of Girlfriends Past\n",
              "67                       Four Christmases\n",
              "68                              Fireproof\n",
              "69                              Enchanted\n",
              "72                    Across the Universe\n",
              "73                          A Serious Man\n",
              "75                             27 Dresses\n",
              "76                   (500) Days of Summer\n",
              "Name: Film, dtype: object"
            ]
          },
          "metadata": {},
          "execution_count": 14
        }
      ]
    },
    {
      "cell_type": "markdown",
      "metadata": {
        "id": "aQrlUThYqeEc"
      },
      "source": [
        "9. visualizzare i film (tutte le colonne) il cui titolo comincia con la lettera W\n"
      ]
    },
    {
      "cell_type": "code",
      "metadata": {
        "id": "fb25woDWqgFr",
        "colab": {
          "base_uri": "https://localhost:8080/"
        },
        "outputId": "5b4866b0-f5d9-4bfd-da93-cea05eab1371"
      },
      "source": [
        "movies['Film'].str.startswith('W')"
      ],
      "execution_count": null,
      "outputs": [
        {
          "output_type": "execute_result",
          "data": {
            "text/plain": [
              "0     False\n",
              "1     False\n",
              "2     False\n",
              "3      True\n",
              "4      True\n",
              "      ...  \n",
              "72    False\n",
              "73    False\n",
              "74    False\n",
              "75    False\n",
              "76    False\n",
              "Name: Film, Length: 77, dtype: bool"
            ]
          },
          "metadata": {},
          "execution_count": 15
        }
      ]
    },
    {
      "cell_type": "markdown",
      "metadata": {
        "id": "QBesFEs4qpVb"
      },
      "source": [
        "10. visualizzare l’ “Audience score %” medio dei film del genere “Drama”\n"
      ]
    },
    {
      "cell_type": "code",
      "metadata": {
        "colab": {
          "base_uri": "https://localhost:8080/"
        },
        "id": "Odhqf0dcqrfG",
        "outputId": "5ac3404a-0f68-45b9-c8a1-d380e9e7cb5d"
      },
      "source": [
        "movies[movies['Genre']=='Drama']['Audience score %'].mean()"
      ],
      "execution_count": null,
      "outputs": [
        {
          "output_type": "execute_result",
          "data": {
            "text/plain": [
              "67.23076923076923"
            ]
          },
          "metadata": {},
          "execution_count": 16
        }
      ]
    },
    {
      "cell_type": "markdown",
      "metadata": {
        "id": "KKSwlcdgrdVj"
      },
      "source": [
        "11. visualizzare il numero di film per ogni genere\n"
      ]
    },
    {
      "cell_type": "code",
      "metadata": {
        "id": "zsI6G3birfRL",
        "outputId": "3d0e5779-8740-4bc3-8b5a-1d1e4c5885e5",
        "colab": {
          "base_uri": "https://localhost:8080/"
        }
      },
      "source": [
        "movies.groupby('Genre')['Film'].count()"
      ],
      "execution_count": null,
      "outputs": [
        {
          "output_type": "execute_result",
          "data": {
            "text/plain": [
              "Genre\n",
              "Action        1\n",
              "Animation     4\n",
              "Comdy         1\n",
              "Comedy       41\n",
              "Drama        13\n",
              "Fantasy       1\n",
              "Romance      13\n",
              "Romence       1\n",
              "comedy        1\n",
              "romance       1\n",
              "Name: Film, dtype: int64"
            ]
          },
          "metadata": {},
          "execution_count": 5
        }
      ]
    },
    {
      "cell_type": "markdown",
      "metadata": {
        "id": "F7Tx39Bwrfnq"
      },
      "source": [
        "12. diminuire del 10% il valore delle recensioni presenti nel campo “Audience score %”\n"
      ]
    },
    {
      "cell_type": "code",
      "metadata": {
        "id": "G_wdqsoBri8r",
        "colab": {
          "base_uri": "https://localhost:8080/"
        },
        "outputId": "23e41832-5069-4ef7-9966-364bcc348544"
      },
      "source": [
        "movies['Audience score %'].apply(lambda x: x-10)"
      ],
      "execution_count": null,
      "outputs": [
        {
          "output_type": "execute_result",
          "data": {
            "text/plain": [
              "0     60\n",
              "1     42\n",
              "2     25\n",
              "3     34\n",
              "4     62\n",
              "      ..\n",
              "72    74\n",
              "73    54\n",
              "74    79\n",
              "75    61\n",
              "76    71\n",
              "Name: Audience score %, Length: 77, dtype: int64"
            ]
          },
          "metadata": {},
          "execution_count": 17
        }
      ]
    }
  ]
}