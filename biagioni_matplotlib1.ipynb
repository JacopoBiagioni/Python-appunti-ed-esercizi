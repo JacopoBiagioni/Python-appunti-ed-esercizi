{
  "nbformat": 4,
  "nbformat_minor": 0,
  "metadata": {
    "colab": {
      "name": "biagioni.matplotlib1.ipynb",
      "provenance": [],
      "collapsed_sections": []
    },
    "kernelspec": {
      "name": "python3",
      "display_name": "Python 3"
    },
    "language_info": {
      "name": "python"
    }
  },
  "cells": [
    {
      "cell_type": "markdown",
      "metadata": {
        "id": "GFcxlyUgN2TS"
      },
      "source": [
        "a. crei un dataframe contenente le informazioni riportate nella tabella sottostante, relativa al numero di\n",
        "ordini (order_numbers) seguiti da vari commessi (last_name) di un negozio."
      ]
    },
    {
      "cell_type": "code",
      "metadata": {
        "colab": {
          "base_uri": "https://localhost:8080/",
          "height": 238
        },
        "id": "f9pgFExxM_-q",
        "outputId": "5b1f46d1-877b-4c77-8a07-7590261e0471"
      },
      "source": [
        "import pandas as pd\n",
        "import matplotlib.pyplot as plt\n",
        "\n",
        "d = {\n",
        "    'last_name':['Boyer','Copeland','Daniel','Serrano','Terrell','Vargas'],\n",
        "    'orders_number':[185,50,196,58,24,28]\n",
        "}\n",
        "\n",
        "df = pd.DataFrame(d)\n",
        "df"
      ],
      "execution_count": null,
      "outputs": [
        {
          "output_type": "execute_result",
          "data": {
            "text/html": [
              "<div>\n",
              "<style scoped>\n",
              "    .dataframe tbody tr th:only-of-type {\n",
              "        vertical-align: middle;\n",
              "    }\n",
              "\n",
              "    .dataframe tbody tr th {\n",
              "        vertical-align: top;\n",
              "    }\n",
              "\n",
              "    .dataframe thead th {\n",
              "        text-align: right;\n",
              "    }\n",
              "</style>\n",
              "<table border=\"1\" class=\"dataframe\">\n",
              "  <thead>\n",
              "    <tr style=\"text-align: right;\">\n",
              "      <th></th>\n",
              "      <th>last_name</th>\n",
              "      <th>orders_number</th>\n",
              "    </tr>\n",
              "  </thead>\n",
              "  <tbody>\n",
              "    <tr>\n",
              "      <th>0</th>\n",
              "      <td>Boyer</td>\n",
              "      <td>185</td>\n",
              "    </tr>\n",
              "    <tr>\n",
              "      <th>1</th>\n",
              "      <td>Copeland</td>\n",
              "      <td>50</td>\n",
              "    </tr>\n",
              "    <tr>\n",
              "      <th>2</th>\n",
              "      <td>Daniel</td>\n",
              "      <td>196</td>\n",
              "    </tr>\n",
              "    <tr>\n",
              "      <th>3</th>\n",
              "      <td>Serrano</td>\n",
              "      <td>58</td>\n",
              "    </tr>\n",
              "    <tr>\n",
              "      <th>4</th>\n",
              "      <td>Terrell</td>\n",
              "      <td>24</td>\n",
              "    </tr>\n",
              "    <tr>\n",
              "      <th>5</th>\n",
              "      <td>Vargas</td>\n",
              "      <td>28</td>\n",
              "    </tr>\n",
              "  </tbody>\n",
              "</table>\n",
              "</div>"
            ],
            "text/plain": [
              "  last_name  orders_number\n",
              "0     Boyer            185\n",
              "1  Copeland             50\n",
              "2    Daniel            196\n",
              "3   Serrano             58\n",
              "4   Terrell             24\n",
              "5    Vargas             28"
            ]
          },
          "metadata": {},
          "execution_count": 2
        }
      ]
    },
    {
      "cell_type": "markdown",
      "metadata": {
        "id": "mdtWBcYYOkUH"
      },
      "source": [
        "b. visualizzi un grafico a barre verticali per rappresentare i dat. Il risultato deve essere questo:"
      ]
    },
    {
      "cell_type": "code",
      "metadata": {
        "id": "vwW6pjtjXypy",
        "colab": {
          "base_uri": "https://localhost:8080/",
          "height": 265
        },
        "outputId": "dfb5e519-2285-420a-d244-bc966dbf5a33"
      },
      "source": [
        "names = list(df['last_name'])\n",
        "values = list(df['orders_number'])\n",
        "fig = plt.figure()\n",
        "ax = plt.axes()\n",
        "ax.bar(names, values)\n",
        "plt.show()"
      ],
      "execution_count": null,
      "outputs": [
        {
          "output_type": "display_data",
          "data": {
            "image/png": "[encoded data removed]",
            "text/plain": [
              "<Figure size 432x288 with 1 Axes>"
            ]
          },
          "metadata": {
            "needs_background": "light"
          }
        }
      ]
    },
    {
      "cell_type": "markdown",
      "metadata": {
        "id": "jj-IpkqpP7QY"
      },
      "source": [
        "c. visualizzi lo stesso grafico ma con altri colori delle barre, un titolo appropriato al grafico e i nomi degli assi."
      ]
    },
    {
      "cell_type": "code",
      "metadata": {
        "colab": {
          "base_uri": "https://localhost:8080/",
          "height": 308
        },
        "id": "bm5VGHq6P-QR",
        "outputId": "dfd61e56-1303-4737-b5a1-7b4fda4a972b"
      },
      "source": [
        "fig = plt.figure()\n",
        "ax = plt.axes()\n",
        "ax.set_xlabel('Cognomi')\n",
        "ax.set_ylabel('Numero ordini')\n",
        "fig.suptitle('Informazioni sul numero di ordini')\n",
        "ax.bar(names,values)\n",
        "plt.show()"
      ],
      "execution_count": null,
      "outputs": [
        {
          "output_type": "display_data",
          "data": {
            "image/png": "[encoded data removed]",
            "text/plain": [
              "<Figure size 432x288 with 1 Axes>"
            ]
          },
          "metadata": {
            "needs_background": "light"
          }
        }
      ]
    },
    {
      "cell_type": "markdown",
      "metadata": {
        "id": "uVFtUEjTWkvB"
      },
      "source": [
        "d. Visualizzare lo stesso grafico ma con le barre in ordine decrescente"
      ]
    },
    {
      "cell_type": "code",
      "metadata": {
        "colab": {
          "base_uri": "https://localhost:8080/",
          "height": 265
        },
        "id": "9FR0PIK3WnDY",
        "outputId": "941cd63f-a0d9-4ae5-d1dc-69b3e8bbd6d8"
      },
      "source": [
        "data = df.groupby('last_name').sum().sort_values('orders_number',ascending=False)\n",
        "names = list(data.index)\n",
        "values = list(data['orders_number'])\n",
        "fig = plt.figure()\n",
        "ax = plt.axes()\n",
        "ax.bar(names, values)\n",
        "plt.show()"
      ],
      "execution_count": null,
      "outputs": [
        {
          "output_type": "display_data",
          "data": {
            "image/png": "[encoded data removed]",
            "text/plain": [
              "<Figure size 432x288 with 1 Axes>"
            ]
          },
          "metadata": {
            "needs_background": "light"
          }
        }
      ]
    },
    {
      "cell_type": "markdown",
      "metadata": {
        "id": "ssha6lzVZFjZ"
      },
      "source": [
        "e. visualizzi un grafico a barre orizzontali per rappresentare i dat. Il risultato deve essere uguale a questo:"
      ]
    },
    {
      "cell_type": "code",
      "metadata": {
        "colab": {
          "base_uri": "https://localhost:8080/",
          "height": 265
        },
        "id": "vmoZ7I90ZKHx",
        "outputId": "cd1c162a-974b-4501-d44b-a28b3eae9d9a"
      },
      "source": [
        "fig = plt.figure()\n",
        "ax = plt.axes()\n",
        "ax.barh(names, values)\n",
        "plt.show()"
      ],
      "execution_count": null,
      "outputs": [
        {
          "output_type": "display_data",
          "data": {
            "image/png": "[encoded data removed]",
            "text/plain": [
              "<Figure size 432x288 with 1 Axes>"
            ]
          },
          "metadata": {
            "needs_background": "light"
          }
        }
      ]
    },
    {
      "cell_type": "markdown",
      "metadata": {
        "id": "YjyDVfIOfmT8"
      },
      "source": [
        "f. crei un nuovo dataframe contenente la percentuale di ordini consegnati seguiti da ogni componente\n",
        "dello staff. Visualizzare il cognome del componente dello staff e la percentuale di ordini. Ordinare in\n",
        "ordine alfabetico sul cognome del componente dello staff. Il risultato deve essere questo:"
      ]
    },
    {
      "cell_type": "code",
      "metadata": {
        "colab": {
          "base_uri": "https://localhost:8080/",
          "height": 238
        },
        "id": "533ZlLJpfolo",
        "outputId": "fafaf364-8836-4167-c27d-e84f718cf751"
      },
      "source": [
        "d2 = {\n",
        "    'last_name':['Copeland','Serrano','Boyer','Daniel','Vargas','Terrell'],\n",
        "    'orders_perc':[9.242144,10.720887,34.195933,36.229205,5.175601,4.436229]\n",
        "}\n",
        "\n",
        "df2 = pd.DataFrame(d2)\n",
        "df2"
      ],
      "execution_count": null,
      "outputs": [
        {
          "output_type": "execute_result",
          "data": {
            "text/html": [
              "<div>\n",
              "<style scoped>\n",
              "    .dataframe tbody tr th:only-of-type {\n",
              "        vertical-align: middle;\n",
              "    }\n",
              "\n",
              "    .dataframe tbody tr th {\n",
              "        vertical-align: top;\n",
              "    }\n",
              "\n",
              "    .dataframe thead th {\n",
              "        text-align: right;\n",
              "    }\n",
              "</style>\n",
              "<table border=\"1\" class=\"dataframe\">\n",
              "  <thead>\n",
              "    <tr style=\"text-align: right;\">\n",
              "      <th></th>\n",
              "      <th>last_name</th>\n",
              "      <th>orders_perc</th>\n",
              "    </tr>\n",
              "  </thead>\n",
              "  <tbody>\n",
              "    <tr>\n",
              "      <th>0</th>\n",
              "      <td>Copeland</td>\n",
              "      <td>9.242144</td>\n",
              "    </tr>\n",
              "    <tr>\n",
              "      <th>1</th>\n",
              "      <td>Serrano</td>\n",
              "      <td>10.720887</td>\n",
              "    </tr>\n",
              "    <tr>\n",
              "      <th>2</th>\n",
              "      <td>Boyer</td>\n",
              "      <td>34.195933</td>\n",
              "    </tr>\n",
              "    <tr>\n",
              "      <th>3</th>\n",
              "      <td>Daniel</td>\n",
              "      <td>36.229205</td>\n",
              "    </tr>\n",
              "    <tr>\n",
              "      <th>4</th>\n",
              "      <td>Vargas</td>\n",
              "      <td>5.175601</td>\n",
              "    </tr>\n",
              "    <tr>\n",
              "      <th>5</th>\n",
              "      <td>Terrell</td>\n",
              "      <td>4.436229</td>\n",
              "    </tr>\n",
              "  </tbody>\n",
              "</table>\n",
              "</div>"
            ],
            "text/plain": [
              "  last_name  orders_perc\n",
              "0  Copeland     9.242144\n",
              "1   Serrano    10.720887\n",
              "2     Boyer    34.195933\n",
              "3    Daniel    36.229205\n",
              "4    Vargas     5.175601\n",
              "5   Terrell     4.436229"
            ]
          },
          "metadata": {},
          "execution_count": 7
        }
      ]
    },
    {
      "cell_type": "markdown",
      "metadata": {
        "id": "FL8g86SCgj5x"
      },
      "source": [
        "g. visualizzi un grafico a torta per rappresentare i dati estratti. Il risultato deve essere questo:"
      ]
    },
    {
      "cell_type": "code",
      "metadata": {
        "colab": {
          "base_uri": "https://localhost:8080/",
          "height": 411
        },
        "id": "VzmrAUmikdDC",
        "outputId": "f614af65-e70f-4911-f46d-b34dc5bbadbf"
      },
      "source": [
        "nomi = list(df2['last_name'])\n",
        "percentuale = list(df2['orders_perc'])\n",
        "fig = plt.figure(figsize=[7,7])\n",
        "ax = plt.axes()\n",
        "\n",
        "ax.pie(percentuale,labels=nomi, autopct='%1.2f%%')\n",
        "plt.show()"
      ],
      "execution_count": null,
      "outputs": [
        {
          "output_type": "display_data",
          "data": {
            "image/png": "[encoded data removed]",
            "text/plain": [
              "<Figure size 504x504 with 1 Axes>"
            ]
          },
          "metadata": {}
        }
      ]
    },
    {
      "cell_type": "markdown",
      "metadata": {
        "id": "7fRkB2eTlSHw"
      },
      "source": [
        "h. visualizzi lo stesso grafico ma con altri colori delle percentuali e un titolo appropriato al grafico"
      ]
    },
    {
      "cell_type": "code",
      "metadata": {
        "colab": {
          "base_uri": "https://localhost:8080/",
          "height": 462
        },
        "id": "fvsfOE4VlTW6",
        "outputId": "d4993db2-5d9a-4bbc-826d-fd4998b0cb31"
      },
      "source": [
        "cols = ['c','m','r','g']\n",
        "fig = plt.figure(figsize=[7,7])\n",
        "ax = plt.axes()\n",
        "\n",
        "ax.pie(percentuale,labels=nomi, colors=cols)\n",
        "fig.suptitle('Percentuale ordini')\n",
        "plt.show()"
      ],
      "execution_count": null,
      "outputs": [
        {
          "output_type": "display_data",
          "data": {
            "image/png": "[encoded data removed]",
            "text/plain": [
              "<Figure size 504x504 with 1 Axes>"
            ]
          },
          "metadata": {}
        }
      ]
    },
    {
      "cell_type": "markdown",
      "metadata": {
        "id": "K4b4EF-RmU-C"
      },
      "source": [
        "i. rappresentare le stesse informazioni utilizzando come tipo di grafico il TreeMap (google it…)"
      ]
    },
    {
      "cell_type": "code",
      "metadata": {
        "colab": {
          "base_uri": "https://localhost:8080/",
          "height": 317
        },
        "id": "gYxptCCGmaPw",
        "outputId": "b78f4c8d-34dd-49cf-c098-146426f80e08"
      },
      "source": [
        "!pip install squarify\n",
        "import squarify\n",
        "squarify.plot(sizes=percentuale, label=nomi)\n",
        "plt.axis('off')\n",
        "plt.show()"
      ],
      "execution_count": null,
      "outputs": [
        {
          "output_type": "stream",
          "name": "stdout",
          "text": [
            "Collecting squarify\n",
            "  Downloading squarify-0.4.3-py3-none-any.whl (4.3 kB)\n",
            "Installing collected packages: squarify\n",
            "Successfully installed squarify-0.4.3\n"
          ]
        },
        {
          "output_type": "display_data",
          "data": {
            "image/png": "[encoded data removed]",
            "text/plain": [
              "<Figure size 432x288 with 1 Axes>"
            ]
          },
          "metadata": {
            "needs_background": "light"
          }
        }
      ]
    }
  ]
}