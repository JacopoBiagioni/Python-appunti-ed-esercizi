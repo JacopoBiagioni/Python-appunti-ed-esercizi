{
  "nbformat": 4,
  "nbformat_minor": 0,
  "metadata": {
    "colab": {
      "name": "correzione verifica B.ipynb",
      "provenance": [],
      "collapsed_sections": []
    },
    "kernelspec": {
      "name": "python3",
      "display_name": "Python 3"
    },
    "language_info": {
      "name": "python"
    }
  },
  "cells": [
    {
      "cell_type": "markdown",
      "metadata": {
        "id": "LzG6u-NsPTMI"
      },
      "source": [
        "1. Scrivere un programma che permetta di convertire un peso da kg in libbre. L’utente inserisce il peso in kg e il programma calcola il peso corrispondente nell’altra unità di misura."
      ]
    },
    {
      "cell_type": "code",
      "metadata": {
        "colab": {
          "base_uri": "https://localhost:8080/"
        },
        "id": "zuW7yajsPXQ2",
        "outputId": "a20bf1b1-5bbe-4253-ac02-3947af56d749"
      },
      "source": [
        "kg = input(\"Peso in kg: \")\n",
        "print(float(kg) * 2.2046)"
      ],
      "execution_count": null,
      "outputs": [
        {
          "output_type": "stream",
          "name": "stdout",
          "text": [
            "Peso in kg: 50\n",
            "110.23\n"
          ]
        }
      ]
    },
    {
      "cell_type": "markdown",
      "metadata": {
        "id": "XjKb7eLgQcaX"
      },
      "source": [
        "2. Scrivere un programma che permetta di verificare se un indirizzo mail contiene il carattere @. L’utente inserisce l’indirizzo e il programma restituisce il messaggio “indirizzo corretto” se il carattere è presente” o “indirizzo errato” se il carattere non è presente. Il carattere @ non può essere presente in prima o ultima posizione.\n"
      ]
    },
    {
      "cell_type": "code",
      "metadata": {
        "colab": {
          "base_uri": "https://localhost:8080/"
        },
        "id": "eKOu04v7UHwf",
        "outputId": "bc2a2fbd-9082-40f0-e7d3-44d914b4865e"
      },
      "source": [
        "indirizzo = input(\"Inserire indirizzo mail: \")\n",
        "if '@' in indirizzo[1:-1]:\n",
        "  print(\"indirizzo corretto\")\n",
        "else:\n",
        "  print('indirizzo errato')"
      ],
      "execution_count": null,
      "outputs": [
        {
          "output_type": "stream",
          "name": "stdout",
          "text": [
            "Inserire indirizzo mail: jacopo.biagioni@gmail.com\n",
            "indirizzo corretto\n"
          ]
        }
      ]
    },
    {
      "cell_type": "markdown",
      "metadata": {
        "id": "W-zdOmDETY2o"
      },
      "source": [
        "3. Scrivere un programma che visualizzi l’inverso dei primi n numeri interi con n inserito dall’utente. Per esempio, se l’utente inserisse il valore 4 il programma dovrebbe visualizzare i valori 1 (1:1), 0,5 (1:2), 0,33333 (1:3) e 0.25 (1:4). Separare i valori visualizzati con una virgola.\n"
      ]
    },
    {
      "cell_type": "code",
      "metadata": {
        "id": "pKCAu9jRTbCn",
        "colab": {
          "base_uri": "https://localhost:8080/"
        },
        "outputId": "3d3ef579-1228-427c-f842-70690d634450"
      },
      "source": [
        "num = int(input(\"Inserire numero: \"))\n",
        "listanum = [1/i for i in range(1,num+1)]\n",
        "print(listanum)"
      ],
      "execution_count": null,
      "outputs": [
        {
          "output_type": "stream",
          "name": "stdout",
          "text": [
            "Inserire numero: 4\n",
            "[1.0, 0.5, 0.3333333333333333, 0.25]\n"
          ]
        }
      ]
    },
    {
      "cell_type": "markdown",
      "metadata": {
        "id": "49O5yDFnUFMY"
      },
      "source": [
        "4. scrivere un programma che carichi in una lista i primi 100 numeri interi dispari. Al termine visualizzare gli ultimi 10 numeri della lista.\n"
      ]
    },
    {
      "cell_type": "code",
      "metadata": {
        "colab": {
          "base_uri": "https://localhost:8080/"
        },
        "id": "aadvpGXBVHmf",
        "outputId": "57761f37-6037-4253-941f-29c86a0ba0a2"
      },
      "source": [
        "numeridispari = []\n",
        "for i in range(0,100): \n",
        "  if i%2 == 1:\n",
        "    numeridispari.append(i)\n",
        "\n",
        "print(numeridispari[-10:])"
      ],
      "execution_count": null,
      "outputs": [
        {
          "output_type": "stream",
          "name": "stdout",
          "text": [
            "[81, 83, 85, 87, 89, 91, 93, 95, 97, 99]\n"
          ]
        }
      ]
    },
    {
      "cell_type": "markdown",
      "metadata": {
        "id": "Jqk765zhV10X"
      },
      "source": [
        "5. scrivere un programma che elimini dalla lista precedente gli ultimi 10 elementi. Visualizzare al termine la lista modificata.\n"
      ]
    },
    {
      "cell_type": "code",
      "metadata": {
        "id": "6ieU6VwAV32H",
        "colab": {
          "base_uri": "https://localhost:8080/"
        },
        "outputId": "737dbdf1-9da3-4ee3-b7c8-7a2abefc91d9"
      },
      "source": [
        "del numeridispari[-10:]\n",
        "print(numeridispari)"
      ],
      "execution_count": null,
      "outputs": [
        {
          "output_type": "stream",
          "name": "stdout",
          "text": [
            "[1, 3, 5, 7, 9, 11, 13, 15, 17, 19, 21, 23, 25, 27, 29, 31, 33, 35, 37, 39, 41, 43, 45, 47, 49, 51, 53, 55, 57, 59, 61, 63, 65, 67, 69, 71, 73, 75, 77, 79]\n"
          ]
        }
      ]
    },
    {
      "cell_type": "markdown",
      "metadata": {
        "id": "B0EaZqalXcoc"
      },
      "source": [
        "6. scrivere una funzione che data una lista formata da un numero pari di elementi restituisca la lista con gli elementi scambiati a due a due. Ad esempio se la lista di partenza fosse [1, 2, 3, 4, 5, 6] la lista da restituire sarebbe [2, 1, 4, 3, 6, 5]\n"
      ]
    },
    {
      "cell_type": "code",
      "metadata": {
        "id": "TP89uKA5Xe9s",
        "colab": {
          "base_uri": "https://localhost:8080/"
        },
        "outputId": "328dcfab-0f39-4f61-b3a0-d078a0c16b14"
      },
      "source": [
        "listanumeri = [1,2,3,4,5,6]\n",
        "\n",
        "def scambio(x):\n",
        "  a = x[:]\n",
        "  for i in range(0,len(x),2):\n",
        "     a[i] = x[i+1]\n",
        "     a[i+1] = x[i]\n",
        "  return a\n",
        "print(listanumeri)\n",
        "print(scambio(listanumeri))"
      ],
      "execution_count": null,
      "outputs": [
        {
          "output_type": "stream",
          "name": "stdout",
          "text": [
            "[1, 2, 3, 4, 5, 6]\n",
            "[2, 1, 4, 3, 6, 5]\n"
          ]
        }
      ]
    },
    {
      "cell_type": "markdown",
      "metadata": {
        "id": "guwUyl1gXiPE"
      },
      "source": [
        "7.scrivere un programma che permetta di caricare in una struttura dati opportuna i nomi delle regioni italiane, i loro capoluoghi e la popolazione (inserire solo tre regioni). Visualizzare poi i dati di una regione inserita dall’utente\n"
      ]
    },
    {
      "cell_type": "code",
      "metadata": {
        "id": "s7tFtFPdXklU",
        "colab": {
          "base_uri": "https://localhost:8080/"
        },
        "outputId": "7b6af24f-d911-4e57-8457-ff08d92e470b"
      },
      "source": [
        "Italia = [{'regione':'Lombardia','capoluogo':'Milano','popolazione':'10.000.000'},\n",
        "          {'regione':'Toscana','capoluogo':'Firenze','popolazione':'3.000.000'},\n",
        "          {'regione':'Calabria','capoluogo':'Catanzaro','popolazione':'1.000.000'}]\n",
        "\n",
        "Nome = input(\"Inserisici la regione: \")\n",
        "\n",
        "for regione in Italia:\n",
        "  if regione['regione'] == Nome:\n",
        "    print(regione['capoluogo'], regione['popolazione'])\n"
      ],
      "execution_count": null,
      "outputs": [
        {
          "output_type": "stream",
          "name": "stdout",
          "text": [
            "Inserisici la regione: Toscana\n",
            "Firenze 3.000.000\n"
          ]
        }
      ]
    },
    {
      "cell_type": "markdown",
      "metadata": {
        "id": "9W76uNFIaRJ4"
      },
      "source": [
        "8. scrivere un programma che, utilizzando una lambda function e la funzione filter, elimini da una lista inserita dall’utente tutti gli elementi dispari. Al termine, visualizzare la lista modificata\n"
      ]
    },
    {
      "cell_type": "code",
      "metadata": {
        "colab": {
          "base_uri": "https://localhost:8080/"
        },
        "id": "mUsCWV6QaTrn",
        "outputId": "e382b198-fbed-4199-be1e-7179a288feab"
      },
      "source": [
        "lista = [int(elemento)for elemento in input('Inserire lista: ').split()]\n",
        "listafinale = list(filter(lambda x:x%2==0 , lista))\n",
        "print(listafinale)"
      ],
      "execution_count": null,
      "outputs": [
        {
          "output_type": "stream",
          "name": "stdout",
          "text": [
            "Inserire lista: 1 2 3 4 5 6 7 8 9\n",
            "[2, 4, 6, 8]\n"
          ]
        }
      ]
    },
    {
      "cell_type": "markdown",
      "metadata": {
        "id": "ka-yRV3gaf3I"
      },
      "source": [
        "9. scrivere una funzione che, in modo ricorsivo, calcoli la somma dei primi n numeri interi, con n inserito dall’utente. Ad esempio se l’utente inserisse 5 il programma dovrebbe restituire il valore 15 (5+4+3+2+1=15)\n"
      ]
    },
    {
      "cell_type": "code",
      "metadata": {
        "id": "Bs_g_skxaikI",
        "colab": {
          "base_uri": "https://localhost:8080/"
        },
        "outputId": "3e0cf155-d427-4384-90a7-8302ad6828d0"
      },
      "source": [
        "def somma(n):\n",
        "  if n == 0:\n",
        "    return 0\n",
        "  else: \n",
        "    totale = n + somma(n-1)\n",
        "    return totale\n",
        "\n",
        "somma(int(input(\"Inserire un numero: \")))"
      ],
      "execution_count": null,
      "outputs": [
        {
          "name": "stdout",
          "output_type": "stream",
          "text": [
            "Inserire un numero: 5\n"
          ]
        },
        {
          "output_type": "execute_result",
          "data": {
            "text/plain": [
              "15"
            ]
          },
          "metadata": {},
          "execution_count": 37
        }
      ]
    }
  ]
}