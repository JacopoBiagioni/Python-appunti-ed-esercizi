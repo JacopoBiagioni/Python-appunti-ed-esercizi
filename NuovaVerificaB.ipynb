{
  "nbformat": 4,
  "nbformat_minor": 0,
  "metadata": {
    "colab": {
      "name": "NuovaVerificaB.ipynb",
      "provenance": [],
      "collapsed_sections": []
    },
    "kernelspec": {
      "name": "python3",
      "display_name": "Python 3"
    },
    "language_info": {
      "name": "python"
    }
  },
  "cells": [
    {
      "cell_type": "markdown",
      "metadata": {
        "id": "tXWL2l4ROAlK"
      },
      "source": [
        "1. scrivere un programma che dato un indirizzo email nella forma nome.cognome@dominio visualizzi separatamente il nome, il cognome e il dominio\n"
      ]
    },
    {
      "cell_type": "code",
      "metadata": {
        "colab": {
          "base_uri": "https://localhost:8080/"
        },
        "id": "d5MZDH8sODZA",
        "outputId": "ca0ff2f2-51ec-4ff5-da53-2bdbd13c1a43"
      },
      "source": [
        "indirizzo = 'nome.cognome@dominio'\n",
        "indirizzo2 = str(indirizzo.split(\".\"))\n",
        "print(indirizzo2.split(\"@\"))"
      ],
      "execution_count": null,
      "outputs": [
        {
          "output_type": "stream",
          "name": "stdout",
          "text": [
            "[\"['nome', 'cognome\", \"dominio']\"]\n"
          ]
        }
      ]
    },
    {
      "cell_type": "markdown",
      "metadata": {
        "id": "KhzedoYePgHY"
      },
      "source": [
        "2. scrivere un programma che permetta di stabilire se un numero pari è divisibile per 6. L’utente inserisce il numero e il programma, una volta controllato che sia pari, controlla anche se è divisibile per 6.\n"
      ]
    },
    {
      "cell_type": "code",
      "metadata": {
        "colab": {
          "base_uri": "https://localhost:8080/"
        },
        "id": "kulLOcOJPh4Y",
        "outputId": "3cc87172-3fd4-4da5-c59c-44992b0589f0"
      },
      "source": [
        "n = int(input(\"Inserire un valore: \"))\n",
        "\n",
        "if n%2 == 0:\n",
        "  if n%6 == 0:\n",
        "    print(\"Numero divisibile per 6\")\n",
        "  else: \n",
        "    print(\"Numero non divisibile per 6\")\n",
        "else:\n",
        "  print(\"Numero non pari\")\n"
      ],
      "execution_count": null,
      "outputs": [
        {
          "output_type": "stream",
          "name": "stdout",
          "text": [
            "Inserire un valore: 11\n",
            "Numero non pari\n"
          ]
        }
      ]
    },
    {
      "cell_type": "markdown",
      "metadata": {
        "id": "DewbYBh1Pz0X"
      },
      "source": [
        "3. scrivere un programma per verificare se una parola contiene solo vocali.\n"
      ]
    },
    {
      "cell_type": "code",
      "metadata": {
        "id": "RkWr3eWbP1kI"
      },
      "source": [
        "parola = input(\"Inserire una parola: \")\n",
        "vocali = set('aeiou')\n",
        "if vocali in parola:\n",
        "  print(\"la parola contiene solo vocali\")\n",
        "else:\n",
        "  print(\"la parola non contiene solo vocali\")\n"
      ],
      "execution_count": null,
      "outputs": []
    },
    {
      "cell_type": "markdown",
      "metadata": {
        "id": "a2hJ57PNXLWk"
      },
      "source": [
        "4. scrivere un programma che permetta di caricare una lista di parole e che elimini dalla lista tutte le parole più lunghe di un valore inserito dall’utente\n"
      ]
    },
    {
      "cell_type": "code",
      "metadata": {
        "colab": {
          "base_uri": "https://localhost:8080/"
        },
        "id": "Kj9NNR4hW6Y1",
        "outputId": "be4ecc07-88e6-4216-efc2-a51c393b2b5f"
      },
      "source": [
        "listaparole = [i for i in input('Inserire parole: ').split()]\n",
        "valore = int(input(\"Inserire un valore: \"))\n",
        "lista = list(filter(lambda x: len(x)<valore, listaparole))\n",
        "print(lista)"
      ],
      "execution_count": null,
      "outputs": [
        {
          "output_type": "stream",
          "name": "stdout",
          "text": [
            "Inserire parole: mamma stella casa calabrese\n",
            "Inserire un valore: 10\n",
            "['mamma', 'stella', 'casa', 'calabrese']\n"
          ]
        }
      ]
    },
    {
      "cell_type": "markdown",
      "metadata": {
        "id": "IRBQDUAtYJmc"
      },
      "source": [
        "5. scrivere una funzione che data una parola restituisca la stessa parola con i caratteri separati da uno spazio\n"
      ]
    },
    {
      "cell_type": "code",
      "metadata": {
        "id": "lty15b5jYNSs"
      },
      "source": [
        ""
      ],
      "execution_count": null,
      "outputs": []
    },
    {
      "cell_type": "markdown",
      "metadata": {
        "id": "4rnl49cR55qk"
      },
      "source": [
        "6. scrivere un programma che utilizzando la funzione precedente inserisca uno spazio tra i caratteri di tutte le parole presenti in una stringa\n"
      ]
    },
    {
      "cell_type": "code",
      "metadata": {
        "id": "FKzsXlD556ED"
      },
      "source": [
        ""
      ],
      "execution_count": null,
      "outputs": []
    },
    {
      "cell_type": "markdown",
      "metadata": {
        "id": "zvJ7t9M76GBr"
      },
      "source": [
        "7. scrivere un programma che utilizzando una lambda function  sostituisca ad ogni elemento di una lista di parole la lunghezza delle parole stesse. Ad esempio se la lista fosse [‘mamma’, ‘stella’, ‘casa’] la lista finale dovrebbe essere [5, 5, 4]"
      ]
    },
    {
      "cell_type": "code",
      "metadata": {
        "colab": {
          "base_uri": "https://localhost:8080/"
        },
        "id": "zxGx2I2S6GRy",
        "outputId": "a130bb7a-92d9-4973-8039-2a8244423333"
      },
      "source": [
        "listaparole = [i for i in input('Inserire parole: ').split()]\n",
        "listafinale = list(map(lambda x:len(x), listaparole))\n",
        "print(listafinale)"
      ],
      "execution_count": null,
      "outputs": [
        {
          "output_type": "stream",
          "name": "stdout",
          "text": [
            "Inserire parole: mamma stella casa\n",
            "[5, 6, 4]\n"
          ]
        }
      ]
    },
    {
      "cell_type": "markdown",
      "metadata": {
        "id": "5j1pQVkj6Z5l"
      },
      "source": [
        "8. scrivere un programma che utilizzando una lambda function elimini da una lista di parole tutte quelle più corte di un valore inserito dall’utente.  Ad esempio se la lista fosse [‘tre’, ‘stella’, ‘casa’] e l’utente inserisse il valore 5, la lista finale dovrebbe essere [‘stella’]\n"
      ]
    },
    {
      "cell_type": "code",
      "metadata": {
        "colab": {
          "base_uri": "https://localhost:8080/"
        },
        "id": "l1rWPt6y6bbT",
        "outputId": "9a528cae-6552-4572-fd92-9cdc7daaad05"
      },
      "source": [
        "parole = list(input('Inserire parole: ').split())\n",
        "num = int(input('Inserire un valore: '))\n",
        "parolefinali = list(filter(lambda x: len(x)>num,parole))\n",
        "print(parolefinali)"
      ],
      "execution_count": null,
      "outputs": [
        {
          "output_type": "stream",
          "name": "stdout",
          "text": [
            "Inserire parole: tre stella casa\n",
            "Inserire un valore: 5\n",
            "['stella']\n"
          ]
        }
      ]
    },
    {
      "cell_type": "markdown",
      "metadata": {
        "id": "GnMWyuhk6h5J"
      },
      "source": [
        "9. Il centro vaccinale Covid di Milano vuole memorizzare le informazioni dei cittadini che si sono vaccinati. Le informazioni da inserire sono il codice fiscale del cittadino, le date in cui ha fatto la vaccinazione e il vaccino utilizzato. Caricare in una struttura dati apposita i codici fiscali dei cittadini (solo due codici) e le vaccinazioni effettuate (solo due vaccinazioni) e permettere di avere le informazioni relative ad un cittadino di cui si inserisce il codice fiscle. Inventare ovviamente tutte le informazioni.\n"
      ]
    },
    {
      "cell_type": "code",
      "metadata": {
        "colab": {
          "base_uri": "https://localhost:8080/"
        },
        "id": "KBxzoo8D6kLS",
        "outputId": "913b2b5c-0634-4188-b646-c69a7201592e"
      },
      "source": [
        "CentroVaccinale = [{'codicefiscale':'MTTRSS','data':'25/06/2021','vaccino':'pfizer'},\n",
        "                   {'codicefiscale':'BGNJCP','data':'05/05/2021','vaccino':'astrazeneca'}]\n",
        "\n",
        "dati = input(\"Inserire codice fiscale: \")\n",
        "for codicefiscale in CentroVaccinale:\n",
        "  if codicefiscale['codicefiscale'] == dati:\n",
        "    print(codicefiscale['data'],codicefiscale['vaccino'])"
      ],
      "execution_count": null,
      "outputs": [
        {
          "output_type": "stream",
          "name": "stdout",
          "text": [
            "Inserire codice fiscale: MTTRSS\n",
            "25/06/2021 pfizer\n"
          ]
        }
      ]
    }
  ]
}