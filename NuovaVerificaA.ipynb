{
  "nbformat": 4,
  "nbformat_minor": 0,
  "metadata": {
    "colab": {
      "name": "NuovaVerificaA.ipynb",
      "provenance": [],
      "collapsed_sections": []
    },
    "kernelspec": {
      "name": "python3",
      "display_name": "Python 3"
    },
    "language_info": {
      "name": "python"
    }
  },
  "cells": [
    {
      "cell_type": "markdown",
      "metadata": {
        "id": "4WLms6JXmuNs"
      },
      "source": [
        "1. scrivere un programma che data una data nella forma gg/mm/aaaa visualizzi separatamente il giorno, il mese e l'anno"
      ]
    },
    {
      "cell_type": "code",
      "metadata": {
        "colab": {
          "base_uri": "https://localhost:8080/"
        },
        "id": "9Z1Mipm1mrS9",
        "outputId": "7b449313-188e-4360-d121-ec76a2eb5b68"
      },
      "source": [
        "data = '25/11/2005'\n",
        "print(data.split('/'))"
      ],
      "execution_count": null,
      "outputs": [
        {
          "output_type": "stream",
          "name": "stdout",
          "text": [
            "['25', '11', '2005']\n"
          ]
        }
      ]
    },
    {
      "cell_type": "markdown",
      "metadata": {
        "id": "mySqTsiFptO8"
      },
      "source": [
        "2. scrivere un programma che permetta di stabilire se un numero dispari è divisibile per 5. L'utente inserisce il numero e il programma, una volta controllato che sia dispari, controlla anche se è divisibile per 5."
      ]
    },
    {
      "cell_type": "code",
      "metadata": {
        "colab": {
          "base_uri": "https://localhost:8080/"
        },
        "id": "93RhK_WApti7",
        "outputId": "ebec33b2-a1c5-4d7b-ef7a-ab5ca3d4f582"
      },
      "source": [
        "n = int(input(\"Inserire un valore: \"))\n",
        "\n",
        "if n%2 == 1:\n",
        "  if n%5 == 0:\n",
        "    print(\"Numero divisibile per 5\")\n",
        "  else: \n",
        "    print(\"Numero non divisibile per 5\")\n",
        "else:\n",
        "  print(\"Numero non dispari\")\n"
      ],
      "execution_count": null,
      "outputs": [
        {
          "output_type": "stream",
          "name": "stdout",
          "text": [
            "Inserire un valore: 13\n",
            "Numero non divisibile per 5\n"
          ]
        }
      ]
    },
    {
      "cell_type": "markdown",
      "metadata": {
        "id": "_uzr8tP8punU"
      },
      "source": [
        "3. scrivere un programma per verificare se una parola comincia e finisce con la stessa lettera"
      ]
    },
    {
      "cell_type": "code",
      "metadata": {
        "colab": {
          "base_uri": "https://localhost:8080/"
        },
        "id": "3DSFJ0chpvZt",
        "outputId": "5da3f881-fd16-41ce-ff46-3f7eff3c2838"
      },
      "source": [
        "parola = input(\"Inserire una parola: \")\n",
        "\n",
        "if parola[0] == parola[-1]:\n",
        "  print(\"La parola comincia e finisce con la stessa lettera\")\n",
        "else: \n",
        "  print(\"La parola non comincia e finisce con la stessa lettera\")\n"
      ],
      "execution_count": null,
      "outputs": [
        {
          "output_type": "stream",
          "name": "stdout",
          "text": [
            "Inserire una parola: gallo\n",
            "La parola non comincia e finisce con la stessa lettera\n"
          ]
        }
      ]
    },
    {
      "cell_type": "markdown",
      "metadata": {
        "id": "JmfuvhYUpvh8"
      },
      "source": [
        "4. scrivere un programma che permetta di caricare una lista di parole e che elimini dalla lista tutte le parole che iniziano con una lettera inserita dall'utente"
      ]
    },
    {
      "cell_type": "code",
      "metadata": {
        "colab": {
          "base_uri": "https://localhost:8080/"
        },
        "id": "MfJxw1aGpvps",
        "outputId": "18d84c52-f0fc-4d9b-c576-4e2595601276"
      },
      "source": [
        "listaparole = ['anatra', 'bambino', 'cane', 'gatto', 'telefono']\n",
        "lettera = str(input(\"Inserire una lettera: \"))\n",
        "lista = list(filter(lambda x: x[0] != lettera, listaparole))\n",
        "\n",
        "print(lista)"
      ],
      "execution_count": null,
      "outputs": [
        {
          "output_type": "stream",
          "name": "stdout",
          "text": [
            "Inserire una lettera: b\n",
            "['anatra', 'cane', 'gatto', 'telefono']\n"
          ]
        }
      ]
    },
    {
      "cell_type": "markdown",
      "metadata": {
        "id": "HSooI9jvpvwU"
      },
      "source": [
        "5. scrivere una funzione che data una parola restituisca la stessa parola senza le vocali"
      ]
    },
    {
      "cell_type": "code",
      "metadata": {
        "id": "A55lRNgwpv3k",
        "colab": {
          "base_uri": "https://localhost:8080/",
          "height": 52
        },
        "outputId": "8651f921-9efe-4a0f-a876-b54e8bcd17e4"
      },
      "source": [
        "def eliminavocali(parola):\n",
        "  vocali = set(\"aeiou\")\n",
        "  for i in parola:\n",
        "    if i in vocali:\n",
        "      parola = parola.replace(i, \"\")\n",
        "  return parola\n",
        "\n",
        "parola = input(\"Inserire una parola\")\n",
        "eliminavocali(parola)"
      ],
      "execution_count": null,
      "outputs": [
        {
          "name": "stdout",
          "output_type": "stream",
          "text": [
            "Inserire una parolaelicottero\n"
          ]
        },
        {
          "output_type": "execute_result",
          "data": {
            "application/vnd.google.colaboratory.intrinsic+json": {
              "type": "string"
            },
            "text/plain": [
              "'lcttr'"
            ]
          },
          "metadata": {},
          "execution_count": 5
        }
      ]
    },
    {
      "cell_type": "markdown",
      "metadata": {
        "id": "JnnHAhDupyLU"
      },
      "source": [
        "6. scrivere un programma che utilizzando la funzione precedente elimini da una frase composta da più parole tutte le vocali "
      ]
    },
    {
      "cell_type": "code",
      "metadata": {
        "id": "jiHX0I3xpyWN",
        "colab": {
          "base_uri": "https://localhost:8080/",
          "height": 52
        },
        "outputId": "cc0567eb-3baa-4189-8080-fca75803c7f4"
      },
      "source": [
        "frase = input(\"Inserire una frase: \")\n",
        "eliminavocali(frase)"
      ],
      "execution_count": null,
      "outputs": [
        {
          "name": "stdout",
          "output_type": "stream",
          "text": [
            "Inserire una frase: oggi sono andato a scuola\n"
          ]
        },
        {
          "output_type": "execute_result",
          "data": {
            "application/vnd.google.colaboratory.intrinsic+json": {
              "type": "string"
            },
            "text/plain": [
              "'gg sn ndt  scl'"
            ]
          },
          "metadata": {},
          "execution_count": 7
        }
      ]
    },
    {
      "cell_type": "markdown",
      "metadata": {
        "id": "NzvpXovdpzJ1"
      },
      "source": [
        "7. scrivere un programma che utilizzando una lambda function sostituisca ad ogni elemento di una lista di parole la lunghezza delle parole stesse. Ad esempio se la lista fosse ['mamma','stella','casa'] la lista finale dovrebbe essere [5,5,4] "
      ]
    },
    {
      "cell_type": "code",
      "metadata": {
        "id": "_QvVkkInpzWd",
        "colab": {
          "base_uri": "https://localhost:8080/"
        },
        "outputId": "3520f139-64f6-43ee-c533-a2445d82f411"
      },
      "source": [
        "listaparole = [i for i in input('Inserire parole: ').split()]\n",
        "listafinale = list(map(lambda x:len(x), listaparole))\n",
        "print(listafinale)"
      ],
      "execution_count": null,
      "outputs": [
        {
          "output_type": "stream",
          "name": "stdout",
          "text": [
            "Inserire parole: mamma stella casa\n",
            "[5, 6, 4]\n"
          ]
        }
      ]
    },
    {
      "cell_type": "markdown",
      "metadata": {
        "id": "h8aXnWWKpzfN"
      },
      "source": [
        "8. scrivere un programma che utilizzando una lambda function elimini da una lista di parole tutte quelle più corte di un valore inserito dall'utente. Ad esempio se la lista fosse ['tre','stella','casa'] e l'utente inserisce il valore 5, la lista finale dovrebbe essere ['stella']"
      ]
    },
    {
      "cell_type": "code",
      "metadata": {
        "id": "1AOZcdphpzm8",
        "colab": {
          "base_uri": "https://localhost:8080/"
        },
        "outputId": "63e9f2fc-670b-4b71-eea4-e78c54cf9375"
      },
      "source": [
        "parole = list(input('Inserire parole: ').split())\n",
        "num = int(input('Inserire un valore: '))\n",
        "parolefinali = list(filter(lambda x: len(x)>num,parole))\n",
        "print(parolefinali)"
      ],
      "execution_count": null,
      "outputs": [
        {
          "output_type": "stream",
          "name": "stdout",
          "text": [
            "Inserire parole: stella casa tre\n",
            "Inserire un valore: 3\n",
            "['stella', 'casa']\n"
          ]
        }
      ]
    },
    {
      "cell_type": "markdown",
      "metadata": {
        "id": "oaS6Rd6zpztq"
      },
      "source": [
        "9. MilanoSport propone corsi di nuoto e vuole memorizzare i nomi dei corsi e i cognomi delle persone che partecipano a quel corso. Caricare in una struttura dati apposita i nomi dei corsi (solo due nomi) e i cognomi dei partecipanti (solo due cognomi) e permettere di avere i cognomi dei partecipanti di un determinato corso inserito dall'utente"
      ]
    },
    {
      "cell_type": "code",
      "metadata": {
        "id": "pbdmplRhtClM",
        "colab": {
          "base_uri": "https://localhost:8080/"
        },
        "outputId": "6787bd96-b23c-4aa5-bf42-a555f100e45d"
      },
      "source": [
        "MilanoSport = [{'corso':'Principiante', 'cognome':'Rossi'},\n",
        "               {'corso':'Agonistico', 'cognome':'Esposito'}]\n",
        "\n",
        "cercacognome = input(\"Inserire corso: \")\n",
        "for corso in MilanoSport:\n",
        "  if corso['corso'] == cercacognome:\n",
        "    print(corso['cognome'])"
      ],
      "execution_count": null,
      "outputs": [
        {
          "output_type": "stream",
          "name": "stdout",
          "text": [
            "Inserire corso: Agonistico\n",
            "Esposito\n"
          ]
        }
      ]
    }
  ]
}