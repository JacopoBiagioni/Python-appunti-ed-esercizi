{
  "nbformat": 4,
  "nbformat_minor": 0,
  "metadata": {
    "colab": {
      "name": "Pandas Esercizio1.ipynb",
      "provenance": [],
      "collapsed_sections": []
    },
    "kernelspec": {
      "name": "python3",
      "display_name": "Python 3"
    },
    "language_info": {
      "name": "python"
    }
  },
  "cells": [
    {
      "cell_type": "markdown",
      "metadata": {
        "id": "UFb4qB_LrvDA"
      },
      "source": [
        "1. Creare un dizionario avente come chiavi regione, capoluogo, superficie, presidente e abitanti e per ciascuna chiave, inserire come valore una lista del corrispettivo attributo per tre regioni del nord Italia.\n"
      ]
    },
    {
      "cell_type": "code",
      "metadata": {
        "id": "MTZpy_NqruQr"
      },
      "source": [
        "import pandas as pd \n",
        "d = {\n",
        "    'Regione':['Lombardia','Piemonte','Veneto'],\n",
        "    'Capoluogo':['Milano','Torino','Venezia'],\n",
        "    'Superficie':['23.844 km²','25.387 km²','18.345 km²'],\n",
        "    'Presidente':['Attilio Fontana','Alberto Albo Cirio','Luca Zaia'],\n",
        "    'Abitanti':['10,06 milioni','4,356 milioni','4,906 milioni']\n",
        "}"
      ],
      "execution_count": null,
      "outputs": []
    },
    {
      "cell_type": "markdown",
      "metadata": {
        "id": "xRQZsyZYuXfr"
      },
      "source": [
        "2. Assegnare ad una variabile chiamata nord_italia un dataframe basato sopra il dizionario precedentemente creato."
      ]
    },
    {
      "cell_type": "code",
      "metadata": {
        "colab": {
          "base_uri": "https://localhost:8080/",
          "height": 142
        },
        "id": "TelSw89HuawU",
        "outputId": "5807cf70-a6f0-437d-b593-704f11b69e16"
      },
      "source": [
        "nord_italia = pd.DataFrame(d)\n",
        "nord_italia"
      ],
      "execution_count": null,
      "outputs": [
        {
          "output_type": "execute_result",
          "data": {
            "text/html": [
              "<div>\n",
              "<style scoped>\n",
              "    .dataframe tbody tr th:only-of-type {\n",
              "        vertical-align: middle;\n",
              "    }\n",
              "\n",
              "    .dataframe tbody tr th {\n",
              "        vertical-align: top;\n",
              "    }\n",
              "\n",
              "    .dataframe thead th {\n",
              "        text-align: right;\n",
              "    }\n",
              "</style>\n",
              "<table border=\"1\" class=\"dataframe\">\n",
              "  <thead>\n",
              "    <tr style=\"text-align: right;\">\n",
              "      <th></th>\n",
              "      <th>Regione</th>\n",
              "      <th>Capoluogo</th>\n",
              "      <th>Superficie</th>\n",
              "      <th>Presidente</th>\n",
              "      <th>Abitanti</th>\n",
              "    </tr>\n",
              "  </thead>\n",
              "  <tbody>\n",
              "    <tr>\n",
              "      <th>0</th>\n",
              "      <td>Lombardia</td>\n",
              "      <td>Milano</td>\n",
              "      <td>23.844 km²</td>\n",
              "      <td>Attilio Fontana</td>\n",
              "      <td>10,06 milioni</td>\n",
              "    </tr>\n",
              "    <tr>\n",
              "      <th>1</th>\n",
              "      <td>Piemonte</td>\n",
              "      <td>Torino</td>\n",
              "      <td>25.387 km²</td>\n",
              "      <td>Alberto Albo Cirio</td>\n",
              "      <td>4,356 milioni</td>\n",
              "    </tr>\n",
              "    <tr>\n",
              "      <th>2</th>\n",
              "      <td>Veneto</td>\n",
              "      <td>Venezia</td>\n",
              "      <td>18.345 km²</td>\n",
              "      <td>Luca Zaia</td>\n",
              "      <td>4,906 milioni</td>\n",
              "    </tr>\n",
              "  </tbody>\n",
              "</table>\n",
              "</div>"
            ],
            "text/plain": [
              "     Regione Capoluogo  Superficie          Presidente       Abitanti\n",
              "0  Lombardia    Milano  23.844 km²     Attilio Fontana  10,06 milioni\n",
              "1   Piemonte    Torino  25.387 km²  Alberto Albo Cirio  4,356 milioni\n",
              "2     Veneto   Venezia  18.345 km²           Luca Zaia  4,906 milioni"
            ]
          },
          "metadata": {},
          "execution_count": 24
        }
      ]
    },
    {
      "cell_type": "markdown",
      "metadata": {
        "id": "PFKdwZUmuqjR"
      },
      "source": [
        "3. Impostare regione come nuovo indice del dataframe. Visualizzare in fine il dataframe con il nuovo index.\n"
      ]
    },
    {
      "cell_type": "code",
      "metadata": {
        "colab": {
          "base_uri": "https://localhost:8080/",
          "height": 173
        },
        "id": "uGKB2Ydwutb5",
        "outputId": "6b7e0236-99b3-4b36-f95d-e495a9e9bf88"
      },
      "source": [
        "nord_italia = df.set_index('Regione')\n",
        "nord_italia"
      ],
      "execution_count": null,
      "outputs": [
        {
          "output_type": "execute_result",
          "data": {
            "text/html": [
              "<div>\n",
              "<style scoped>\n",
              "    .dataframe tbody tr th:only-of-type {\n",
              "        vertical-align: middle;\n",
              "    }\n",
              "\n",
              "    .dataframe tbody tr th {\n",
              "        vertical-align: top;\n",
              "    }\n",
              "\n",
              "    .dataframe thead th {\n",
              "        text-align: right;\n",
              "    }\n",
              "</style>\n",
              "<table border=\"1\" class=\"dataframe\">\n",
              "  <thead>\n",
              "    <tr style=\"text-align: right;\">\n",
              "      <th></th>\n",
              "      <th>Capoluogo</th>\n",
              "      <th>Superficie</th>\n",
              "      <th>Presidente</th>\n",
              "      <th>Abitanti</th>\n",
              "    </tr>\n",
              "    <tr>\n",
              "      <th>Regione</th>\n",
              "      <th></th>\n",
              "      <th></th>\n",
              "      <th></th>\n",
              "      <th></th>\n",
              "    </tr>\n",
              "  </thead>\n",
              "  <tbody>\n",
              "    <tr>\n",
              "      <th>Lombardia</th>\n",
              "      <td>Milano</td>\n",
              "      <td>23.844 km²</td>\n",
              "      <td>Attilio Fontana</td>\n",
              "      <td>10,06 milioni</td>\n",
              "    </tr>\n",
              "    <tr>\n",
              "      <th>Piemonte</th>\n",
              "      <td>Torino</td>\n",
              "      <td>25.387 km²</td>\n",
              "      <td>Alberto Albo Cirio</td>\n",
              "      <td>4,356 milioni</td>\n",
              "    </tr>\n",
              "    <tr>\n",
              "      <th>Veneto</th>\n",
              "      <td>Venezia</td>\n",
              "      <td>18.345 km²</td>\n",
              "      <td>Luca Zaia</td>\n",
              "      <td>4,906 milioni</td>\n",
              "    </tr>\n",
              "  </tbody>\n",
              "</table>\n",
              "</div>"
            ],
            "text/plain": [
              "          Capoluogo  Superficie          Presidente       Abitanti\n",
              "Regione                                                           \n",
              "Lombardia    Milano  23.844 km²     Attilio Fontana  10,06 milioni\n",
              "Piemonte     Torino  25.387 km²  Alberto Albo Cirio  4,356 milioni\n",
              "Veneto      Venezia  18.345 km²           Luca Zaia  4,906 milioni"
            ]
          },
          "metadata": {},
          "execution_count": 25
        }
      ]
    },
    {
      "cell_type": "markdown",
      "metadata": {
        "id": "nZ44R0FYvx0L"
      },
      "source": [
        "4. Utilizzando il dataframe appena creato visualizzare solo i capoluoghi.\n"
      ]
    },
    {
      "cell_type": "code",
      "metadata": {
        "colab": {
          "base_uri": "https://localhost:8080/"
        },
        "id": "xGKAzlcgwKea",
        "outputId": "0dfc1eaa-dc4d-4d5b-908a-6f435ee93ae6"
      },
      "source": [
        "nord_italia['Capoluogo']"
      ],
      "execution_count": null,
      "outputs": [
        {
          "output_type": "execute_result",
          "data": {
            "text/plain": [
              "Regione\n",
              "Lombardia     Milano\n",
              "Piemonte      Torino\n",
              "Veneto       Venezia\n",
              "Name: Capoluogo, dtype: object"
            ]
          },
          "metadata": {},
          "execution_count": 26
        }
      ]
    },
    {
      "cell_type": "markdown",
      "metadata": {
        "id": "dwuUALAMwllB"
      },
      "source": [
        "5. Visualizzare una lista delle colonne del dataframe.\n"
      ]
    },
    {
      "cell_type": "code",
      "metadata": {
        "colab": {
          "base_uri": "https://localhost:8080/"
        },
        "id": "s1GKGWfXwoGx",
        "outputId": "6fb16264-779c-4653-f82a-993239f826c9"
      },
      "source": [
        "nord_italia.columns"
      ],
      "execution_count": null,
      "outputs": [
        {
          "output_type": "execute_result",
          "data": {
            "text/plain": [
              "Index(['Capoluogo', 'Superficie', 'Presidente', 'Abitanti'], dtype='object')"
            ]
          },
          "metadata": {},
          "execution_count": 27
        }
      ]
    },
    {
      "cell_type": "markdown",
      "metadata": {
        "id": "lbd33emcxJgR"
      },
      "source": [
        "6. Visualizzare l'insieme degli indici.\n"
      ]
    },
    {
      "cell_type": "code",
      "metadata": {
        "colab": {
          "base_uri": "https://localhost:8080/"
        },
        "id": "E-_awEeOxNox",
        "outputId": "7b1a6f34-cddf-4a85-a9c2-9e18653ab6d4"
      },
      "source": [
        "nord_italia.index"
      ],
      "execution_count": null,
      "outputs": [
        {
          "output_type": "execute_result",
          "data": {
            "text/plain": [
              "Index(['Lombardia', 'Piemonte', 'Veneto'], dtype='object', name='Regione')"
            ]
          },
          "metadata": {},
          "execution_count": 28
        }
      ]
    },
    {
      "cell_type": "code",
      "metadata": {
        "colab": {
          "base_uri": "https://localhost:8080/",
          "height": 328
        },
        "id": "8sJ-tA01yjS1",
        "outputId": "c2e7e278-c7e9-4240-d6a9-590a41a497e2"
      },
      "source": [
        "url = 'https://raw.githubusercontent.com/italia/covid19-opendata-vaccini/master/dati/anagrafica-vaccini-summary-latest.csv'\n",
        "df = pd.read_csv(url)\n",
        "df"
      ],
      "execution_count": null,
      "outputs": [
        {
          "output_type": "execute_result",
          "data": {
            "text/html": [
              "<div>\n",
              "<style scoped>\n",
              "    .dataframe tbody tr th:only-of-type {\n",
              "        vertical-align: middle;\n",
              "    }\n",
              "\n",
              "    .dataframe tbody tr th {\n",
              "        vertical-align: top;\n",
              "    }\n",
              "\n",
              "    .dataframe thead th {\n",
              "        text-align: right;\n",
              "    }\n",
              "</style>\n",
              "<table border=\"1\" class=\"dataframe\">\n",
              "  <thead>\n",
              "    <tr style=\"text-align: right;\">\n",
              "      <th></th>\n",
              "      <th>fascia_anagrafica</th>\n",
              "      <th>totale</th>\n",
              "      <th>sesso_maschile</th>\n",
              "      <th>sesso_femminile</th>\n",
              "      <th>prima_dose</th>\n",
              "      <th>seconda_dose</th>\n",
              "      <th>pregressa_infezione</th>\n",
              "      <th>dose_aggiuntiva</th>\n",
              "      <th>dose_booster</th>\n",
              "      <th>ultimo_aggiornamento</th>\n",
              "    </tr>\n",
              "  </thead>\n",
              "  <tbody>\n",
              "    <tr>\n",
              "      <th>0</th>\n",
              "      <td>12-19</td>\n",
              "      <td>6268693</td>\n",
              "      <td>3209454</td>\n",
              "      <td>3059239</td>\n",
              "      <td>3223185</td>\n",
              "      <td>2940568</td>\n",
              "      <td>103985</td>\n",
              "      <td>726</td>\n",
              "      <td>229</td>\n",
              "      <td>2021-10-28</td>\n",
              "    </tr>\n",
              "    <tr>\n",
              "      <th>1</th>\n",
              "      <td>20-29</td>\n",
              "      <td>9891343</td>\n",
              "      <td>5171718</td>\n",
              "      <td>4719625</td>\n",
              "      <td>5075497</td>\n",
              "      <td>4587980</td>\n",
              "      <td>198307</td>\n",
              "      <td>3952</td>\n",
              "      <td>25607</td>\n",
              "      <td>2021-10-28</td>\n",
              "    </tr>\n",
              "    <tr>\n",
              "      <th>2</th>\n",
              "      <td>30-39</td>\n",
              "      <td>10555697</td>\n",
              "      <td>5420477</td>\n",
              "      <td>5135220</td>\n",
              "      <td>5415036</td>\n",
              "      <td>4888959</td>\n",
              "      <td>205108</td>\n",
              "      <td>7605</td>\n",
              "      <td>38989</td>\n",
              "      <td>2021-10-28</td>\n",
              "    </tr>\n",
              "    <tr>\n",
              "      <th>3</th>\n",
              "      <td>40-49</td>\n",
              "      <td>13761536</td>\n",
              "      <td>6829397</td>\n",
              "      <td>6932139</td>\n",
              "      <td>6991305</td>\n",
              "      <td>6417692</td>\n",
              "      <td>283878</td>\n",
              "      <td>18727</td>\n",
              "      <td>49934</td>\n",
              "      <td>2021-10-28</td>\n",
              "    </tr>\n",
              "    <tr>\n",
              "      <th>4</th>\n",
              "      <td>50-59</td>\n",
              "      <td>15818591</td>\n",
              "      <td>7760613</td>\n",
              "      <td>8057978</td>\n",
              "      <td>8023900</td>\n",
              "      <td>7337139</td>\n",
              "      <td>346607</td>\n",
              "      <td>39896</td>\n",
              "      <td>71049</td>\n",
              "      <td>2021-10-28</td>\n",
              "    </tr>\n",
              "    <tr>\n",
              "      <th>5</th>\n",
              "      <td>60-69</td>\n",
              "      <td>12875027</td>\n",
              "      <td>6247299</td>\n",
              "      <td>6627728</td>\n",
              "      <td>6537683</td>\n",
              "      <td>5948012</td>\n",
              "      <td>241212</td>\n",
              "      <td>57677</td>\n",
              "      <td>90443</td>\n",
              "      <td>2021-10-28</td>\n",
              "    </tr>\n",
              "    <tr>\n",
              "      <th>6</th>\n",
              "      <td>70-79</td>\n",
              "      <td>10840433</td>\n",
              "      <td>5091827</td>\n",
              "      <td>5748606</td>\n",
              "      <td>5393839</td>\n",
              "      <td>5158247</td>\n",
              "      <td>165987</td>\n",
              "      <td>61817</td>\n",
              "      <td>60543</td>\n",
              "      <td>2021-10-28</td>\n",
              "    </tr>\n",
              "    <tr>\n",
              "      <th>7</th>\n",
              "      <td>80-89</td>\n",
              "      <td>7541357</td>\n",
              "      <td>3148258</td>\n",
              "      <td>4393099</td>\n",
              "      <td>3451789</td>\n",
              "      <td>3388016</td>\n",
              "      <td>78350</td>\n",
              "      <td>36395</td>\n",
              "      <td>586807</td>\n",
              "      <td>2021-10-28</td>\n",
              "    </tr>\n",
              "    <tr>\n",
              "      <th>8</th>\n",
              "      <td>90+</td>\n",
              "      <td>1721375</td>\n",
              "      <td>514973</td>\n",
              "      <td>1206402</td>\n",
              "      <td>797161</td>\n",
              "      <td>768344</td>\n",
              "      <td>19234</td>\n",
              "      <td>6096</td>\n",
              "      <td>130540</td>\n",
              "      <td>2021-10-28</td>\n",
              "    </tr>\n",
              "  </tbody>\n",
              "</table>\n",
              "</div>"
            ],
            "text/plain": [
              "  fascia_anagrafica    totale  ...  dose_booster  ultimo_aggiornamento\n",
              "0             12-19   6268693  ...           229            2021-10-28\n",
              "1             20-29   9891343  ...         25607            2021-10-28\n",
              "2             30-39  10555697  ...         38989            2021-10-28\n",
              "3             40-49  13761536  ...         49934            2021-10-28\n",
              "4             50-59  15818591  ...         71049            2021-10-28\n",
              "5             60-69  12875027  ...         90443            2021-10-28\n",
              "6             70-79  10840433  ...         60543            2021-10-28\n",
              "7             80-89   7541357  ...        586807            2021-10-28\n",
              "8               90+   1721375  ...        130540            2021-10-28\n",
              "\n",
              "[9 rows x 10 columns]"
            ]
          },
          "metadata": {},
          "execution_count": 68
        }
      ]
    },
    {
      "cell_type": "markdown",
      "metadata": {
        "id": "LHA4-fEDy7rz"
      },
      "source": [
        "Visualizzare il numero di vaccinati nella fascia 12-19"
      ]
    },
    {
      "cell_type": "code",
      "metadata": {
        "colab": {
          "base_uri": "https://localhost:8080/"
        },
        "id": "Id9E57dDy_9S",
        "outputId": "0728ef34-1054-444b-e136-fd5c9fed4327"
      },
      "source": [
        "df.loc[df['fascia_anagrafica'] == '12-19','totale']"
      ],
      "execution_count": null,
      "outputs": [
        {
          "output_type": "execute_result",
          "data": {
            "text/plain": [
              "0    6268693\n",
              "Name: totale, dtype: int64"
            ]
          },
          "metadata": {},
          "execution_count": 37
        }
      ]
    },
    {
      "cell_type": "markdown",
      "metadata": {
        "id": "JnzYHUoVzwH7"
      },
      "source": [
        "Visualizzare numero vaccinati maschi, femmine"
      ]
    },
    {
      "cell_type": "code",
      "metadata": {
        "colab": {
          "base_uri": "https://localhost:8080/",
          "height": 80
        },
        "id": "8HjPrsPgzvms",
        "outputId": "17161bd4-1424-4328-9049-e05f610c64ed"
      },
      "source": [
        "df.loc[df['fascia_anagrafica'] == '12-19',['sesso_maschile','sesso_femminile']]"
      ],
      "execution_count": null,
      "outputs": [
        {
          "output_type": "execute_result",
          "data": {
            "text/html": [
              "<div>\n",
              "<style scoped>\n",
              "    .dataframe tbody tr th:only-of-type {\n",
              "        vertical-align: middle;\n",
              "    }\n",
              "\n",
              "    .dataframe tbody tr th {\n",
              "        vertical-align: top;\n",
              "    }\n",
              "\n",
              "    .dataframe thead th {\n",
              "        text-align: right;\n",
              "    }\n",
              "</style>\n",
              "<table border=\"1\" class=\"dataframe\">\n",
              "  <thead>\n",
              "    <tr style=\"text-align: right;\">\n",
              "      <th></th>\n",
              "      <th>sesso_maschile</th>\n",
              "      <th>sesso_femminile</th>\n",
              "    </tr>\n",
              "  </thead>\n",
              "  <tbody>\n",
              "    <tr>\n",
              "      <th>0</th>\n",
              "      <td>3209454</td>\n",
              "      <td>3059239</td>\n",
              "    </tr>\n",
              "  </tbody>\n",
              "</table>\n",
              "</div>"
            ],
            "text/plain": [
              "   sesso_maschile  sesso_femminile\n",
              "0         3209454          3059239"
            ]
          },
          "metadata": {},
          "execution_count": 38
        }
      ]
    },
    {
      "cell_type": "markdown",
      "metadata": {
        "id": "envHu8b80Fcs"
      },
      "source": [
        "Visualizzare fasce di età con più di 10 milioni di vaccinazioni\n",
        "\n",
        "\n"
      ]
    },
    {
      "cell_type": "code",
      "metadata": {
        "colab": {
          "base_uri": "https://localhost:8080/"
        },
        "id": "LquEOmXF0LBb",
        "outputId": "5fbcc884-c848-4c2f-af41-f589e3881888"
      },
      "source": [
        "df.loc[df['totale'] >= 10000000, 'fascia_anagrafica']"
      ],
      "execution_count": null,
      "outputs": [
        {
          "output_type": "execute_result",
          "data": {
            "text/plain": [
              "2    30-39\n",
              "3    40-49\n",
              "4    50-59\n",
              "5    60-69\n",
              "6    70-79\n",
              "Name: fascia_anagrafica, dtype: object"
            ]
          },
          "metadata": {},
          "execution_count": 39
        }
      ]
    },
    {
      "cell_type": "markdown",
      "metadata": {
        "id": "oB7yq5X00mvL"
      },
      "source": [
        "Visualizzare fasce di età tra le 10 e le 20 milioni di vaccinazioni\n"
      ]
    },
    {
      "cell_type": "code",
      "metadata": {
        "colab": {
          "base_uri": "https://localhost:8080/"
        },
        "id": "cgKba1gI0s_9",
        "outputId": "9e2d602f-d8b4-47c3-ae2b-fa231217a51f"
      },
      "source": [
        "df.loc[(df['totale'] < 20000000) & (df['totale'] > 10000000), 'fascia_anagrafica']"
      ],
      "execution_count": null,
      "outputs": [
        {
          "output_type": "execute_result",
          "data": {
            "text/plain": [
              "2    30-39\n",
              "3    40-49\n",
              "4    50-59\n",
              "5    60-69\n",
              "6    70-79\n",
              "Name: fascia_anagrafica, dtype: object"
            ]
          },
          "metadata": {},
          "execution_count": 40
        }
      ]
    },
    {
      "cell_type": "markdown",
      "metadata": {
        "id": "zvSsG3Z7K3PZ"
      },
      "source": [
        "Aggiungere una colonna 'percentuale sesso maschile' dove inserire la percentuale di maschi vaccinati sul totale"
      ]
    },
    {
      "cell_type": "code",
      "metadata": {
        "colab": {
          "base_uri": "https://localhost:8080/",
          "height": 328
        },
        "id": "8niDX82uLGHo",
        "outputId": "be1aa554-4370-4ccb-af47-bd6e167a1db7"
      },
      "source": [
        "df['percentuale sesso maschile'] = (df['sesso_maschile'] * 100) / df['totale']\n",
        "df"
      ],
      "execution_count": null,
      "outputs": [
        {
          "output_type": "execute_result",
          "data": {
            "text/html": [
              "<div>\n",
              "<style scoped>\n",
              "    .dataframe tbody tr th:only-of-type {\n",
              "        vertical-align: middle;\n",
              "    }\n",
              "\n",
              "    .dataframe tbody tr th {\n",
              "        vertical-align: top;\n",
              "    }\n",
              "\n",
              "    .dataframe thead th {\n",
              "        text-align: right;\n",
              "    }\n",
              "</style>\n",
              "<table border=\"1\" class=\"dataframe\">\n",
              "  <thead>\n",
              "    <tr style=\"text-align: right;\">\n",
              "      <th></th>\n",
              "      <th>fascia_anagrafica</th>\n",
              "      <th>totale</th>\n",
              "      <th>sesso_maschile</th>\n",
              "      <th>sesso_femminile</th>\n",
              "      <th>prima_dose</th>\n",
              "      <th>seconda_dose</th>\n",
              "      <th>pregressa_infezione</th>\n",
              "      <th>dose_aggiuntiva</th>\n",
              "      <th>dose_booster</th>\n",
              "      <th>ultimo_aggiornamento</th>\n",
              "      <th>percentuale sesso maschile</th>\n",
              "    </tr>\n",
              "  </thead>\n",
              "  <tbody>\n",
              "    <tr>\n",
              "      <th>0</th>\n",
              "      <td>12-19</td>\n",
              "      <td>6268693</td>\n",
              "      <td>3209454</td>\n",
              "      <td>3059239</td>\n",
              "      <td>3223185</td>\n",
              "      <td>2940568</td>\n",
              "      <td>103985</td>\n",
              "      <td>726</td>\n",
              "      <td>229</td>\n",
              "      <td>2021-10-28</td>\n",
              "      <td>51.198137</td>\n",
              "    </tr>\n",
              "    <tr>\n",
              "      <th>1</th>\n",
              "      <td>20-29</td>\n",
              "      <td>9891343</td>\n",
              "      <td>5171718</td>\n",
              "      <td>4719625</td>\n",
              "      <td>5075497</td>\n",
              "      <td>4587980</td>\n",
              "      <td>198307</td>\n",
              "      <td>3952</td>\n",
              "      <td>25607</td>\n",
              "      <td>2021-10-28</td>\n",
              "      <td>52.285296</td>\n",
              "    </tr>\n",
              "    <tr>\n",
              "      <th>2</th>\n",
              "      <td>30-39</td>\n",
              "      <td>10555697</td>\n",
              "      <td>5420477</td>\n",
              "      <td>5135220</td>\n",
              "      <td>5415036</td>\n",
              "      <td>4888959</td>\n",
              "      <td>205108</td>\n",
              "      <td>7605</td>\n",
              "      <td>38989</td>\n",
              "      <td>2021-10-28</td>\n",
              "      <td>51.351199</td>\n",
              "    </tr>\n",
              "    <tr>\n",
              "      <th>3</th>\n",
              "      <td>40-49</td>\n",
              "      <td>13761536</td>\n",
              "      <td>6829397</td>\n",
              "      <td>6932139</td>\n",
              "      <td>6991305</td>\n",
              "      <td>6417692</td>\n",
              "      <td>283878</td>\n",
              "      <td>18727</td>\n",
              "      <td>49934</td>\n",
              "      <td>2021-10-28</td>\n",
              "      <td>49.626706</td>\n",
              "    </tr>\n",
              "    <tr>\n",
              "      <th>4</th>\n",
              "      <td>50-59</td>\n",
              "      <td>15818591</td>\n",
              "      <td>7760613</td>\n",
              "      <td>8057978</td>\n",
              "      <td>8023900</td>\n",
              "      <td>7337139</td>\n",
              "      <td>346607</td>\n",
              "      <td>39896</td>\n",
              "      <td>71049</td>\n",
              "      <td>2021-10-28</td>\n",
              "      <td>49.060077</td>\n",
              "    </tr>\n",
              "    <tr>\n",
              "      <th>5</th>\n",
              "      <td>60-69</td>\n",
              "      <td>12875027</td>\n",
              "      <td>6247299</td>\n",
              "      <td>6627728</td>\n",
              "      <td>6537683</td>\n",
              "      <td>5948012</td>\n",
              "      <td>241212</td>\n",
              "      <td>57677</td>\n",
              "      <td>90443</td>\n",
              "      <td>2021-10-28</td>\n",
              "      <td>48.522609</td>\n",
              "    </tr>\n",
              "    <tr>\n",
              "      <th>6</th>\n",
              "      <td>70-79</td>\n",
              "      <td>10840433</td>\n",
              "      <td>5091827</td>\n",
              "      <td>5748606</td>\n",
              "      <td>5393839</td>\n",
              "      <td>5158247</td>\n",
              "      <td>165987</td>\n",
              "      <td>61817</td>\n",
              "      <td>60543</td>\n",
              "      <td>2021-10-28</td>\n",
              "      <td>46.970698</td>\n",
              "    </tr>\n",
              "    <tr>\n",
              "      <th>7</th>\n",
              "      <td>80-89</td>\n",
              "      <td>7541357</td>\n",
              "      <td>3148258</td>\n",
              "      <td>4393099</td>\n",
              "      <td>3451789</td>\n",
              "      <td>3388016</td>\n",
              "      <td>78350</td>\n",
              "      <td>36395</td>\n",
              "      <td>586807</td>\n",
              "      <td>2021-10-28</td>\n",
              "      <td>41.746572</td>\n",
              "    </tr>\n",
              "    <tr>\n",
              "      <th>8</th>\n",
              "      <td>90+</td>\n",
              "      <td>1721375</td>\n",
              "      <td>514973</td>\n",
              "      <td>1206402</td>\n",
              "      <td>797161</td>\n",
              "      <td>768344</td>\n",
              "      <td>19234</td>\n",
              "      <td>6096</td>\n",
              "      <td>130540</td>\n",
              "      <td>2021-10-28</td>\n",
              "      <td>29.916375</td>\n",
              "    </tr>\n",
              "  </tbody>\n",
              "</table>\n",
              "</div>"
            ],
            "text/plain": [
              "  fascia_anagrafica    totale  ...  ultimo_aggiornamento  percentuale sesso maschile\n",
              "0             12-19   6268693  ...            2021-10-28                   51.198137\n",
              "1             20-29   9891343  ...            2021-10-28                   52.285296\n",
              "2             30-39  10555697  ...            2021-10-28                   51.351199\n",
              "3             40-49  13761536  ...            2021-10-28                   49.626706\n",
              "4             50-59  15818591  ...            2021-10-28                   49.060077\n",
              "5             60-69  12875027  ...            2021-10-28                   48.522609\n",
              "6             70-79  10840433  ...            2021-10-28                   46.970698\n",
              "7             80-89   7541357  ...            2021-10-28                   41.746572\n",
              "8               90+   1721375  ...            2021-10-28                   29.916375\n",
              "\n",
              "[9 rows x 11 columns]"
            ]
          },
          "metadata": {},
          "execution_count": 41
        }
      ]
    },
    {
      "cell_type": "markdown",
      "metadata": {
        "id": "tpUyogDRLG1Y"
      },
      "source": [
        "Fare la stessa cosa per il sesso femminile"
      ]
    },
    {
      "cell_type": "code",
      "metadata": {
        "colab": {
          "base_uri": "https://localhost:8080/",
          "height": 328
        },
        "id": "mBprN7UbLNLA",
        "outputId": "dadb1fc0-c523-401c-9af5-a2b2ca7eacb8"
      },
      "source": [
        "df['percentuale sesso femminile'] = (df['sesso_femminile'] * 100) / df['totale']\n",
        "df"
      ],
      "execution_count": null,
      "outputs": [
        {
          "output_type": "execute_result",
          "data": {
            "text/html": [
              "<div>\n",
              "<style scoped>\n",
              "    .dataframe tbody tr th:only-of-type {\n",
              "        vertical-align: middle;\n",
              "    }\n",
              "\n",
              "    .dataframe tbody tr th {\n",
              "        vertical-align: top;\n",
              "    }\n",
              "\n",
              "    .dataframe thead th {\n",
              "        text-align: right;\n",
              "    }\n",
              "</style>\n",
              "<table border=\"1\" class=\"dataframe\">\n",
              "  <thead>\n",
              "    <tr style=\"text-align: right;\">\n",
              "      <th></th>\n",
              "      <th>fascia_anagrafica</th>\n",
              "      <th>totale</th>\n",
              "      <th>sesso_maschile</th>\n",
              "      <th>sesso_femminile</th>\n",
              "      <th>prima_dose</th>\n",
              "      <th>seconda_dose</th>\n",
              "      <th>pregressa_infezione</th>\n",
              "      <th>dose_aggiuntiva</th>\n",
              "      <th>dose_booster</th>\n",
              "      <th>ultimo_aggiornamento</th>\n",
              "      <th>percentuale sesso maschile</th>\n",
              "      <th>percentuale sesso femminile</th>\n",
              "    </tr>\n",
              "  </thead>\n",
              "  <tbody>\n",
              "    <tr>\n",
              "      <th>0</th>\n",
              "      <td>12-19</td>\n",
              "      <td>6268693</td>\n",
              "      <td>3209454</td>\n",
              "      <td>3059239</td>\n",
              "      <td>3223185</td>\n",
              "      <td>2940568</td>\n",
              "      <td>103985</td>\n",
              "      <td>726</td>\n",
              "      <td>229</td>\n",
              "      <td>2021-10-28</td>\n",
              "      <td>51.198137</td>\n",
              "      <td>48.801863</td>\n",
              "    </tr>\n",
              "    <tr>\n",
              "      <th>1</th>\n",
              "      <td>20-29</td>\n",
              "      <td>9891343</td>\n",
              "      <td>5171718</td>\n",
              "      <td>4719625</td>\n",
              "      <td>5075497</td>\n",
              "      <td>4587980</td>\n",
              "      <td>198307</td>\n",
              "      <td>3952</td>\n",
              "      <td>25607</td>\n",
              "      <td>2021-10-28</td>\n",
              "      <td>52.285296</td>\n",
              "      <td>47.714704</td>\n",
              "    </tr>\n",
              "    <tr>\n",
              "      <th>2</th>\n",
              "      <td>30-39</td>\n",
              "      <td>10555697</td>\n",
              "      <td>5420477</td>\n",
              "      <td>5135220</td>\n",
              "      <td>5415036</td>\n",
              "      <td>4888959</td>\n",
              "      <td>205108</td>\n",
              "      <td>7605</td>\n",
              "      <td>38989</td>\n",
              "      <td>2021-10-28</td>\n",
              "      <td>51.351199</td>\n",
              "      <td>48.648801</td>\n",
              "    </tr>\n",
              "    <tr>\n",
              "      <th>3</th>\n",
              "      <td>40-49</td>\n",
              "      <td>13761536</td>\n",
              "      <td>6829397</td>\n",
              "      <td>6932139</td>\n",
              "      <td>6991305</td>\n",
              "      <td>6417692</td>\n",
              "      <td>283878</td>\n",
              "      <td>18727</td>\n",
              "      <td>49934</td>\n",
              "      <td>2021-10-28</td>\n",
              "      <td>49.626706</td>\n",
              "      <td>50.373294</td>\n",
              "    </tr>\n",
              "    <tr>\n",
              "      <th>4</th>\n",
              "      <td>50-59</td>\n",
              "      <td>15818591</td>\n",
              "      <td>7760613</td>\n",
              "      <td>8057978</td>\n",
              "      <td>8023900</td>\n",
              "      <td>7337139</td>\n",
              "      <td>346607</td>\n",
              "      <td>39896</td>\n",
              "      <td>71049</td>\n",
              "      <td>2021-10-28</td>\n",
              "      <td>49.060077</td>\n",
              "      <td>50.939923</td>\n",
              "    </tr>\n",
              "    <tr>\n",
              "      <th>5</th>\n",
              "      <td>60-69</td>\n",
              "      <td>12875027</td>\n",
              "      <td>6247299</td>\n",
              "      <td>6627728</td>\n",
              "      <td>6537683</td>\n",
              "      <td>5948012</td>\n",
              "      <td>241212</td>\n",
              "      <td>57677</td>\n",
              "      <td>90443</td>\n",
              "      <td>2021-10-28</td>\n",
              "      <td>48.522609</td>\n",
              "      <td>51.477391</td>\n",
              "    </tr>\n",
              "    <tr>\n",
              "      <th>6</th>\n",
              "      <td>70-79</td>\n",
              "      <td>10840433</td>\n",
              "      <td>5091827</td>\n",
              "      <td>5748606</td>\n",
              "      <td>5393839</td>\n",
              "      <td>5158247</td>\n",
              "      <td>165987</td>\n",
              "      <td>61817</td>\n",
              "      <td>60543</td>\n",
              "      <td>2021-10-28</td>\n",
              "      <td>46.970698</td>\n",
              "      <td>53.029302</td>\n",
              "    </tr>\n",
              "    <tr>\n",
              "      <th>7</th>\n",
              "      <td>80-89</td>\n",
              "      <td>7541357</td>\n",
              "      <td>3148258</td>\n",
              "      <td>4393099</td>\n",
              "      <td>3451789</td>\n",
              "      <td>3388016</td>\n",
              "      <td>78350</td>\n",
              "      <td>36395</td>\n",
              "      <td>586807</td>\n",
              "      <td>2021-10-28</td>\n",
              "      <td>41.746572</td>\n",
              "      <td>58.253428</td>\n",
              "    </tr>\n",
              "    <tr>\n",
              "      <th>8</th>\n",
              "      <td>90+</td>\n",
              "      <td>1721375</td>\n",
              "      <td>514973</td>\n",
              "      <td>1206402</td>\n",
              "      <td>797161</td>\n",
              "      <td>768344</td>\n",
              "      <td>19234</td>\n",
              "      <td>6096</td>\n",
              "      <td>130540</td>\n",
              "      <td>2021-10-28</td>\n",
              "      <td>29.916375</td>\n",
              "      <td>70.083625</td>\n",
              "    </tr>\n",
              "  </tbody>\n",
              "</table>\n",
              "</div>"
            ],
            "text/plain": [
              "  fascia_anagrafica  ...  percentuale sesso femminile\n",
              "0             12-19  ...                    48.801863\n",
              "1             20-29  ...                    47.714704\n",
              "2             30-39  ...                    48.648801\n",
              "3             40-49  ...                    50.373294\n",
              "4             50-59  ...                    50.939923\n",
              "5             60-69  ...                    51.477391\n",
              "6             70-79  ...                    53.029302\n",
              "7             80-89  ...                    58.253428\n",
              "8               90+  ...                    70.083625\n",
              "\n",
              "[9 rows x 12 columns]"
            ]
          },
          "metadata": {},
          "execution_count": 42
        }
      ]
    },
    {
      "cell_type": "markdown",
      "metadata": {
        "id": "XkJQVQptLM0p"
      },
      "source": [
        "Visualizzare le fasce di età in cui la percentuale di maschi vaccinati è maggiore della percentuale di femmine vaccinate"
      ]
    },
    {
      "cell_type": "code",
      "metadata": {
        "colab": {
          "base_uri": "https://localhost:8080/"
        },
        "id": "NSdbcPA6LYR4",
        "outputId": "180d20fc-b793-4cd6-bd08-04c12a6b27e7"
      },
      "source": [
        "df.loc[df['percentuale sesso maschile'] > df['percentuale sesso femminile']]['fascia_anagrafica']"
      ],
      "execution_count": null,
      "outputs": [
        {
          "output_type": "execute_result",
          "data": {
            "text/plain": [
              "0    12-19\n",
              "1    20-29\n",
              "2    30-39\n",
              "Name: fascia_anagrafica, dtype: object"
            ]
          },
          "metadata": {},
          "execution_count": 43
        }
      ]
    },
    {
      "cell_type": "markdown",
      "metadata": {
        "id": "Awa_rYjmLaTI"
      },
      "source": [
        "Visualizzare le fasce di età dove la dose aggiuntiva è minore della dose booster "
      ]
    },
    {
      "cell_type": "code",
      "metadata": {
        "colab": {
          "base_uri": "https://localhost:8080/"
        },
        "id": "TLqG7l0JLajB",
        "outputId": "c71ca410-09e0-404e-e8bc-7f62b7dd33da"
      },
      "source": [
        "df.loc[df['dose_aggiuntiva'] < df['dose_booster']]['fascia_anagrafica']"
      ],
      "execution_count": null,
      "outputs": [
        {
          "output_type": "execute_result",
          "data": {
            "text/plain": [
              "1    20-29\n",
              "2    30-39\n",
              "3    40-49\n",
              "4    50-59\n",
              "5    60-69\n",
              "7    80-89\n",
              "8      90+\n",
              "Name: fascia_anagrafica, dtype: object"
            ]
          },
          "metadata": {},
          "execution_count": 55
        }
      ]
    },
    {
      "cell_type": "markdown",
      "metadata": {
        "id": "2Mrxzv_gLkRY"
      },
      "source": [
        "Sostituire al valore 90+ il valore 90-120"
      ]
    },
    {
      "cell_type": "code",
      "metadata": {
        "colab": {
          "base_uri": "https://localhost:8080/",
          "height": 328
        },
        "id": "TRGFmhw5LkBw",
        "outputId": "ac149731-4b66-42fb-e989-df8c879da6cf"
      },
      "source": [
        "df[\"fascia_anagrafica\"].replace({\"90+\": \"90-120\"}, inplace=True)\n",
        "df"
      ],
      "execution_count": null,
      "outputs": [
        {
          "output_type": "execute_result",
          "data": {
            "text/html": [
              "<div>\n",
              "<style scoped>\n",
              "    .dataframe tbody tr th:only-of-type {\n",
              "        vertical-align: middle;\n",
              "    }\n",
              "\n",
              "    .dataframe tbody tr th {\n",
              "        vertical-align: top;\n",
              "    }\n",
              "\n",
              "    .dataframe thead th {\n",
              "        text-align: right;\n",
              "    }\n",
              "</style>\n",
              "<table border=\"1\" class=\"dataframe\">\n",
              "  <thead>\n",
              "    <tr style=\"text-align: right;\">\n",
              "      <th></th>\n",
              "      <th>fascia_anagrafica</th>\n",
              "      <th>totale</th>\n",
              "      <th>sesso_maschile</th>\n",
              "      <th>sesso_femminile</th>\n",
              "      <th>prima_dose</th>\n",
              "      <th>seconda_dose</th>\n",
              "      <th>pregressa_infezione</th>\n",
              "      <th>dose_aggiuntiva</th>\n",
              "      <th>dose_booster</th>\n",
              "      <th>ultimo_aggiornamento</th>\n",
              "    </tr>\n",
              "  </thead>\n",
              "  <tbody>\n",
              "    <tr>\n",
              "      <th>0</th>\n",
              "      <td>12-19</td>\n",
              "      <td>6268693</td>\n",
              "      <td>3209454</td>\n",
              "      <td>3059239</td>\n",
              "      <td>3223185</td>\n",
              "      <td>2940568</td>\n",
              "      <td>103985</td>\n",
              "      <td>726</td>\n",
              "      <td>229</td>\n",
              "      <td>2021-10-28</td>\n",
              "    </tr>\n",
              "    <tr>\n",
              "      <th>1</th>\n",
              "      <td>20-29</td>\n",
              "      <td>9891343</td>\n",
              "      <td>5171718</td>\n",
              "      <td>4719625</td>\n",
              "      <td>5075497</td>\n",
              "      <td>4587980</td>\n",
              "      <td>198307</td>\n",
              "      <td>3952</td>\n",
              "      <td>25607</td>\n",
              "      <td>2021-10-28</td>\n",
              "    </tr>\n",
              "    <tr>\n",
              "      <th>2</th>\n",
              "      <td>30-39</td>\n",
              "      <td>10555697</td>\n",
              "      <td>5420477</td>\n",
              "      <td>5135220</td>\n",
              "      <td>5415036</td>\n",
              "      <td>4888959</td>\n",
              "      <td>205108</td>\n",
              "      <td>7605</td>\n",
              "      <td>38989</td>\n",
              "      <td>2021-10-28</td>\n",
              "    </tr>\n",
              "    <tr>\n",
              "      <th>3</th>\n",
              "      <td>40-49</td>\n",
              "      <td>13761536</td>\n",
              "      <td>6829397</td>\n",
              "      <td>6932139</td>\n",
              "      <td>6991305</td>\n",
              "      <td>6417692</td>\n",
              "      <td>283878</td>\n",
              "      <td>18727</td>\n",
              "      <td>49934</td>\n",
              "      <td>2021-10-28</td>\n",
              "    </tr>\n",
              "    <tr>\n",
              "      <th>4</th>\n",
              "      <td>50-59</td>\n",
              "      <td>15818591</td>\n",
              "      <td>7760613</td>\n",
              "      <td>8057978</td>\n",
              "      <td>8023900</td>\n",
              "      <td>7337139</td>\n",
              "      <td>346607</td>\n",
              "      <td>39896</td>\n",
              "      <td>71049</td>\n",
              "      <td>2021-10-28</td>\n",
              "    </tr>\n",
              "    <tr>\n",
              "      <th>5</th>\n",
              "      <td>60-69</td>\n",
              "      <td>12875027</td>\n",
              "      <td>6247299</td>\n",
              "      <td>6627728</td>\n",
              "      <td>6537683</td>\n",
              "      <td>5948012</td>\n",
              "      <td>241212</td>\n",
              "      <td>57677</td>\n",
              "      <td>90443</td>\n",
              "      <td>2021-10-28</td>\n",
              "    </tr>\n",
              "    <tr>\n",
              "      <th>6</th>\n",
              "      <td>70-79</td>\n",
              "      <td>10840433</td>\n",
              "      <td>5091827</td>\n",
              "      <td>5748606</td>\n",
              "      <td>5393839</td>\n",
              "      <td>5158247</td>\n",
              "      <td>165987</td>\n",
              "      <td>61817</td>\n",
              "      <td>60543</td>\n",
              "      <td>2021-10-28</td>\n",
              "    </tr>\n",
              "    <tr>\n",
              "      <th>7</th>\n",
              "      <td>80-89</td>\n",
              "      <td>7541357</td>\n",
              "      <td>3148258</td>\n",
              "      <td>4393099</td>\n",
              "      <td>3451789</td>\n",
              "      <td>3388016</td>\n",
              "      <td>78350</td>\n",
              "      <td>36395</td>\n",
              "      <td>586807</td>\n",
              "      <td>2021-10-28</td>\n",
              "    </tr>\n",
              "    <tr>\n",
              "      <th>8</th>\n",
              "      <td>90-120</td>\n",
              "      <td>1721375</td>\n",
              "      <td>514973</td>\n",
              "      <td>1206402</td>\n",
              "      <td>797161</td>\n",
              "      <td>768344</td>\n",
              "      <td>19234</td>\n",
              "      <td>6096</td>\n",
              "      <td>130540</td>\n",
              "      <td>2021-10-28</td>\n",
              "    </tr>\n",
              "  </tbody>\n",
              "</table>\n",
              "</div>"
            ],
            "text/plain": [
              "  fascia_anagrafica    totale  ...  dose_booster  ultimo_aggiornamento\n",
              "0             12-19   6268693  ...           229            2021-10-28\n",
              "1             20-29   9891343  ...         25607            2021-10-28\n",
              "2             30-39  10555697  ...         38989            2021-10-28\n",
              "3             40-49  13761536  ...         49934            2021-10-28\n",
              "4             50-59  15818591  ...         71049            2021-10-28\n",
              "5             60-69  12875027  ...         90443            2021-10-28\n",
              "6             70-79  10840433  ...         60543            2021-10-28\n",
              "7             80-89   7541357  ...        586807            2021-10-28\n",
              "8            90-120   1721375  ...        130540            2021-10-28\n",
              "\n",
              "[9 rows x 10 columns]"
            ]
          },
          "metadata": {},
          "execution_count": 59
        }
      ]
    },
    {
      "cell_type": "markdown",
      "metadata": {
        "id": "_BJ2l-MxLvHY"
      },
      "source": [
        "Creare un nuovo dataframe contenente le prime 10 fasce anagrafiche "
      ]
    },
    {
      "cell_type": "code",
      "metadata": {
        "colab": {
          "base_uri": "https://localhost:8080/",
          "height": 328
        },
        "id": "0A0IkyHyL4Ew",
        "outputId": "d839247c-8ceb-4a47-b5fc-5e4c50c7c7f8"
      },
      "source": [
        "fasce_anagrafiche = pd.DataFrame(df['fascia_anagrafica'].head(10))\n",
        "fasce_anagrafiche"
      ],
      "execution_count": null,
      "outputs": [
        {
          "output_type": "execute_result",
          "data": {
            "text/html": [
              "<div>\n",
              "<style scoped>\n",
              "    .dataframe tbody tr th:only-of-type {\n",
              "        vertical-align: middle;\n",
              "    }\n",
              "\n",
              "    .dataframe tbody tr th {\n",
              "        vertical-align: top;\n",
              "    }\n",
              "\n",
              "    .dataframe thead th {\n",
              "        text-align: right;\n",
              "    }\n",
              "</style>\n",
              "<table border=\"1\" class=\"dataframe\">\n",
              "  <thead>\n",
              "    <tr style=\"text-align: right;\">\n",
              "      <th></th>\n",
              "      <th>fascia_anagrafica</th>\n",
              "    </tr>\n",
              "  </thead>\n",
              "  <tbody>\n",
              "    <tr>\n",
              "      <th>0</th>\n",
              "      <td>12-19</td>\n",
              "    </tr>\n",
              "    <tr>\n",
              "      <th>1</th>\n",
              "      <td>20-29</td>\n",
              "    </tr>\n",
              "    <tr>\n",
              "      <th>2</th>\n",
              "      <td>30-39</td>\n",
              "    </tr>\n",
              "    <tr>\n",
              "      <th>3</th>\n",
              "      <td>40-49</td>\n",
              "    </tr>\n",
              "    <tr>\n",
              "      <th>4</th>\n",
              "      <td>50-59</td>\n",
              "    </tr>\n",
              "    <tr>\n",
              "      <th>5</th>\n",
              "      <td>60-69</td>\n",
              "    </tr>\n",
              "    <tr>\n",
              "      <th>6</th>\n",
              "      <td>70-79</td>\n",
              "    </tr>\n",
              "    <tr>\n",
              "      <th>7</th>\n",
              "      <td>80-89</td>\n",
              "    </tr>\n",
              "    <tr>\n",
              "      <th>8</th>\n",
              "      <td>90-120</td>\n",
              "    </tr>\n",
              "  </tbody>\n",
              "</table>\n",
              "</div>"
            ],
            "text/plain": [
              "  fascia_anagrafica\n",
              "0             12-19\n",
              "1             20-29\n",
              "2             30-39\n",
              "3             40-49\n",
              "4             50-59\n",
              "5             60-69\n",
              "6             70-79\n",
              "7             80-89\n",
              "8            90-120"
            ]
          },
          "metadata": {},
          "execution_count": 60
        }
      ]
    },
    {
      "cell_type": "markdown",
      "metadata": {
        "id": "YQjTqwCTL3r5"
      },
      "source": [
        "Creare un nuovo dataframe contenente la fascia anagrafica e la colonna prima e seconda dose "
      ]
    },
    {
      "cell_type": "code",
      "metadata": {
        "colab": {
          "base_uri": "https://localhost:8080/",
          "height": 328
        },
        "id": "l9CNaGqpMDga",
        "outputId": "a28db9a9-8801-4aac-8126-74e840b6f2f4"
      },
      "source": [
        "fasce_anagrafiche_1_2 = pd.DataFrame(df[['fascia_anagrafica','prima_dose','seconda_dose']])\n",
        "fasce_anagrafiche_1_2"
      ],
      "execution_count": null,
      "outputs": [
        {
          "output_type": "execute_result",
          "data": {
            "text/html": [
              "<div>\n",
              "<style scoped>\n",
              "    .dataframe tbody tr th:only-of-type {\n",
              "        vertical-align: middle;\n",
              "    }\n",
              "\n",
              "    .dataframe tbody tr th {\n",
              "        vertical-align: top;\n",
              "    }\n",
              "\n",
              "    .dataframe thead th {\n",
              "        text-align: right;\n",
              "    }\n",
              "</style>\n",
              "<table border=\"1\" class=\"dataframe\">\n",
              "  <thead>\n",
              "    <tr style=\"text-align: right;\">\n",
              "      <th></th>\n",
              "      <th>fascia_anagrafica</th>\n",
              "      <th>prima_dose</th>\n",
              "      <th>seconda_dose</th>\n",
              "    </tr>\n",
              "  </thead>\n",
              "  <tbody>\n",
              "    <tr>\n",
              "      <th>0</th>\n",
              "      <td>12-19</td>\n",
              "      <td>3223185</td>\n",
              "      <td>2940568</td>\n",
              "    </tr>\n",
              "    <tr>\n",
              "      <th>1</th>\n",
              "      <td>20-29</td>\n",
              "      <td>5075497</td>\n",
              "      <td>4587980</td>\n",
              "    </tr>\n",
              "    <tr>\n",
              "      <th>2</th>\n",
              "      <td>30-39</td>\n",
              "      <td>5415036</td>\n",
              "      <td>4888959</td>\n",
              "    </tr>\n",
              "    <tr>\n",
              "      <th>3</th>\n",
              "      <td>40-49</td>\n",
              "      <td>6991305</td>\n",
              "      <td>6417692</td>\n",
              "    </tr>\n",
              "    <tr>\n",
              "      <th>4</th>\n",
              "      <td>50-59</td>\n",
              "      <td>8023900</td>\n",
              "      <td>7337139</td>\n",
              "    </tr>\n",
              "    <tr>\n",
              "      <th>5</th>\n",
              "      <td>60-69</td>\n",
              "      <td>6537683</td>\n",
              "      <td>5948012</td>\n",
              "    </tr>\n",
              "    <tr>\n",
              "      <th>6</th>\n",
              "      <td>70-79</td>\n",
              "      <td>5393839</td>\n",
              "      <td>5158247</td>\n",
              "    </tr>\n",
              "    <tr>\n",
              "      <th>7</th>\n",
              "      <td>80-89</td>\n",
              "      <td>3451789</td>\n",
              "      <td>3388016</td>\n",
              "    </tr>\n",
              "    <tr>\n",
              "      <th>8</th>\n",
              "      <td>90-120</td>\n",
              "      <td>797161</td>\n",
              "      <td>768344</td>\n",
              "    </tr>\n",
              "  </tbody>\n",
              "</table>\n",
              "</div>"
            ],
            "text/plain": [
              "  fascia_anagrafica  prima_dose  seconda_dose\n",
              "0             12-19     3223185       2940568\n",
              "1             20-29     5075497       4587980\n",
              "2             30-39     5415036       4888959\n",
              "3             40-49     6991305       6417692\n",
              "4             50-59     8023900       7337139\n",
              "5             60-69     6537683       5948012\n",
              "6             70-79     5393839       5158247\n",
              "7             80-89     3451789       3388016\n",
              "8            90-120      797161        768344"
            ]
          },
          "metadata": {},
          "execution_count": 61
        }
      ]
    },
    {
      "cell_type": "markdown",
      "metadata": {
        "id": "2siALHspMDz5"
      },
      "source": [
        "Eliminare dal dataframe i dati relativi alle persone tra i 40-69 anni"
      ]
    },
    {
      "cell_type": "code",
      "metadata": {
        "colab": {
          "base_uri": "https://localhost:8080/",
          "height": 235
        },
        "id": "mbygmORvMK4a",
        "outputId": "c9d7c8ff-f4b2-4c63-8459-7be1457cb9c4"
      },
      "source": [
        "df = df.drop([3,4,5])\n",
        "df"
      ],
      "execution_count": null,
      "outputs": [
        {
          "output_type": "execute_result",
          "data": {
            "text/html": [
              "<div>\n",
              "<style scoped>\n",
              "    .dataframe tbody tr th:only-of-type {\n",
              "        vertical-align: middle;\n",
              "    }\n",
              "\n",
              "    .dataframe tbody tr th {\n",
              "        vertical-align: top;\n",
              "    }\n",
              "\n",
              "    .dataframe thead th {\n",
              "        text-align: right;\n",
              "    }\n",
              "</style>\n",
              "<table border=\"1\" class=\"dataframe\">\n",
              "  <thead>\n",
              "    <tr style=\"text-align: right;\">\n",
              "      <th></th>\n",
              "      <th>fascia_anagrafica</th>\n",
              "      <th>totale</th>\n",
              "      <th>sesso_maschile</th>\n",
              "      <th>sesso_femminile</th>\n",
              "      <th>prima_dose</th>\n",
              "      <th>seconda_dose</th>\n",
              "      <th>pregressa_infezione</th>\n",
              "      <th>dose_aggiuntiva</th>\n",
              "      <th>dose_booster</th>\n",
              "      <th>ultimo_aggiornamento</th>\n",
              "    </tr>\n",
              "  </thead>\n",
              "  <tbody>\n",
              "    <tr>\n",
              "      <th>0</th>\n",
              "      <td>12-19</td>\n",
              "      <td>6268693</td>\n",
              "      <td>3209454</td>\n",
              "      <td>3059239</td>\n",
              "      <td>3223185</td>\n",
              "      <td>2940568</td>\n",
              "      <td>103985</td>\n",
              "      <td>726</td>\n",
              "      <td>229</td>\n",
              "      <td>2021-10-28</td>\n",
              "    </tr>\n",
              "    <tr>\n",
              "      <th>1</th>\n",
              "      <td>20-29</td>\n",
              "      <td>9891343</td>\n",
              "      <td>5171718</td>\n",
              "      <td>4719625</td>\n",
              "      <td>5075497</td>\n",
              "      <td>4587980</td>\n",
              "      <td>198307</td>\n",
              "      <td>3952</td>\n",
              "      <td>25607</td>\n",
              "      <td>2021-10-28</td>\n",
              "    </tr>\n",
              "    <tr>\n",
              "      <th>2</th>\n",
              "      <td>30-39</td>\n",
              "      <td>10555697</td>\n",
              "      <td>5420477</td>\n",
              "      <td>5135220</td>\n",
              "      <td>5415036</td>\n",
              "      <td>4888959</td>\n",
              "      <td>205108</td>\n",
              "      <td>7605</td>\n",
              "      <td>38989</td>\n",
              "      <td>2021-10-28</td>\n",
              "    </tr>\n",
              "    <tr>\n",
              "      <th>6</th>\n",
              "      <td>70-79</td>\n",
              "      <td>10840433</td>\n",
              "      <td>5091827</td>\n",
              "      <td>5748606</td>\n",
              "      <td>5393839</td>\n",
              "      <td>5158247</td>\n",
              "      <td>165987</td>\n",
              "      <td>61817</td>\n",
              "      <td>60543</td>\n",
              "      <td>2021-10-28</td>\n",
              "    </tr>\n",
              "    <tr>\n",
              "      <th>7</th>\n",
              "      <td>80-89</td>\n",
              "      <td>7541357</td>\n",
              "      <td>3148258</td>\n",
              "      <td>4393099</td>\n",
              "      <td>3451789</td>\n",
              "      <td>3388016</td>\n",
              "      <td>78350</td>\n",
              "      <td>36395</td>\n",
              "      <td>586807</td>\n",
              "      <td>2021-10-28</td>\n",
              "    </tr>\n",
              "    <tr>\n",
              "      <th>8</th>\n",
              "      <td>90+</td>\n",
              "      <td>1721375</td>\n",
              "      <td>514973</td>\n",
              "      <td>1206402</td>\n",
              "      <td>797161</td>\n",
              "      <td>768344</td>\n",
              "      <td>19234</td>\n",
              "      <td>6096</td>\n",
              "      <td>130540</td>\n",
              "      <td>2021-10-28</td>\n",
              "    </tr>\n",
              "  </tbody>\n",
              "</table>\n",
              "</div>"
            ],
            "text/plain": [
              "  fascia_anagrafica    totale  ...  dose_booster  ultimo_aggiornamento\n",
              "0             12-19   6268693  ...           229            2021-10-28\n",
              "1             20-29   9891343  ...         25607            2021-10-28\n",
              "2             30-39  10555697  ...         38989            2021-10-28\n",
              "6             70-79  10840433  ...         60543            2021-10-28\n",
              "7             80-89   7541357  ...        586807            2021-10-28\n",
              "8               90+   1721375  ...        130540            2021-10-28\n",
              "\n",
              "[6 rows x 10 columns]"
            ]
          },
          "metadata": {},
          "execution_count": 69
        }
      ]
    },
    {
      "cell_type": "markdown",
      "metadata": {
        "id": "pUxhiXeAMLDy"
      },
      "source": [
        "Eliminare dal dataframe le colonne sesso maschile e sesso femminile "
      ]
    },
    {
      "cell_type": "code",
      "metadata": {
        "colab": {
          "base_uri": "https://localhost:8080/",
          "height": 235
        },
        "id": "05mGJSPwMQKa",
        "outputId": "7f4e8a62-636b-488d-9fe0-2bd09981bd87"
      },
      "source": [
        "df = df.drop(columns=['sesso_maschile','sesso_femminile'])\n",
        "df"
      ],
      "execution_count": null,
      "outputs": [
        {
          "output_type": "execute_result",
          "data": {
            "text/html": [
              "<div>\n",
              "<style scoped>\n",
              "    .dataframe tbody tr th:only-of-type {\n",
              "        vertical-align: middle;\n",
              "    }\n",
              "\n",
              "    .dataframe tbody tr th {\n",
              "        vertical-align: top;\n",
              "    }\n",
              "\n",
              "    .dataframe thead th {\n",
              "        text-align: right;\n",
              "    }\n",
              "</style>\n",
              "<table border=\"1\" class=\"dataframe\">\n",
              "  <thead>\n",
              "    <tr style=\"text-align: right;\">\n",
              "      <th></th>\n",
              "      <th>fascia_anagrafica</th>\n",
              "      <th>totale</th>\n",
              "      <th>prima_dose</th>\n",
              "      <th>seconda_dose</th>\n",
              "      <th>pregressa_infezione</th>\n",
              "      <th>dose_aggiuntiva</th>\n",
              "      <th>dose_booster</th>\n",
              "      <th>ultimo_aggiornamento</th>\n",
              "    </tr>\n",
              "  </thead>\n",
              "  <tbody>\n",
              "    <tr>\n",
              "      <th>0</th>\n",
              "      <td>12-19</td>\n",
              "      <td>6268693</td>\n",
              "      <td>3223185</td>\n",
              "      <td>2940568</td>\n",
              "      <td>103985</td>\n",
              "      <td>726</td>\n",
              "      <td>229</td>\n",
              "      <td>2021-10-28</td>\n",
              "    </tr>\n",
              "    <tr>\n",
              "      <th>1</th>\n",
              "      <td>20-29</td>\n",
              "      <td>9891343</td>\n",
              "      <td>5075497</td>\n",
              "      <td>4587980</td>\n",
              "      <td>198307</td>\n",
              "      <td>3952</td>\n",
              "      <td>25607</td>\n",
              "      <td>2021-10-28</td>\n",
              "    </tr>\n",
              "    <tr>\n",
              "      <th>2</th>\n",
              "      <td>30-39</td>\n",
              "      <td>10555697</td>\n",
              "      <td>5415036</td>\n",
              "      <td>4888959</td>\n",
              "      <td>205108</td>\n",
              "      <td>7605</td>\n",
              "      <td>38989</td>\n",
              "      <td>2021-10-28</td>\n",
              "    </tr>\n",
              "    <tr>\n",
              "      <th>6</th>\n",
              "      <td>70-79</td>\n",
              "      <td>10840433</td>\n",
              "      <td>5393839</td>\n",
              "      <td>5158247</td>\n",
              "      <td>165987</td>\n",
              "      <td>61817</td>\n",
              "      <td>60543</td>\n",
              "      <td>2021-10-28</td>\n",
              "    </tr>\n",
              "    <tr>\n",
              "      <th>7</th>\n",
              "      <td>80-89</td>\n",
              "      <td>7541357</td>\n",
              "      <td>3451789</td>\n",
              "      <td>3388016</td>\n",
              "      <td>78350</td>\n",
              "      <td>36395</td>\n",
              "      <td>586807</td>\n",
              "      <td>2021-10-28</td>\n",
              "    </tr>\n",
              "    <tr>\n",
              "      <th>8</th>\n",
              "      <td>90+</td>\n",
              "      <td>1721375</td>\n",
              "      <td>797161</td>\n",
              "      <td>768344</td>\n",
              "      <td>19234</td>\n",
              "      <td>6096</td>\n",
              "      <td>130540</td>\n",
              "      <td>2021-10-28</td>\n",
              "    </tr>\n",
              "  </tbody>\n",
              "</table>\n",
              "</div>"
            ],
            "text/plain": [
              "  fascia_anagrafica    totale  ...  dose_booster  ultimo_aggiornamento\n",
              "0             12-19   6268693  ...           229            2021-10-28\n",
              "1             20-29   9891343  ...         25607            2021-10-28\n",
              "2             30-39  10555697  ...         38989            2021-10-28\n",
              "6             70-79  10840433  ...         60543            2021-10-28\n",
              "7             80-89   7541357  ...        586807            2021-10-28\n",
              "8               90+   1721375  ...        130540            2021-10-28\n",
              "\n",
              "[6 rows x 8 columns]"
            ]
          },
          "metadata": {},
          "execution_count": 72
        }
      ]
    }
  ]
}