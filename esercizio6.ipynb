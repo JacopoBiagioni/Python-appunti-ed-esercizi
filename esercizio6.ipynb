{
  "nbformat": 4,
  "nbformat_minor": 0,
  "metadata": {
    "colab": {
      "name": "esercizio6.ipynb",
      "provenance": [],
      "collapsed_sections": []
    },
    "kernelspec": {
      "name": "python3",
      "display_name": "Python 3"
    },
    "language_info": {
      "name": "python"
    }
  },
  "cells": [
    {
      "cell_type": "markdown",
      "metadata": {
        "id": "6MhELk-UAjsj"
      },
      "source": [
        "1. scrivere una funzione chiamata sommaTutti che permetta di sommare un numero arbitrario di valori interi passati come parametri. Scrivere poi un programma che permetta all'utente di inserire un numero variabile di interi e visualizzi la somma."
      ]
    },
    {
      "cell_type": "code",
      "metadata": {
        "id": "mblHSlytAlXj",
        "colab": {
          "base_uri": "https://localhost:8080/"
        },
        "outputId": "6982bddb-d7ee-45eb-e666-a7a62d9a1819"
      },
      "source": [
        "def sommatutti(valore):   \n",
        "  som = 0   \n",
        "  for i in valore:     \n",
        "    som += i   \n",
        "  return som  \n",
        "\n",
        "numeri = [int(elementi) for elementi in input(\"Inserire numero: \").split()] \n",
        "print(sommatutti(numeri))"
      ],
      "execution_count": 15,
      "outputs": [
        {
          "output_type": "stream",
          "name": "stdout",
          "text": [
            "Inserire numero: 5 10 20 30 50\n",
            "115\n"
          ]
        }
      ]
    },
    {
      "cell_type": "markdown",
      "metadata": {
        "id": "ZcP2Ee_LAwTr"
      },
      "source": [
        "2. scrivere una lambda function che calcoli la lunghezza della circonferenza di un cerchio dato il raggio. Utilizzarla poi in un programma che chieda all'utente il valore del raggio e visualizzi la lunghezza della circonferenza\n"
      ]
    },
    {
      "cell_type": "code",
      "metadata": {
        "colab": {
          "base_uri": "https://localhost:8080/"
        },
        "id": "sCmLVCAGAx50",
        "outputId": "67950e7b-96dd-486c-fe89-78edb3102510"
      },
      "source": [
        "circonferenza = lambda x: x * (2*3.1415926535)\n",
        "circonferenza(int(input(\"Inserire valore raggio: \")))"
      ],
      "execution_count": 17,
      "outputs": [
        {
          "name": "stdout",
          "output_type": "stream",
          "text": [
            "Inserire valore raggio: 5\n"
          ]
        },
        {
          "output_type": "execute_result",
          "data": {
            "text/plain": [
              "31.415926535"
            ]
          },
          "metadata": {},
          "execution_count": 17
        }
      ]
    },
    {
      "cell_type": "markdown",
      "metadata": {
        "id": "A50RszAdAyIT"
      },
      "source": [
        "3. scrivere una funzione che calcoli il quadrato di un numero. Scrivere poi una funzione che calcoli la radice quadrata della somma di due numeri. Scrivere poi una lambda function che date le lunghezze di due cateti di un triangolo calcoli l'ipotenusa utilizzando le funzioni definite precedentemente. Utilizzare quest'ultima funzione in un programma che permetta all'utente di inserire le lunghezze dei cateti e di avere in risposta la lunghezza dell'ipotenusa di un triangolo rettangolo"
      ]
    },
    {
      "cell_type": "code",
      "metadata": {
        "colab": {
          "base_uri": "https://localhost:8080/"
        },
        "id": "vkcHfIBtA0T6",
        "outputId": "2a6769cb-ab69-44a2-a25e-200648c6c674"
      },
      "source": [
        "def quadrato(x):\n",
        "  return x**2\n",
        "\n",
        "def radice(y,z):\n",
        "  j = y + z \n",
        "  return pow(j,0.5)\n",
        "\n",
        "cateto1 =int(input(\"Inserire una lunghezza: \"))\n",
        "cateto2 =int(input(\"Inserire una lunghezza: \"))\n",
        "\n",
        "ipotenusa = lambda x,y: radice(quadrato(x),quadrato(y))\n",
        "print(ipotenusa(cateto1,cateto2))"
      ],
      "execution_count": 4,
      "outputs": [
        {
          "output_type": "stream",
          "name": "stdout",
          "text": [
            "Inserire una lunghezza: 10\n",
            "Inserire una lunghezza: 10\n",
            "14.142135623730951\n"
          ]
        }
      ]
    },
    {
      "cell_type": "markdown",
      "metadata": {
        "id": "NR0ARmKCA0ib"
      },
      "source": [
        "4. Scrivere le funzioni quadrato, cubo e radiceQuadrata che calcolano il quadrato, il cubo e la radice quadrata di un numero intero. Scrivere poi un programma che, utilizzando un ciclo for, richiami le tre funzioni su un valore intero inserito dall'utente e visualizzi i tre risultati."
      ]
    },
    {
      "cell_type": "code",
      "metadata": {
        "colab": {
          "base_uri": "https://localhost:8080/"
        },
        "id": "qkYFAbtmA28q",
        "outputId": "6221a42d-61d3-4d2b-b28b-402507e560a8"
      },
      "source": [
        "def quadrato(num):\n",
        "  return pow(num,2)\n",
        "\n",
        "def cubo(num):\n",
        "  return pow(num,3)\n",
        "\n",
        "def radiceQuadrata(num):\n",
        "  return pow(num,0.5)\n",
        "\n",
        "numero = int(input('Inserire valore: '))\n",
        "\n",
        "print(quadrato(numero))\n",
        "print(cubo(numero))\n",
        "print(radiceQuadrata(numero))"
      ],
      "execution_count": 12,
      "outputs": [
        {
          "output_type": "stream",
          "name": "stdout",
          "text": [
            "Inserire valore: 9\n",
            "81\n",
            "729\n",
            "3.0\n"
          ]
        }
      ]
    },
    {
      "cell_type": "markdown",
      "metadata": {
        "id": "VaOprCRCokxD"
      },
      "source": [
        "5. Utilizzando una lambda function, scrivere un programma che data una lista di numeri interi inserita dall'utente carichi in altre due liste i quadrati e i cubi dei numeri presenti nella lista inserita. Al termine, visualizzare le due liste.\n"
      ]
    },
    {
      "cell_type": "code",
      "metadata": {
        "colab": {
          "base_uri": "https://localhost:8080/"
        },
        "id": "MJS-wwvColJ6",
        "outputId": "63f824c0-de0f-4137-91d4-c626c373ceb0"
      },
      "source": [
        "lista1 = list(input(\"Inserire la lista1: \").split()) \n",
        "lista1 = list([int(n) for n in lista1])\n",
        "\n",
        "NewList1 = list(map(lambda x: quadrato(x),lista1)) \n",
        "NewList2 = list(map(lambda y: cubo(y),lista1))  \n",
        "\n",
        "print(NewList1,NewList2)"
      ],
      "execution_count": 14,
      "outputs": [
        {
          "output_type": "stream",
          "name": "stdout",
          "text": [
            "Inserire la lista1: 10 5 2\n",
            "[100, 25, 4] [1000, 125, 8]\n"
          ]
        }
      ]
    },
    {
      "cell_type": "markdown",
      "metadata": {
        "id": "1J4yOLhTrIyL"
      },
      "source": [
        "6. Utilizzando una lambda function, scrivere un programma che data una lista di numeri interi inserita dall'utente carichi in altre due liste i numeri pari e i numeri dispari presenti nella lista inserita. Al termine, visualizzare le due liste.\n"
      ]
    },
    {
      "cell_type": "code",
      "metadata": {
        "colab": {
          "base_uri": "https://localhost:8080/"
        },
        "id": "Bg8QUECirJJq",
        "outputId": "fa5843d0-f6a6-4182-ce67-88e5b1ee20ae"
      },
      "source": [
        "lista1 = list(input(\"Inserire la lista1: \").split()) \n",
        "lista1 = list([int(n) for n in lista1])\n",
        "\n",
        "listapari = list(filter(lambda x: x%2 == 0,lista1)) \n",
        "listadispari = list(filter(lambda y: y%2 != 0,lista1))\n",
        "\n",
        "print(listapari,listadispari)"
      ],
      "execution_count": 25,
      "outputs": [
        {
          "output_type": "stream",
          "name": "stdout",
          "text": [
            "Inserire la lista1: 1 2 3 4 5 6 7 8 9\n",
            "[2, 4, 6, 8] [1, 3, 5, 7, 9]\n"
          ]
        }
      ]
    },
    {
      "cell_type": "markdown",
      "metadata": {
        "id": "zOdwce4WrLPE"
      },
      "source": [
        "7. Cercare su internet che cosa si intende per fattoriale di un numero. \n",
        "   Scrivere poi una funzione ricorsiva che calcoli il fattoriale di un numero. Utilizzare poi la funzione creata per scrivere un programma che permetta all'utente di inserire un numero intero e che visualizzi il fattoriale di quel numero.\n"
      ]
    },
    {
      "cell_type": "code",
      "metadata": {
        "colab": {
          "base_uri": "https://localhost:8080/"
        },
        "id": "Bo8WrVxGrN0T",
        "outputId": "ebef7a34-045c-42f2-9441-952367b1d586"
      },
      "source": [
        "print(\"Il fattoriale è la moltiplicazione di un numero per i suoi antecedenti\")\n",
        "\n",
        "def fattoriale(n):\n",
        "  if n==0:\n",
        "    return 1\n",
        "  else:\n",
        "    return n*fattoriale(n-1)\n",
        "\n",
        "n = int(input('Inserire il numero: ')) \n",
        "\n",
        "print('Il fattoriale è', fattoriale(n))"
      ],
      "execution_count": 24,
      "outputs": [
        {
          "output_type": "stream",
          "name": "stdout",
          "text": [
            "Il fattoriale è la moltiplicazione di un numero per i suoi antecedenti\n",
            "Inserire il numero: 9\n",
            "Il fattoriale è 362880\n"
          ]
        }
      ]
    },
    {
      "cell_type": "markdown",
      "metadata": {
        "id": "EVmPfTgLrR_7"
      },
      "source": [
        "8. Svolgere l'esercizio 7, senza ricorsione\n"
      ]
    },
    {
      "cell_type": "code",
      "metadata": {
        "colab": {
          "base_uri": "https://localhost:8080/"
        },
        "id": "BoVRAOearSe0",
        "outputId": "50f3bfc3-d75d-48b4-9514-841767822fb9"
      },
      "source": [
        "n = int(input('Inserire il numero: '))\n",
        "f = 1\n",
        "\n",
        "for i in range(1,n+1):\n",
        "  f*=i\n",
        "\n",
        "print(f)"
      ],
      "execution_count": 19,
      "outputs": [
        {
          "output_type": "stream",
          "name": "stdout",
          "text": [
            "Inserire il numero: 9\n",
            "362880\n"
          ]
        }
      ]
    },
    {
      "cell_type": "markdown",
      "metadata": {
        "id": "-kB94RMurSsr"
      },
      "source": [
        "9. Cercare su internet che cosa sono i numeri di Fibonacci. Scrivere poi una funzione ricorsiva che calcoli l'n-esimo numero della sequenza di Fibonacci. Utilizzare poi la funzione creata per scrivere un programma che permetta all'utente di inserire un numero intero e che visualizzi il numero della sequenza di Fibonacci corrispondente.\n"
      ]
    },
    {
      "cell_type": "code",
      "metadata": {
        "colab": {
          "base_uri": "https://localhost:8080/"
        },
        "id": "ccuWdb0RrU51",
        "outputId": "9cfed409-d387-43b2-8aa4-b1d3c8796a30"
      },
      "source": [
        "def fib(n):\n",
        "    if n == 0:\n",
        "        return 0;\n",
        "    if n == 1:\n",
        "        return 1;\n",
        "    else:\n",
        "        return fib(n-1) + fib(n-2)\n",
        "\n",
        "num = int(input(\"Inserisci un numero: \"))\n",
        "\n",
        "print(fib(num))"
      ],
      "execution_count": 34,
      "outputs": [
        {
          "output_type": "stream",
          "name": "stdout",
          "text": [
            "Inserisci un numero: 10\n",
            "55\n"
          ]
        }
      ]
    }
  ]
}