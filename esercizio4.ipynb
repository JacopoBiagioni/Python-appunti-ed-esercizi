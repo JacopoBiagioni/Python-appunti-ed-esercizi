{
  "nbformat": 4,
  "nbformat_minor": 0,
  "metadata": {
    "colab": {
      "name": "esercizio4.ipynb",
      "provenance": [],
      "collapsed_sections": []
    },
    "kernelspec": {
      "name": "python3",
      "display_name": "Python 3"
    },
    "language_info": {
      "name": "python"
    }
  },
  "cells": [
    {
      "cell_type": "markdown",
      "metadata": {
        "id": "OdypzzHgrflA"
      },
      "source": [
        "1. scrivere una funzione chiamata media che dati due numeri restituisca la media. Utilizzare poi la funzione in un programma che acquisisca dall'utente due numeri e calcoli la media"
      ]
    },
    {
      "cell_type": "code",
      "metadata": {
        "colab": {
          "base_uri": "https://localhost:8080/"
        },
        "id": "2lm4vMGitKaY",
        "outputId": "65fd86f4-0f6a-4438-979d-f368f5344dd0"
      },
      "source": [
        "def media(x,y):\n",
        "  z = (x+y)/2\n",
        "  return z\n",
        "media(int(input(\"Inserire il primo numero:\")), int(input(\"Inserire il secondo numero:\")))"
      ],
      "execution_count": 1,
      "outputs": [
        {
          "name": "stdout",
          "output_type": "stream",
          "text": [
            "Inserire il primo numero:10\n",
            "Inserire il secondo numero:9\n"
          ]
        },
        {
          "output_type": "execute_result",
          "data": {
            "text/plain": [
              "9.5"
            ]
          },
          "metadata": {},
          "execution_count": 1
        }
      ]
    },
    {
      "cell_type": "markdown",
      "metadata": {
        "id": "2PVQygnWuAv-"
      },
      "source": [
        "2. scrivere una funzione chiamata piuCorta che date due liste restituisca la lista con meno elementi. Utilizzare poi la funzione in un programma che acquisisca dall'utente due liste e visualizzi gli elementi della lista più corta."
      ]
    },
    {
      "cell_type": "code",
      "metadata": {
        "colab": {
          "base_uri": "https://localhost:8080/"
        },
        "id": "ywcNEmK6uAEH",
        "outputId": "66524494-01e6-4397-f7c8-87fb43849f72"
      },
      "source": [
        "def piuCorta(a,b):\n",
        "  if len(a) < len(b):\n",
        "    return a\n",
        "  else:\n",
        "    return b \n",
        "a = ['1','2','3','4','5']\n",
        "b = ['2','3','4']\n",
        "print(\"La lista piu corta è: \" + str(piuCorta(a,b)))"
      ],
      "execution_count": null,
      "outputs": [
        {
          "output_type": "stream",
          "name": "stdout",
          "text": [
            "La lista piu corta è: ['2', '3', '4']\n"
          ]
        }
      ]
    },
    {
      "cell_type": "markdown",
      "metadata": {
        "id": "8ljRv-Zb0bVg"
      },
      "source": [
        "3. scrivere una funzione chiamata costruisciLista che dati due numeri interi restituisca la lista formata da tutti i numeri interi compresi tra i due numeri dati. Utilizzare poi la funzione in un programma che acquisisca dall'utente due numeri e visualizzi la lista formata da tutti i numeri interi compresi tra i due numeri dati ma a partire dal più grande fino al più piccolo."
      ]
    },
    {
      "cell_type": "code",
      "metadata": {
        "colab": {
          "base_uri": "https://localhost:8080/"
        },
        "id": "4phUAnvt0cwo",
        "outputId": "697bd219-c106-4f4f-f73b-736edc419a8d"
      },
      "source": [
        "def costruisciLista(x,y):\n",
        "  z = [i for i in range(x+1,y)]\n",
        "  z.reverse()\n",
        "  return z \n",
        "costruisciLista(int(input(\"Inserire il primo numero: \")), int(input(\"Inserire il secondo numero: \")))"
      ],
      "execution_count": null,
      "outputs": [
        {
          "name": "stdout",
          "output_type": "stream",
          "text": [
            "Inserire il primo numero: 10\n",
            "Inserire il secondo numero: 20\n"
          ]
        },
        {
          "output_type": "execute_result",
          "data": {
            "text/plain": [
              "[19, 18, 17, 16, 15, 14, 13, 12, 11]"
            ]
          },
          "metadata": {},
          "execution_count": 41
        }
      ]
    },
    {
      "cell_type": "markdown",
      "metadata": {
        "id": "JukAdE_K8C0h"
      },
      "source": [
        "4. scrivere una funzione chiamata valoreAssoluto che dato un numero restituisca il suo valore assoluto. Utilizzare poi questa funzione per determinare il valore assoluto degli elementi di una lista inserita dall'utente."
      ]
    },
    {
      "cell_type": "code",
      "metadata": {
        "id": "b3a954Y-8Ezp",
        "colab": {
          "base_uri": "https://localhost:8080/"
        },
        "outputId": "ea822369-68b2-43ed-ae8b-3802cfcc1699"
      },
      "source": [
        "arr = input('inserisci la prima lista:').split(',')\n",
        "\n",
        "def valore_assoluto(n):\n",
        "  return abs(n)\n",
        "\n",
        "print([valore_assoluto(float(i)) for i in arr ])"
      ],
      "execution_count": 3,
      "outputs": [
        {
          "output_type": "stream",
          "name": "stdout",
          "text": [
            "inserisci la prima lista:-220, 19\n",
            "[220.0, 19.0]\n"
          ]
        }
      ]
    },
    {
      "cell_type": "markdown",
      "metadata": {
        "id": "vqagH-WY9Wsx"
      },
      "source": [
        "5. scrivere una funzione chiamata scambia che data una lista scambi il primo elemento con l'ultimo, il secondo con il penultimo e così via. Utilizzare poi la funzione in un programma che acquisisca dall'utente una lista di 10 elementi e li visualizzi scambiati."
      ]
    },
    {
      "cell_type": "code",
      "metadata": {
        "id": "cEa8E0VP9Yt6"
      },
      "source": [
        ""
      ],
      "execution_count": null,
      "outputs": []
    },
    {
      "cell_type": "markdown",
      "metadata": {
        "id": "wd-oHiBPPs-4"
      },
      "source": [
        "6. scrivere una funzione lambda che dati due numeri calcoli la loro somma. Utilizzare la funzione in un programma che chieda all'utente due numeri interi e visualizzi la loro somma."
      ]
    },
    {
      "cell_type": "code",
      "metadata": {
        "colab": {
          "base_uri": "https://localhost:8080/"
        },
        "id": "IBbBL75yPtT1",
        "outputId": "16a00cc0-2bb8-40e1-8d20-6b1e0c74b632"
      },
      "source": [
        "l = lambda x,y: x + y \n",
        "l(int(input('')), int(input('')))"
      ],
      "execution_count": 4,
      "outputs": [
        {
          "name": "stdout",
          "output_type": "stream",
          "text": [
            "10\n",
            "10\n"
          ]
        },
        {
          "output_type": "execute_result",
          "data": {
            "text/plain": [
              "20"
            ]
          },
          "metadata": {},
          "execution_count": 4
        }
      ]
    },
    {
      "cell_type": "markdown",
      "metadata": {
        "id": "RqgjOsfkPwBU"
      },
      "source": [
        "7. scrivere un programma che utilizzi una lambda function per aumentare di 10 unità tutti gli elementi di una lista di interi inserita dall'utente."
      ]
    },
    {
      "cell_type": "code",
      "metadata": {
        "colab": {
          "base_uri": "https://localhost:8080/"
        },
        "id": "mxyMCfY7PwUD",
        "outputId": "30a25fee-4d78-4728-ba53-c8016e312c0b"
      },
      "source": [
        "lista1 = [10,9,15,13,26]\n",
        "lista = list(map(lambda x: x + 10, lista1))\n",
        "print(lista)"
      ],
      "execution_count": 7,
      "outputs": [
        {
          "output_type": "stream",
          "name": "stdout",
          "text": [
            "[20, 19, 25, 23, 36]\n"
          ]
        }
      ]
    },
    {
      "cell_type": "markdown",
      "metadata": {
        "id": "ptYxDydpPwgb"
      },
      "source": [
        "\n",
        "8. scrivere una funzione lambda che sostituisca il valore 0 se il parametro è negativo, il valore del parametro se è positivo. Utilizzare poi la funzione in un programma che chieda all'utente i 10 elementi di una lista e visualizzi la lista con il valore 0 al posto dei numeri negativi."
      ]
    },
    {
      "cell_type": "code",
      "metadata": {
        "id": "bw1SxKwePw0n"
      },
      "source": [
        ""
      ],
      "execution_count": null,
      "outputs": []
    },
    {
      "cell_type": "markdown",
      "metadata": {
        "id": "jxSeCZO3P2zT"
      },
      "source": [
        "9. scrivere un programma che calcoli il fattoriale di un numero utilizzando una lambda function. Provare a realizzare una lambda function ricorsiva (per la ricorsione, google it...)"
      ]
    },
    {
      "cell_type": "code",
      "metadata": {
        "id": "Tu0uWoe_P4ee"
      },
      "source": [
        ""
      ],
      "execution_count": null,
      "outputs": []
    }
  ]
}