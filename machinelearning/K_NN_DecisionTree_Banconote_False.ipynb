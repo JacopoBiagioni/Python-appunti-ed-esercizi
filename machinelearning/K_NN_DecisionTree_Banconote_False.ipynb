{
  "nbformat": 4,
  "nbformat_minor": 0,
  "metadata": {
    "colab": {
      "provenance": []
    },
    "kernelspec": {
      "name": "python3",
      "display_name": "Python 3"
    },
    "language_info": {
      "name": "python"
    }
  },
  "cells": [
    {
      "cell_type": "code",
      "source": [
        "from google.colab import drive\n",
        "drive.mount('/content/drive')"
      ],
      "metadata": {
        "colab": {
          "base_uri": "https://localhost:8080/"
        },
        "id": "GxncHH-ZlIDi",
        "outputId": "6b1ac1ce-dcf7-4cb6-d22a-ce6c9275d198"
      },
      "execution_count": null,
      "outputs": [
        {
          "output_type": "stream",
          "name": "stdout",
          "text": [
            "Mounted at /content/drive\n"
          ]
        }
      ]
    },
    {
      "cell_type": "code",
      "execution_count": null,
      "metadata": {
        "colab": {
          "base_uri": "https://localhost:8080/",
          "height": 424
        },
        "id": "11cij89LkvHK",
        "outputId": "2f76ce9c-3abf-46cf-b236-2f41c74dd517"
      },
      "outputs": [
        {
          "output_type": "execute_result",
          "data": {
            "text/plain": [
              "         col1      col2     col3     col4  class\n",
              "0     4.54590   8.16740  -2.4586 -1.46210      0\n",
              "1     3.86600  -2.63830   1.9242  0.10645      0\n",
              "2     3.45660   9.52280  -4.0112 -3.59440      0\n",
              "3     0.32924  -4.45520   4.5718 -0.98880      0\n",
              "4     4.36840   9.67180  -3.9606 -3.16250      0\n",
              "...       ...       ...      ...      ...    ...\n",
              "1366  0.40614   1.34920  -1.4501 -0.55949      1\n",
              "1367 -1.38870  -4.87730   6.4774  0.34179      1\n",
              "1368 -3.75030 -13.45860  17.5932 -2.77710      1\n",
              "1369 -3.56370  -8.38270  12.3930 -1.28230      1\n",
              "1370 -2.54190  -0.65804   2.6842  1.19520      1\n",
              "\n",
              "[1371 rows x 5 columns]"
            ],
            "text/html": [
              "\n",
              "  <div id=\"df-2b5f88e8-78a4-4bc7-83d1-b58d36094359\">\n",
              "    <div class=\"colab-df-container\">\n",
              "      <div>\n",
              "<style scoped>\n",
              "    .dataframe tbody tr th:only-of-type {\n",
              "        vertical-align: middle;\n",
              "    }\n",
              "\n",
              "    .dataframe tbody tr th {\n",
              "        vertical-align: top;\n",
              "    }\n",
              "\n",
              "    .dataframe thead th {\n",
              "        text-align: right;\n",
              "    }\n",
              "</style>\n",
              "<table border=\"1\" class=\"dataframe\">\n",
              "  <thead>\n",
              "    <tr style=\"text-align: right;\">\n",
              "      <th></th>\n",
              "      <th>col1</th>\n",
              "      <th>col2</th>\n",
              "      <th>col3</th>\n",
              "      <th>col4</th>\n",
              "      <th>class</th>\n",
              "    </tr>\n",
              "  </thead>\n",
              "  <tbody>\n",
              "    <tr>\n",
              "      <th>0</th>\n",
              "      <td>4.54590</td>\n",
              "      <td>8.16740</td>\n",
              "      <td>-2.4586</td>\n",
              "      <td>-1.46210</td>\n",
              "      <td>0</td>\n",
              "    </tr>\n",
              "    <tr>\n",
              "      <th>1</th>\n",
              "      <td>3.86600</td>\n",
              "      <td>-2.63830</td>\n",
              "      <td>1.9242</td>\n",
              "      <td>0.10645</td>\n",
              "      <td>0</td>\n",
              "    </tr>\n",
              "    <tr>\n",
              "      <th>2</th>\n",
              "      <td>3.45660</td>\n",
              "      <td>9.52280</td>\n",
              "      <td>-4.0112</td>\n",
              "      <td>-3.59440</td>\n",
              "      <td>0</td>\n",
              "    </tr>\n",
              "    <tr>\n",
              "      <th>3</th>\n",
              "      <td>0.32924</td>\n",
              "      <td>-4.45520</td>\n",
              "      <td>4.5718</td>\n",
              "      <td>-0.98880</td>\n",
              "      <td>0</td>\n",
              "    </tr>\n",
              "    <tr>\n",
              "      <th>4</th>\n",
              "      <td>4.36840</td>\n",
              "      <td>9.67180</td>\n",
              "      <td>-3.9606</td>\n",
              "      <td>-3.16250</td>\n",
              "      <td>0</td>\n",
              "    </tr>\n",
              "    <tr>\n",
              "      <th>...</th>\n",
              "      <td>...</td>\n",
              "      <td>...</td>\n",
              "      <td>...</td>\n",
              "      <td>...</td>\n",
              "      <td>...</td>\n",
              "    </tr>\n",
              "    <tr>\n",
              "      <th>1366</th>\n",
              "      <td>0.40614</td>\n",
              "      <td>1.34920</td>\n",
              "      <td>-1.4501</td>\n",
              "      <td>-0.55949</td>\n",
              "      <td>1</td>\n",
              "    </tr>\n",
              "    <tr>\n",
              "      <th>1367</th>\n",
              "      <td>-1.38870</td>\n",
              "      <td>-4.87730</td>\n",
              "      <td>6.4774</td>\n",
              "      <td>0.34179</td>\n",
              "      <td>1</td>\n",
              "    </tr>\n",
              "    <tr>\n",
              "      <th>1368</th>\n",
              "      <td>-3.75030</td>\n",
              "      <td>-13.45860</td>\n",
              "      <td>17.5932</td>\n",
              "      <td>-2.77710</td>\n",
              "      <td>1</td>\n",
              "    </tr>\n",
              "    <tr>\n",
              "      <th>1369</th>\n",
              "      <td>-3.56370</td>\n",
              "      <td>-8.38270</td>\n",
              "      <td>12.3930</td>\n",
              "      <td>-1.28230</td>\n",
              "      <td>1</td>\n",
              "    </tr>\n",
              "    <tr>\n",
              "      <th>1370</th>\n",
              "      <td>-2.54190</td>\n",
              "      <td>-0.65804</td>\n",
              "      <td>2.6842</td>\n",
              "      <td>1.19520</td>\n",
              "      <td>1</td>\n",
              "    </tr>\n",
              "  </tbody>\n",
              "</table>\n",
              "<p>1371 rows × 5 columns</p>\n",
              "</div>\n",
              "      <button class=\"colab-df-convert\" onclick=\"convertToInteractive('df-2b5f88e8-78a4-4bc7-83d1-b58d36094359')\"\n",
              "              title=\"Convert this dataframe to an interactive table.\"\n",
              "              style=\"display:none;\">\n",
              "        \n",
              "  <svg xmlns=\"http://www.w3.org/2000/svg\" height=\"24px\"viewBox=\"0 0 24 24\"\n",
              "       width=\"24px\">\n",
              "    <path d=\"M0 0h24v24H0V0z\" fill=\"none\"/>\n",
              "    <path d=\"M18.56 5.44l.94 2.06.94-2.06 2.06-.94-2.06-.94-.94-2.06-.94 2.06-2.06.94zm-11 1L8.5 8.5l.94-2.06 2.06-.94-2.06-.94L8.5 2.5l-.94 2.06-2.06.94zm10 10l.94 2.06.94-2.06 2.06-.94-2.06-.94-.94-2.06-.94 2.06-2.06.94z\"/><path d=\"M17.41 7.96l-1.37-1.37c-.4-.4-.92-.59-1.43-.59-.52 0-1.04.2-1.43.59L10.3 9.45l-7.72 7.72c-.78.78-.78 2.05 0 2.83L4 21.41c.39.39.9.59 1.41.59.51 0 1.02-.2 1.41-.59l7.78-7.78 2.81-2.81c.8-.78.8-2.07 0-2.86zM5.41 20L4 18.59l7.72-7.72 1.47 1.35L5.41 20z\"/>\n",
              "  </svg>\n",
              "      </button>\n",
              "      \n",
              "  <style>\n",
              "    .colab-df-container {\n",
              "      display:flex;\n",
              "      flex-wrap:wrap;\n",
              "      gap: 12px;\n",
              "    }\n",
              "\n",
              "    .colab-df-convert {\n",
              "      background-color: #E8F0FE;\n",
              "      border: none;\n",
              "      border-radius: 50%;\n",
              "      cursor: pointer;\n",
              "      display: none;\n",
              "      fill: #1967D2;\n",
              "      height: 32px;\n",
              "      padding: 0 0 0 0;\n",
              "      width: 32px;\n",
              "    }\n",
              "\n",
              "    .colab-df-convert:hover {\n",
              "      background-color: #E2EBFA;\n",
              "      box-shadow: 0px 1px 2px rgba(60, 64, 67, 0.3), 0px 1px 3px 1px rgba(60, 64, 67, 0.15);\n",
              "      fill: #174EA6;\n",
              "    }\n",
              "\n",
              "    [theme=dark] .colab-df-convert {\n",
              "      background-color: #3B4455;\n",
              "      fill: #D2E3FC;\n",
              "    }\n",
              "\n",
              "    [theme=dark] .colab-df-convert:hover {\n",
              "      background-color: #434B5C;\n",
              "      box-shadow: 0px 1px 3px 1px rgba(0, 0, 0, 0.15);\n",
              "      filter: drop-shadow(0px 1px 2px rgba(0, 0, 0, 0.3));\n",
              "      fill: #FFFFFF;\n",
              "    }\n",
              "  </style>\n",
              "\n",
              "      <script>\n",
              "        const buttonEl =\n",
              "          document.querySelector('#df-2b5f88e8-78a4-4bc7-83d1-b58d36094359 button.colab-df-convert');\n",
              "        buttonEl.style.display =\n",
              "          google.colab.kernel.accessAllowed ? 'block' : 'none';\n",
              "\n",
              "        async function convertToInteractive(key) {\n",
              "          const element = document.querySelector('#df-2b5f88e8-78a4-4bc7-83d1-b58d36094359');\n",
              "          const dataTable =\n",
              "            await google.colab.kernel.invokeFunction('convertToInteractive',\n",
              "                                                     [key], {});\n",
              "          if (!dataTable) return;\n",
              "\n",
              "          const docLinkHtml = 'Like what you see? Visit the ' +\n",
              "            '<a target=\"_blank\" href=https://colab.research.google.com/notebooks/data_table.ipynb>data table notebook</a>'\n",
              "            + ' to learn more about interactive tables.';\n",
              "          element.innerHTML = '';\n",
              "          dataTable['output_type'] = 'display_data';\n",
              "          await google.colab.output.renderOutput(dataTable, element);\n",
              "          const docLink = document.createElement('div');\n",
              "          docLink.innerHTML = docLinkHtml;\n",
              "          element.appendChild(docLink);\n",
              "        }\n",
              "      </script>\n",
              "    </div>\n",
              "  </div>\n",
              "  "
            ]
          },
          "metadata": {},
          "execution_count": 12
        }
      ],
      "source": [
        "import pandas as pd \n",
        "df = pd.read_csv('/content/drive/MyDrive/Colab Notebooks/data_banknote_authentication.txt')\n",
        "df = df.rename(columns={'3.6216' : 'col1', '8.6661' : 'col2', '-2.8073' : 'col3', '-0.44699' : 'col4', '0': 'class'})\n",
        "df"
      ]
    },
    {
      "cell_type": "code",
      "source": [
        "import numpy as np\n",
        "df_np = df.to_numpy()\n",
        "x=df_np[:,0:-1]\n",
        "y=df_np[:,-1]"
      ],
      "metadata": {
        "id": "fXbsno5dmlMN"
      },
      "execution_count": null,
      "outputs": []
    },
    {
      "cell_type": "code",
      "source": [
        "print(x[:10])\n",
        "print(f'y = {y[:10]}')"
      ],
      "metadata": {
        "colab": {
          "base_uri": "https://localhost:8080/"
        },
        "id": "JudarRktoHqj",
        "outputId": "1c0f5fcd-80ab-42c4-84b2-a77f6b3fd0f9"
      },
      "execution_count": null,
      "outputs": [
        {
          "output_type": "stream",
          "name": "stdout",
          "text": [
            "[[ 4.5459   8.1674  -2.4586  -1.4621 ]\n",
            " [ 3.866   -2.6383   1.9242   0.10645]\n",
            " [ 3.4566   9.5228  -4.0112  -3.5944 ]\n",
            " [ 0.32924 -4.4552   4.5718  -0.9888 ]\n",
            " [ 4.3684   9.6718  -3.9606  -3.1625 ]\n",
            " [ 3.5912   3.0129   0.72888  0.56421]\n",
            " [ 2.0922  -6.81     8.4636  -0.60216]\n",
            " [ 3.2032   5.7588  -0.75345 -0.61251]\n",
            " [ 1.5356   9.1772  -2.2718  -0.73535]\n",
            " [ 1.2247   8.7779  -2.2135  -0.80647]]\n",
            "y = [0. 0. 0. 0. 0. 0. 0. 0. 0. 0.]\n"
          ]
        }
      ]
    },
    {
      "cell_type": "code",
      "source": [
        "import collections\n",
        "collections.Counter(y)"
      ],
      "metadata": {
        "colab": {
          "base_uri": "https://localhost:8080/"
        },
        "id": "pi-vhJLooLTl",
        "outputId": "4c7a381f-4fb2-4382-869a-010d41eec44f"
      },
      "execution_count": null,
      "outputs": [
        {
          "output_type": "execute_result",
          "data": {
            "text/plain": [
              "Counter({0.0: 761, 1.0: 610})"
            ]
          },
          "metadata": {},
          "execution_count": 15
        }
      ]
    },
    {
      "cell_type": "code",
      "source": [
        "from sklearn.model_selection import train_test_split # suddivide le osservazioni nei due insiemi\n",
        "\n",
        "X_train, X_test, y_train, y_test = train_test_split(x, y, \n",
        "                                                    test_size = 0.30, # by default is 75%-25%\n",
        "                                                    # shuffle is set True by default,\n",
        "                                                    stratify = y, # per mantenere le proporzioni che ci sono nei dati di partenza\n",
        "                                                    random_state = 123) # fix random seed for replicability"
      ],
      "metadata": {
        "id": "3PzRtGnXoOQz"
      },
      "execution_count": null,
      "outputs": []
    },
    {
      "cell_type": "code",
      "source": [
        "X_train.shape,y_train.shape,X_test.shape,y_test.shape"
      ],
      "metadata": {
        "colab": {
          "base_uri": "https://localhost:8080/"
        },
        "id": "5px9fre0oSqc",
        "outputId": "a1f10509-a419-4638-8400-fb8605226e6b"
      },
      "execution_count": null,
      "outputs": [
        {
          "output_type": "execute_result",
          "data": {
            "text/plain": [
              "((959, 4), (959,), (412, 4), (412,))"
            ]
          },
          "metadata": {},
          "execution_count": 17
        }
      ]
    },
    {
      "cell_type": "code",
      "source": [
        "# importiamo il metodo di classificazione K-NN\n",
        "from sklearn.neighbors import KNeighborsClassifier\n",
        "\n",
        "# inizializziamo il metodo con n_neighbors=5\n",
        "neigh = KNeighborsClassifier(n_neighbors=5)\n",
        "\n",
        "# \"alleniamo\" il metodo con i dati del training set\n",
        "neigh.fit(X_train, y_train)\n",
        "\n",
        "# proviamo a fare una previsione sui dati del test set\n",
        "predictknn = neigh.predict(X_test)\n",
        "\n",
        "print(f'dati predetti dal metodo =                {predictknn[:10]}')\n",
        "print(f'dati reali presenti nel dataset di test = {y_test[:10]}')"
      ],
      "metadata": {
        "colab": {
          "base_uri": "https://localhost:8080/"
        },
        "id": "M9F-ntp7oU3c",
        "outputId": "b9b05472-cb7f-4c1b-f743-b8ef3437f31d"
      },
      "execution_count": null,
      "outputs": [
        {
          "output_type": "stream",
          "name": "stdout",
          "text": [
            "dati predetti dal metodo =                [0. 0. 0. 0. 1. 1. 0. 1. 1. 1.]\n",
            "dati reali presenti nel dataset di test = [0. 0. 0. 0. 1. 1. 0. 1. 1. 1.]\n"
          ]
        }
      ]
    },
    {
      "cell_type": "code",
      "source": [
        "!pip install mlxtend"
      ],
      "metadata": {
        "id": "vcdGTaM4obEb"
      },
      "execution_count": null,
      "outputs": []
    },
    {
      "cell_type": "code",
      "source": [
        "# valutiamo il nostro metodo:\n",
        "from mlxtend.plotting import plot_confusion_matrix\n",
        "from matplotlib import pyplot as plt\n",
        "from sklearn.metrics import confusion_matrix, classification_report\n",
        "# visualizziamo la confusion matrix\n",
        "plot_confusion_matrix(confusion_matrix(y_test, predictknn), cmap=plt.cm.Reds)\n",
        "plt.show()"
      ],
      "metadata": {
        "colab": {
          "base_uri": "https://localhost:8080/",
          "height": 279
        },
        "id": "d-ISUkF2oeQr",
        "outputId": "ef1f5db7-9b51-47c4-a2e4-3fb37f3ed168"
      },
      "execution_count": null,
      "outputs": [
        {
          "output_type": "display_data",
          "data": {
            "text/plain": [
              "<Figure size 432x288 with 1 Axes>"
            ],
            "image/png": "[encoded data removed]"
          },
          "metadata": {
            "needs_background": "light"
          }
        }
      ]
    },
    {
      "cell_type": "code",
      "source": [
        "print(classification_report(y_test, predictknn))"
      ],
      "metadata": {
        "colab": {
          "base_uri": "https://localhost:8080/"
        },
        "id": "Iu-8XRd6oh_b",
        "outputId": "1842bb64-7097-4260-ede4-a0f0bc9aff1b"
      },
      "execution_count": null,
      "outputs": [
        {
          "output_type": "stream",
          "name": "stdout",
          "text": [
            "              precision    recall  f1-score   support\n",
            "\n",
            "         0.0       1.00      1.00      1.00       229\n",
            "         1.0       1.00      1.00      1.00       183\n",
            "\n",
            "    accuracy                           1.00       412\n",
            "   macro avg       1.00      1.00      1.00       412\n",
            "weighted avg       1.00      1.00      1.00       412\n",
            "\n"
          ]
        }
      ]
    },
    {
      "cell_type": "code",
      "source": [
        "# importiamo il metodo che vogliamo utilizzara (tra i tanti disponibili...)\n",
        "from sklearn import tree\n",
        "\n",
        "# impostiamo i parametri del metodo\n",
        "# https://scikit-learn.org/stable/modules/generated/sklearn.tree.DecisionTreeClassifier.html\n",
        "tree_clf = tree.DecisionTreeClassifier(criterion=\"gini\", # criteri per stabilire come splittare\n",
        "                                       max_depth=4, # profondità dell'albero per evitare l'overfitting\n",
        "                                       min_samples_split=30, # dimensione minima del sottogruppo a cui fermarsi (no more split)\n",
        "                                       max_leaf_nodes=6, # numero dei nodi foglia\n",
        "                                       min_samples_leaf=4 # numero di campioni per essere una foglia\n",
        "                                      )\n",
        "\n",
        "# prima parte: dobbiamo fare in modo che il metodo impari dalle informazioni a disposizione\n",
        "tree_clf.fit(X_train,y_train)\n",
        "\n",
        "# seconda parte: vediamo se il metodo ha imparato bene facendogli prevedere i risultati \n",
        "predictdt = tree_clf.predict(X_test)\n",
        "\n",
        "# visualizziamo il risultato (solo i primi dieci pazienti)\n",
        "print(f'dati predetti dal metodo =                {predictdt[:10]}') # dati predetti dal metodo\n",
        "print(f'dati reali presenti nel dataset di test = {y_test[:10]}') # dati effettivi presenti nel test set"
      ],
      "metadata": {
        "colab": {
          "base_uri": "https://localhost:8080/"
        },
        "id": "bwhpYhx2oi4T",
        "outputId": "9a68499e-7746-4f90-dfec-40ef706728fa"
      },
      "execution_count": null,
      "outputs": [
        {
          "output_type": "stream",
          "name": "stdout",
          "text": [
            "dati predetti dal metodo =                [0. 0. 0. 0. 1. 1. 0. 1. 1. 1.]\n",
            "dati reali presenti nel dataset di test = [0. 0. 0. 0. 1. 1. 0. 1. 1. 1.]\n"
          ]
        }
      ]
    },
    {
      "cell_type": "code",
      "source": [
        "#plots IMPORTS\n",
        "from mlxtend.plotting import plot_confusion_matrix\n",
        "from matplotlib import pyplot as plt\n",
        "from sklearn.metrics import confusion_matrix, classification_report\n",
        "\n",
        "plot_confusion_matrix(confusion_matrix(y_test, predictdt))\n",
        "plt.show()"
      ],
      "metadata": {
        "colab": {
          "base_uri": "https://localhost:8080/",
          "height": 279
        },
        "id": "I64XGiSioldT",
        "outputId": "67bb42b4-7000-4203-8ba2-29c729289e69"
      },
      "execution_count": null,
      "outputs": [
        {
          "output_type": "display_data",
          "data": {
            "text/plain": [
              "<Figure size 432x288 with 1 Axes>"
            ],
            "image/png": "[encoded data removed]"
          },
          "metadata": {
            "needs_background": "light"
          }
        }
      ]
    },
    {
      "cell_type": "code",
      "source": [
        "print(classification_report(y_test, predictdt))"
      ],
      "metadata": {
        "id": "IEpqWQHyon5k",
        "outputId": "b863b0c5-7e76-42c1-f5bc-f367d89a7131",
        "colab": {
          "base_uri": "https://localhost:8080/"
        }
      },
      "execution_count": null,
      "outputs": [
        {
          "output_type": "stream",
          "name": "stdout",
          "text": [
            "              precision    recall  f1-score   support\n",
            "\n",
            "         0.0       0.93      0.95      0.94       229\n",
            "         1.0       0.93      0.91      0.92       183\n",
            "\n",
            "    accuracy                           0.93       412\n",
            "   macro avg       0.93      0.93      0.93       412\n",
            "weighted avg       0.93      0.93      0.93       412\n",
            "\n"
          ]
        }
      ]
    },
    {
      "cell_type": "code",
      "source": [
        "features=list(df.columns.values)\n",
        "\n",
        "import graphviz\n",
        "dot_data = tree.export_graphviz(tree_clf, out_file=None, \n",
        "                     feature_names=features[0:4],  \n",
        "                     class_names=['0','1'],  \n",
        "                     filled=True, rounded=True,  \n",
        "                     special_characters=True)  \n",
        "graph = graphviz.Source(dot_data)\n",
        "graph.render('diabetes')\n",
        "graph"
      ],
      "metadata": {
        "id": "6Ao3a795opz0",
        "outputId": "242c4952-98a4-4bc9-dd8e-e421b92aaa46",
        "colab": {
          "base_uri": "https://localhost:8080/",
          "height": 599
        }
      },
      "execution_count": null,
      "outputs": [
        {
          "output_type": "execute_result",
          "data": {
            "text/plain": [
              "<graphviz.files.Source at 0x7f0adc12f340>"
            ],
            "image/svg+xml": "<?xml version=\"1.0\" encoding=\"UTF-8\" standalone=\"no\"?>\n<!DOCTYPE svg PUBLIC \"-//W3C//DTD SVG 1.1//EN\"\n \"http://www.w3.org/Graphics/SVG/1.1/DTD/svg11.dtd\">\n<!-- Generated by graphviz version 2.43.0 (0)\n -->\n<!-- Title: Tree Pages: 1 -->\n<svg width=\"515pt\" height=\"433pt\"\n viewBox=\"0.00 0.00 515.00 433.00\" xmlns=\"http://www.w3.org/2000/svg\" xmlns:xlink=\"http://www.w3.org/1999/xlink\">\n<g id=\"graph0\" class=\"graph\" transform=\"scale(1 1) rotate(0) translate(4 429)\">\n<title>Tree</title>\n<polygon fill=\"white\" stroke=\"transparent\" points=\"-4,4 -4,-429 511,-429 511,4 -4,4\"/>\n<!-- 0 -->\n<g id=\"node1\" class=\"node\">\n<title>0</title>\n<path fill=\"#fae6d8\" stroke=\"black\" d=\"M304,-425C304,-425 203,-425 203,-425 197,-425 191,-419 191,-413 191,-413 191,-354 191,-354 191,-348 197,-342 203,-342 203,-342 304,-342 304,-342 310,-342 316,-348 316,-354 316,-354 316,-413 316,-413 316,-419 310,-425 304,-425\"/>\n<text text-anchor=\"start\" x=\"220\" y=\"-409.8\" font-family=\"Helvetica,sans-Serif\" font-size=\"14.00\">col1 ≤ 0.32</text>\n<text text-anchor=\"start\" x=\"218\" y=\"-394.8\" font-family=\"Helvetica,sans-Serif\" font-size=\"14.00\">gini = 0.494</text>\n<text text-anchor=\"start\" x=\"208.5\" y=\"-379.8\" font-family=\"Helvetica,sans-Serif\" font-size=\"14.00\">samples = 959</text>\n<text text-anchor=\"start\" x=\"199\" y=\"-364.8\" font-family=\"Helvetica,sans-Serif\" font-size=\"14.00\">value = [532, 427]</text>\n<text text-anchor=\"start\" x=\"226\" y=\"-349.8\" font-family=\"Helvetica,sans-Serif\" font-size=\"14.00\">class = 0</text>\n</g>\n<!-- 1 -->\n<g id=\"node2\" class=\"node\">\n<title>1</title>\n<path fill=\"#67b4eb\" stroke=\"black\" d=\"M233,-306C233,-306 140,-306 140,-306 134,-306 128,-300 128,-294 128,-294 128,-235 128,-235 128,-229 134,-223 140,-223 140,-223 233,-223 233,-223 239,-223 245,-229 245,-235 245,-235 245,-294 245,-294 245,-300 239,-306 233,-306\"/>\n<text text-anchor=\"start\" x=\"149.5\" y=\"-290.8\" font-family=\"Helvetica,sans-Serif\" font-size=\"14.00\">col2 ≤ 6.927</text>\n<text text-anchor=\"start\" x=\"151\" y=\"-275.8\" font-family=\"Helvetica,sans-Serif\" font-size=\"14.00\">gini = 0.305</text>\n<text text-anchor=\"start\" x=\"141.5\" y=\"-260.8\" font-family=\"Helvetica,sans-Serif\" font-size=\"14.00\">samples = 459</text>\n<text text-anchor=\"start\" x=\"136\" y=\"-245.8\" font-family=\"Helvetica,sans-Serif\" font-size=\"14.00\">value = [86, 373]</text>\n<text text-anchor=\"start\" x=\"159\" y=\"-230.8\" font-family=\"Helvetica,sans-Serif\" font-size=\"14.00\">class = 1</text>\n</g>\n<!-- 0&#45;&gt;1 -->\n<g id=\"edge1\" class=\"edge\">\n<title>0&#45;&gt;1</title>\n<path fill=\"none\" stroke=\"black\" d=\"M230.25,-341.91C225.27,-333.2 219.94,-323.9 214.79,-314.89\"/>\n<polygon fill=\"black\" stroke=\"black\" points=\"217.71,-312.96 209.7,-306.02 211.64,-316.44 217.71,-312.96\"/>\n<text text-anchor=\"middle\" x=\"203.15\" y=\"-326.45\" font-family=\"Helvetica,sans-Serif\" font-size=\"14.00\">True</text>\n</g>\n<!-- 2 -->\n<g id=\"node7\" class=\"node\">\n<title>2</title>\n<path fill=\"#e89051\" stroke=\"black\" d=\"M368,-306C368,-306 275,-306 275,-306 269,-306 263,-300 263,-294 263,-294 263,-235 263,-235 263,-229 269,-223 275,-223 275,-223 368,-223 368,-223 374,-223 380,-229 380,-235 380,-235 380,-294 380,-294 380,-300 374,-306 368,-306\"/>\n<text text-anchor=\"start\" x=\"282\" y=\"-290.8\" font-family=\"Helvetica,sans-Serif\" font-size=\"14.00\">col3 ≤ &#45;4.386</text>\n<text text-anchor=\"start\" x=\"286\" y=\"-275.8\" font-family=\"Helvetica,sans-Serif\" font-size=\"14.00\">gini = 0.193</text>\n<text text-anchor=\"start\" x=\"276.5\" y=\"-260.8\" font-family=\"Helvetica,sans-Serif\" font-size=\"14.00\">samples = 500</text>\n<text text-anchor=\"start\" x=\"271\" y=\"-245.8\" font-family=\"Helvetica,sans-Serif\" font-size=\"14.00\">value = [446, 54]</text>\n<text text-anchor=\"start\" x=\"294\" y=\"-230.8\" font-family=\"Helvetica,sans-Serif\" font-size=\"14.00\">class = 0</text>\n</g>\n<!-- 0&#45;&gt;2 -->\n<g id=\"edge6\" class=\"edge\">\n<title>0&#45;&gt;2</title>\n<path fill=\"none\" stroke=\"black\" d=\"M277.09,-341.91C282.16,-333.2 287.56,-323.9 292.79,-314.89\"/>\n<polygon fill=\"black\" stroke=\"black\" points=\"295.95,-316.43 297.95,-306.02 289.9,-312.91 295.95,-316.43\"/>\n<text text-anchor=\"middle\" x=\"304.35\" y=\"-326.49\" font-family=\"Helvetica,sans-Serif\" font-size=\"14.00\">False</text>\n</g>\n<!-- 3 -->\n<g id=\"node3\" class=\"node\">\n<title>3</title>\n<path fill=\"#46a3e7\" stroke=\"black\" d=\"M105,-179.5C105,-179.5 12,-179.5 12,-179.5 6,-179.5 0,-173.5 0,-167.5 0,-167.5 0,-123.5 0,-123.5 0,-117.5 6,-111.5 12,-111.5 12,-111.5 105,-111.5 105,-111.5 111,-111.5 117,-117.5 117,-123.5 117,-123.5 117,-167.5 117,-167.5 117,-173.5 111,-179.5 105,-179.5\"/>\n<text text-anchor=\"start\" x=\"23\" y=\"-164.3\" font-family=\"Helvetica,sans-Serif\" font-size=\"14.00\">gini = 0.115</text>\n<text text-anchor=\"start\" x=\"13.5\" y=\"-149.3\" font-family=\"Helvetica,sans-Serif\" font-size=\"14.00\">samples = 376</text>\n<text text-anchor=\"start\" x=\"8\" y=\"-134.3\" font-family=\"Helvetica,sans-Serif\" font-size=\"14.00\">value = [23, 353]</text>\n<text text-anchor=\"start\" x=\"31\" y=\"-119.3\" font-family=\"Helvetica,sans-Serif\" font-size=\"14.00\">class = 1</text>\n</g>\n<!-- 1&#45;&gt;3 -->\n<g id=\"edge2\" class=\"edge\">\n<title>1&#45;&gt;3</title>\n<path fill=\"none\" stroke=\"black\" d=\"M142.09,-222.91C129.17,-211.1 115.08,-198.22 102.21,-186.45\"/>\n<polygon fill=\"black\" stroke=\"black\" points=\"104.53,-183.83 94.79,-179.67 99.8,-189 104.53,-183.83\"/>\n</g>\n<!-- 4 -->\n<g id=\"node4\" class=\"node\">\n<title>4</title>\n<path fill=\"#eda978\" stroke=\"black\" d=\"M233.5,-187C233.5,-187 147.5,-187 147.5,-187 141.5,-187 135.5,-181 135.5,-175 135.5,-175 135.5,-116 135.5,-116 135.5,-110 141.5,-104 147.5,-104 147.5,-104 233.5,-104 233.5,-104 239.5,-104 245.5,-110 245.5,-116 245.5,-116 245.5,-175 245.5,-175 245.5,-181 239.5,-187 233.5,-187\"/>\n<text text-anchor=\"start\" x=\"151\" y=\"-171.8\" font-family=\"Helvetica,sans-Serif\" font-size=\"14.00\">col1 ≤ &#45;3.431</text>\n<text text-anchor=\"start\" x=\"155\" y=\"-156.8\" font-family=\"Helvetica,sans-Serif\" font-size=\"14.00\">gini = 0.366</text>\n<text text-anchor=\"start\" x=\"149.5\" y=\"-141.8\" font-family=\"Helvetica,sans-Serif\" font-size=\"14.00\">samples = 83</text>\n<text text-anchor=\"start\" x=\"143.5\" y=\"-126.8\" font-family=\"Helvetica,sans-Serif\" font-size=\"14.00\">value = [63, 20]</text>\n<text text-anchor=\"start\" x=\"163\" y=\"-111.8\" font-family=\"Helvetica,sans-Serif\" font-size=\"14.00\">class = 0</text>\n</g>\n<!-- 1&#45;&gt;4 -->\n<g id=\"edge3\" class=\"edge\">\n<title>1&#45;&gt;4</title>\n<path fill=\"none\" stroke=\"black\" d=\"M187.89,-222.91C188.17,-214.56 188.48,-205.67 188.77,-197.02\"/>\n<polygon fill=\"black\" stroke=\"black\" points=\"192.27,-197.13 189.11,-187.02 185.27,-196.9 192.27,-197.13\"/>\n</g>\n<!-- 7 -->\n<g id=\"node5\" class=\"node\">\n<title>7</title>\n<path fill=\"#43a2e6\" stroke=\"black\" d=\"M111.5,-68C111.5,-68 33.5,-68 33.5,-68 27.5,-68 21.5,-62 21.5,-56 21.5,-56 21.5,-12 21.5,-12 21.5,-6 27.5,0 33.5,0 33.5,0 111.5,0 111.5,0 117.5,0 123.5,-6 123.5,-12 123.5,-12 123.5,-56 123.5,-56 123.5,-62 117.5,-68 111.5,-68\"/>\n<text text-anchor=\"start\" x=\"37\" y=\"-52.8\" font-family=\"Helvetica,sans-Serif\" font-size=\"14.00\">gini = 0.091</text>\n<text text-anchor=\"start\" x=\"31.5\" y=\"-37.8\" font-family=\"Helvetica,sans-Serif\" font-size=\"14.00\">samples = 21</text>\n<text text-anchor=\"start\" x=\"29.5\" y=\"-22.8\" font-family=\"Helvetica,sans-Serif\" font-size=\"14.00\">value = [1, 20]</text>\n<text text-anchor=\"start\" x=\"45\" y=\"-7.8\" font-family=\"Helvetica,sans-Serif\" font-size=\"14.00\">class = 1</text>\n</g>\n<!-- 4&#45;&gt;7 -->\n<g id=\"edge4\" class=\"edge\">\n<title>4&#45;&gt;7</title>\n<path fill=\"none\" stroke=\"black\" d=\"M146.56,-103.73C136.54,-94.42 125.89,-84.54 115.89,-75.26\"/>\n<polygon fill=\"black\" stroke=\"black\" points=\"118.1,-72.54 108.38,-68.3 113.33,-77.67 118.1,-72.54\"/>\n</g>\n<!-- 8 -->\n<g id=\"node6\" class=\"node\">\n<title>8</title>\n<path fill=\"#e58139\" stroke=\"black\" d=\"M231.5,-68C231.5,-68 153.5,-68 153.5,-68 147.5,-68 141.5,-62 141.5,-56 141.5,-56 141.5,-12 141.5,-12 141.5,-6 147.5,0 153.5,0 153.5,0 231.5,0 231.5,0 237.5,0 243.5,-6 243.5,-12 243.5,-12 243.5,-56 243.5,-56 243.5,-62 237.5,-68 231.5,-68\"/>\n<text text-anchor=\"start\" x=\"164.5\" y=\"-52.8\" font-family=\"Helvetica,sans-Serif\" font-size=\"14.00\">gini = 0.0</text>\n<text text-anchor=\"start\" x=\"151.5\" y=\"-37.8\" font-family=\"Helvetica,sans-Serif\" font-size=\"14.00\">samples = 62</text>\n<text text-anchor=\"start\" x=\"149.5\" y=\"-22.8\" font-family=\"Helvetica,sans-Serif\" font-size=\"14.00\">value = [62, 0]</text>\n<text text-anchor=\"start\" x=\"165\" y=\"-7.8\" font-family=\"Helvetica,sans-Serif\" font-size=\"14.00\">class = 0</text>\n</g>\n<!-- 4&#45;&gt;8 -->\n<g id=\"edge5\" class=\"edge\">\n<title>4&#45;&gt;8</title>\n<path fill=\"none\" stroke=\"black\" d=\"M191.24,-103.73C191.39,-95.52 191.55,-86.86 191.7,-78.56\"/>\n<polygon fill=\"black\" stroke=\"black\" points=\"195.21,-78.36 191.89,-68.3 188.21,-78.23 195.21,-78.36\"/>\n</g>\n<!-- 5 -->\n<g id=\"node8\" class=\"node\">\n<title>5</title>\n<path fill=\"#61b1ea\" stroke=\"black\" d=\"M359.5,-187C359.5,-187 281.5,-187 281.5,-187 275.5,-187 269.5,-181 269.5,-175 269.5,-175 269.5,-116 269.5,-116 269.5,-110 275.5,-104 281.5,-104 281.5,-104 359.5,-104 359.5,-104 365.5,-104 371.5,-110 371.5,-116 371.5,-116 371.5,-175 371.5,-175 371.5,-181 365.5,-187 359.5,-187\"/>\n<text text-anchor=\"start\" x=\"283.5\" y=\"-171.8\" font-family=\"Helvetica,sans-Serif\" font-size=\"14.00\">col1 ≤ 3.304</text>\n<text text-anchor=\"start\" x=\"285\" y=\"-156.8\" font-family=\"Helvetica,sans-Serif\" font-size=\"14.00\">gini = 0.278</text>\n<text text-anchor=\"start\" x=\"279.5\" y=\"-141.8\" font-family=\"Helvetica,sans-Serif\" font-size=\"14.00\">samples = 30</text>\n<text text-anchor=\"start\" x=\"277.5\" y=\"-126.8\" font-family=\"Helvetica,sans-Serif\" font-size=\"14.00\">value = [5, 25]</text>\n<text text-anchor=\"start\" x=\"293\" y=\"-111.8\" font-family=\"Helvetica,sans-Serif\" font-size=\"14.00\">class = 1</text>\n</g>\n<!-- 2&#45;&gt;5 -->\n<g id=\"edge7\" class=\"edge\">\n<title>2&#45;&gt;5</title>\n<path fill=\"none\" stroke=\"black\" d=\"M321.15,-222.91C321.08,-214.65 321.01,-205.86 320.93,-197.3\"/>\n<polygon fill=\"black\" stroke=\"black\" points=\"324.43,-196.99 320.85,-187.02 317.43,-197.05 324.43,-196.99\"/>\n</g>\n<!-- 6 -->\n<g id=\"node11\" class=\"node\">\n<title>6</title>\n<path fill=\"#e78946\" stroke=\"black\" d=\"M495,-179.5C495,-179.5 402,-179.5 402,-179.5 396,-179.5 390,-173.5 390,-167.5 390,-167.5 390,-123.5 390,-123.5 390,-117.5 396,-111.5 402,-111.5 402,-111.5 495,-111.5 495,-111.5 501,-111.5 507,-117.5 507,-123.5 507,-123.5 507,-167.5 507,-167.5 507,-173.5 501,-179.5 495,-179.5\"/>\n<text text-anchor=\"start\" x=\"413\" y=\"-164.3\" font-family=\"Helvetica,sans-Serif\" font-size=\"14.00\">gini = 0.116</text>\n<text text-anchor=\"start\" x=\"403.5\" y=\"-149.3\" font-family=\"Helvetica,sans-Serif\" font-size=\"14.00\">samples = 470</text>\n<text text-anchor=\"start\" x=\"398\" y=\"-134.3\" font-family=\"Helvetica,sans-Serif\" font-size=\"14.00\">value = [441, 29]</text>\n<text text-anchor=\"start\" x=\"421\" y=\"-119.3\" font-family=\"Helvetica,sans-Serif\" font-size=\"14.00\">class = 0</text>\n</g>\n<!-- 2&#45;&gt;6 -->\n<g id=\"edge10\" class=\"edge\">\n<title>2&#45;&gt;6</title>\n<path fill=\"none\" stroke=\"black\" d=\"M365.56,-222.91C378.38,-211.1 392.36,-198.22 405.14,-186.45\"/>\n<polygon fill=\"black\" stroke=\"black\" points=\"407.52,-189.02 412.5,-179.67 402.77,-183.87 407.52,-189.02\"/>\n</g>\n<!-- 9 -->\n<g id=\"node9\" class=\"node\">\n<title>9</title>\n<path fill=\"#399de5\" stroke=\"black\" d=\"M358.5,-68C358.5,-68 280.5,-68 280.5,-68 274.5,-68 268.5,-62 268.5,-56 268.5,-56 268.5,-12 268.5,-12 268.5,-6 274.5,0 280.5,0 280.5,0 358.5,0 358.5,0 364.5,0 370.5,-6 370.5,-12 370.5,-12 370.5,-56 370.5,-56 370.5,-62 364.5,-68 358.5,-68\"/>\n<text text-anchor=\"start\" x=\"291.5\" y=\"-52.8\" font-family=\"Helvetica,sans-Serif\" font-size=\"14.00\">gini = 0.0</text>\n<text text-anchor=\"start\" x=\"278.5\" y=\"-37.8\" font-family=\"Helvetica,sans-Serif\" font-size=\"14.00\">samples = 25</text>\n<text text-anchor=\"start\" x=\"276.5\" y=\"-22.8\" font-family=\"Helvetica,sans-Serif\" font-size=\"14.00\">value = [0, 25]</text>\n<text text-anchor=\"start\" x=\"292\" y=\"-7.8\" font-family=\"Helvetica,sans-Serif\" font-size=\"14.00\">class = 1</text>\n</g>\n<!-- 5&#45;&gt;9 -->\n<g id=\"edge8\" class=\"edge\">\n<title>5&#45;&gt;9</title>\n<path fill=\"none\" stroke=\"black\" d=\"M320.13,-103.73C320.05,-95.52 319.97,-86.86 319.9,-78.56\"/>\n<polygon fill=\"black\" stroke=\"black\" points=\"323.4,-78.27 319.8,-68.3 316.4,-78.33 323.4,-78.27\"/>\n</g>\n<!-- 10 -->\n<g id=\"node10\" class=\"node\">\n<title>10</title>\n<path fill=\"#e58139\" stroke=\"black\" d=\"M472,-68C472,-68 401,-68 401,-68 395,-68 389,-62 389,-56 389,-56 389,-12 389,-12 389,-6 395,0 401,0 401,0 472,0 472,0 478,0 484,-6 484,-12 484,-12 484,-56 484,-56 484,-62 478,-68 472,-68\"/>\n<text text-anchor=\"start\" x=\"408.5\" y=\"-52.8\" font-family=\"Helvetica,sans-Serif\" font-size=\"14.00\">gini = 0.0</text>\n<text text-anchor=\"start\" x=\"399\" y=\"-37.8\" font-family=\"Helvetica,sans-Serif\" font-size=\"14.00\">samples = 5</text>\n<text text-anchor=\"start\" x=\"397\" y=\"-22.8\" font-family=\"Helvetica,sans-Serif\" font-size=\"14.00\">value = [5, 0]</text>\n<text text-anchor=\"start\" x=\"409\" y=\"-7.8\" font-family=\"Helvetica,sans-Serif\" font-size=\"14.00\">class = 0</text>\n</g>\n<!-- 5&#45;&gt;10 -->\n<g id=\"edge9\" class=\"edge\">\n<title>5&#45;&gt;10</title>\n<path fill=\"none\" stroke=\"black\" d=\"M363.69,-103.73C373.55,-94.42 384.02,-84.54 393.85,-75.26\"/>\n<polygon fill=\"black\" stroke=\"black\" points=\"396.35,-77.71 401.22,-68.3 391.55,-72.62 396.35,-77.71\"/>\n</g>\n</g>\n</svg>\n"
          },
          "metadata": {},
          "execution_count": 25
        }
      ]
    }
  ]
}