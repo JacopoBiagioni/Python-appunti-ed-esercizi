{
  "cells": [
    {
      "cell_type": "markdown",
      "metadata": {
        "id": "9oRXxyMov79K"
      },
      "source": [
        "# Run your first classifier with Python"
      ]
    },
    {
      "cell_type": "markdown",
      "metadata": {
        "id": "BsUqy86Cv79l"
      },
      "source": [
        "Import the *Pima Indians Diabetes Database* dataset thorugh pandas.\n",
        "\n",
        "__Context__:\n",
        "This dataset is originally from the National Institute of Diabetes and Digestive and Kidney Diseases. __The objective of the project is to diagnostically predict whether or not a patient has diabetes, based on certain diagnostic measurements included in the dataset__. Several constraints were placed on the selection of these instances from a larger database. In particular, all patients here are females at least 21 years old of Pima Indian heritage.\n",
        "\n",
        "link to the [dataset](https://www.kaggle.com/uciml/pima-indians-diabetes-database) "
      ]
    },
    {
      "cell_type": "markdown",
      "metadata": {
        "id": "oh2pWDjdv79o"
      },
      "source": [
        "# Import data"
      ]
    },
    {
      "cell_type": "code",
      "source": [
        "from google.colab import drive\n",
        "drive.mount('/content/drive')"
      ],
      "metadata": {
        "colab": {
          "base_uri": "https://localhost:8080/"
        },
        "id": "QQeZpDYE2pdQ",
        "outputId": "f6580224-050d-4828-dad3-43310c2fcf19"
      },
      "execution_count": null,
      "outputs": [
        {
          "output_type": "stream",
          "name": "stdout",
          "text": [
            "Mounted at /content/drive\n"
          ]
        }
      ]
    },
    {
      "cell_type": "code",
      "execution_count": null,
      "metadata": {
        "id": "no9wScjfv79q"
      },
      "outputs": [],
      "source": [
        "import pandas as pd\n",
        "df = pd.read_csv('/content/drive/MyDrive/Colab Notebooks/ML 101.1/data/diabetes.txt')"
      ]
    },
    {
      "cell_type": "code",
      "execution_count": null,
      "metadata": {
        "colab": {
          "base_uri": "https://localhost:8080/",
          "height": 424
        },
        "id": "UGxty8yZv79u",
        "outputId": "e8a35cbb-394d-4a58-947b-4ac858aab8b1"
      },
      "outputs": [
        {
          "output_type": "execute_result",
          "data": {
            "text/plain": [
              "     timespreg  gluctol  diaspb  triceps  insulin  massindex  pedigree  age  \\\n",
              "0            6      148      72       35        0       33.6     0.627   50   \n",
              "1            1       85      66       29        0       26.6     0.351   31   \n",
              "2            8      183      64        0        0       23.3     0.672   32   \n",
              "3            1       89      66       23       94       28.1     0.167   21   \n",
              "4            0      137      40       35      168       43.1     2.288   33   \n",
              "..         ...      ...     ...      ...      ...        ...       ...  ...   \n",
              "763         10      101      76       48      180       32.9     0.171   63   \n",
              "764          2      122      70       27        0       36.8     0.340   27   \n",
              "765          5      121      72       23      112       26.2     0.245   30   \n",
              "766          1      126      60        0        0       30.1     0.349   47   \n",
              "767          1       93      70       31        0       30.4     0.315   23   \n",
              "\n",
              "     target  \n",
              "0         1  \n",
              "1         0  \n",
              "2         1  \n",
              "3         0  \n",
              "4         1  \n",
              "..      ...  \n",
              "763       0  \n",
              "764       0  \n",
              "765       0  \n",
              "766       1  \n",
              "767       0  \n",
              "\n",
              "[768 rows x 9 columns]"
            ],
            "text/html": [
              "\n",
              "  <div id=\"df-2b0d6dfe-77f3-4c6d-8e4a-0d8de71c30fe\">\n",
              "    <div class=\"colab-df-container\">\n",
              "      <div>\n",
              "<style scoped>\n",
              "    .dataframe tbody tr th:only-of-type {\n",
              "        vertical-align: middle;\n",
              "    }\n",
              "\n",
              "    .dataframe tbody tr th {\n",
              "        vertical-align: top;\n",
              "    }\n",
              "\n",
              "    .dataframe thead th {\n",
              "        text-align: right;\n",
              "    }\n",
              "</style>\n",
              "<table border=\"1\" class=\"dataframe\">\n",
              "  <thead>\n",
              "    <tr style=\"text-align: right;\">\n",
              "      <th></th>\n",
              "      <th>timespreg</th>\n",
              "      <th>gluctol</th>\n",
              "      <th>diaspb</th>\n",
              "      <th>triceps</th>\n",
              "      <th>insulin</th>\n",
              "      <th>massindex</th>\n",
              "      <th>pedigree</th>\n",
              "      <th>age</th>\n",
              "      <th>target</th>\n",
              "    </tr>\n",
              "  </thead>\n",
              "  <tbody>\n",
              "    <tr>\n",
              "      <th>0</th>\n",
              "      <td>6</td>\n",
              "      <td>148</td>\n",
              "      <td>72</td>\n",
              "      <td>35</td>\n",
              "      <td>0</td>\n",
              "      <td>33.6</td>\n",
              "      <td>0.627</td>\n",
              "      <td>50</td>\n",
              "      <td>1</td>\n",
              "    </tr>\n",
              "    <tr>\n",
              "      <th>1</th>\n",
              "      <td>1</td>\n",
              "      <td>85</td>\n",
              "      <td>66</td>\n",
              "      <td>29</td>\n",
              "      <td>0</td>\n",
              "      <td>26.6</td>\n",
              "      <td>0.351</td>\n",
              "      <td>31</td>\n",
              "      <td>0</td>\n",
              "    </tr>\n",
              "    <tr>\n",
              "      <th>2</th>\n",
              "      <td>8</td>\n",
              "      <td>183</td>\n",
              "      <td>64</td>\n",
              "      <td>0</td>\n",
              "      <td>0</td>\n",
              "      <td>23.3</td>\n",
              "      <td>0.672</td>\n",
              "      <td>32</td>\n",
              "      <td>1</td>\n",
              "    </tr>\n",
              "    <tr>\n",
              "      <th>3</th>\n",
              "      <td>1</td>\n",
              "      <td>89</td>\n",
              "      <td>66</td>\n",
              "      <td>23</td>\n",
              "      <td>94</td>\n",
              "      <td>28.1</td>\n",
              "      <td>0.167</td>\n",
              "      <td>21</td>\n",
              "      <td>0</td>\n",
              "    </tr>\n",
              "    <tr>\n",
              "      <th>4</th>\n",
              "      <td>0</td>\n",
              "      <td>137</td>\n",
              "      <td>40</td>\n",
              "      <td>35</td>\n",
              "      <td>168</td>\n",
              "      <td>43.1</td>\n",
              "      <td>2.288</td>\n",
              "      <td>33</td>\n",
              "      <td>1</td>\n",
              "    </tr>\n",
              "    <tr>\n",
              "      <th>...</th>\n",
              "      <td>...</td>\n",
              "      <td>...</td>\n",
              "      <td>...</td>\n",
              "      <td>...</td>\n",
              "      <td>...</td>\n",
              "      <td>...</td>\n",
              "      <td>...</td>\n",
              "      <td>...</td>\n",
              "      <td>...</td>\n",
              "    </tr>\n",
              "    <tr>\n",
              "      <th>763</th>\n",
              "      <td>10</td>\n",
              "      <td>101</td>\n",
              "      <td>76</td>\n",
              "      <td>48</td>\n",
              "      <td>180</td>\n",
              "      <td>32.9</td>\n",
              "      <td>0.171</td>\n",
              "      <td>63</td>\n",
              "      <td>0</td>\n",
              "    </tr>\n",
              "    <tr>\n",
              "      <th>764</th>\n",
              "      <td>2</td>\n",
              "      <td>122</td>\n",
              "      <td>70</td>\n",
              "      <td>27</td>\n",
              "      <td>0</td>\n",
              "      <td>36.8</td>\n",
              "      <td>0.340</td>\n",
              "      <td>27</td>\n",
              "      <td>0</td>\n",
              "    </tr>\n",
              "    <tr>\n",
              "      <th>765</th>\n",
              "      <td>5</td>\n",
              "      <td>121</td>\n",
              "      <td>72</td>\n",
              "      <td>23</td>\n",
              "      <td>112</td>\n",
              "      <td>26.2</td>\n",
              "      <td>0.245</td>\n",
              "      <td>30</td>\n",
              "      <td>0</td>\n",
              "    </tr>\n",
              "    <tr>\n",
              "      <th>766</th>\n",
              "      <td>1</td>\n",
              "      <td>126</td>\n",
              "      <td>60</td>\n",
              "      <td>0</td>\n",
              "      <td>0</td>\n",
              "      <td>30.1</td>\n",
              "      <td>0.349</td>\n",
              "      <td>47</td>\n",
              "      <td>1</td>\n",
              "    </tr>\n",
              "    <tr>\n",
              "      <th>767</th>\n",
              "      <td>1</td>\n",
              "      <td>93</td>\n",
              "      <td>70</td>\n",
              "      <td>31</td>\n",
              "      <td>0</td>\n",
              "      <td>30.4</td>\n",
              "      <td>0.315</td>\n",
              "      <td>23</td>\n",
              "      <td>0</td>\n",
              "    </tr>\n",
              "  </tbody>\n",
              "</table>\n",
              "<p>768 rows × 9 columns</p>\n",
              "</div>\n",
              "      <button class=\"colab-df-convert\" onclick=\"convertToInteractive('df-2b0d6dfe-77f3-4c6d-8e4a-0d8de71c30fe')\"\n",
              "              title=\"Convert this dataframe to an interactive table.\"\n",
              "              style=\"display:none;\">\n",
              "        \n",
              "  <svg xmlns=\"http://www.w3.org/2000/svg\" height=\"24px\"viewBox=\"0 0 24 24\"\n",
              "       width=\"24px\">\n",
              "    <path d=\"M0 0h24v24H0V0z\" fill=\"none\"/>\n",
              "    <path d=\"M18.56 5.44l.94 2.06.94-2.06 2.06-.94-2.06-.94-.94-2.06-.94 2.06-2.06.94zm-11 1L8.5 8.5l.94-2.06 2.06-.94-2.06-.94L8.5 2.5l-.94 2.06-2.06.94zm10 10l.94 2.06.94-2.06 2.06-.94-2.06-.94-.94-2.06-.94 2.06-2.06.94z\"/><path d=\"M17.41 7.96l-1.37-1.37c-.4-.4-.92-.59-1.43-.59-.52 0-1.04.2-1.43.59L10.3 9.45l-7.72 7.72c-.78.78-.78 2.05 0 2.83L4 21.41c.39.39.9.59 1.41.59.51 0 1.02-.2 1.41-.59l7.78-7.78 2.81-2.81c.8-.78.8-2.07 0-2.86zM5.41 20L4 18.59l7.72-7.72 1.47 1.35L5.41 20z\"/>\n",
              "  </svg>\n",
              "      </button>\n",
              "      \n",
              "  <style>\n",
              "    .colab-df-container {\n",
              "      display:flex;\n",
              "      flex-wrap:wrap;\n",
              "      gap: 12px;\n",
              "    }\n",
              "\n",
              "    .colab-df-convert {\n",
              "      background-color: #E8F0FE;\n",
              "      border: none;\n",
              "      border-radius: 50%;\n",
              "      cursor: pointer;\n",
              "      display: none;\n",
              "      fill: #1967D2;\n",
              "      height: 32px;\n",
              "      padding: 0 0 0 0;\n",
              "      width: 32px;\n",
              "    }\n",
              "\n",
              "    .colab-df-convert:hover {\n",
              "      background-color: #E2EBFA;\n",
              "      box-shadow: 0px 1px 2px rgba(60, 64, 67, 0.3), 0px 1px 3px 1px rgba(60, 64, 67, 0.15);\n",
              "      fill: #174EA6;\n",
              "    }\n",
              "\n",
              "    [theme=dark] .colab-df-convert {\n",
              "      background-color: #3B4455;\n",
              "      fill: #D2E3FC;\n",
              "    }\n",
              "\n",
              "    [theme=dark] .colab-df-convert:hover {\n",
              "      background-color: #434B5C;\n",
              "      box-shadow: 0px 1px 3px 1px rgba(0, 0, 0, 0.15);\n",
              "      filter: drop-shadow(0px 1px 2px rgba(0, 0, 0, 0.3));\n",
              "      fill: #FFFFFF;\n",
              "    }\n",
              "  </style>\n",
              "\n",
              "      <script>\n",
              "        const buttonEl =\n",
              "          document.querySelector('#df-2b0d6dfe-77f3-4c6d-8e4a-0d8de71c30fe button.colab-df-convert');\n",
              "        buttonEl.style.display =\n",
              "          google.colab.kernel.accessAllowed ? 'block' : 'none';\n",
              "\n",
              "        async function convertToInteractive(key) {\n",
              "          const element = document.querySelector('#df-2b0d6dfe-77f3-4c6d-8e4a-0d8de71c30fe');\n",
              "          const dataTable =\n",
              "            await google.colab.kernel.invokeFunction('convertToInteractive',\n",
              "                                                     [key], {});\n",
              "          if (!dataTable) return;\n",
              "\n",
              "          const docLinkHtml = 'Like what you see? Visit the ' +\n",
              "            '<a target=\"_blank\" href=https://colab.research.google.com/notebooks/data_table.ipynb>data table notebook</a>'\n",
              "            + ' to learn more about interactive tables.';\n",
              "          element.innerHTML = '';\n",
              "          dataTable['output_type'] = 'display_data';\n",
              "          await google.colab.output.renderOutput(dataTable, element);\n",
              "          const docLink = document.createElement('div');\n",
              "          docLink.innerHTML = docLinkHtml;\n",
              "          element.appendChild(docLink);\n",
              "        }\n",
              "      </script>\n",
              "    </div>\n",
              "  </div>\n",
              "  "
            ]
          },
          "metadata": {},
          "execution_count": 3
        }
      ],
      "source": [
        "df "
      ]
    },
    {
      "cell_type": "markdown",
      "metadata": {
        "id": "KSjGqwUTv792"
      },
      "source": [
        "Print class frequencies through pandas \n",
        "(Tenere presente che target = 1 vuol dire che il paziente ha il diabete, 0 che non lo ha)"
      ]
    },
    {
      "cell_type": "code",
      "execution_count": null,
      "metadata": {
        "colab": {
          "base_uri": "https://localhost:8080/"
        },
        "id": "wYjA_j8vv796",
        "outputId": "f84d7498-5cf6-498d-aab4-41cab94ed8c8"
      },
      "outputs": [
        {
          "output_type": "stream",
          "name": "stdout",
          "text": [
            "target\n",
            "0    500\n",
            "1    268\n",
            "dtype: int64\n"
          ]
        }
      ],
      "source": [
        "print(df.groupby('target').size())"
      ]
    },
    {
      "cell_type": "markdown",
      "metadata": {
        "id": "G0Znim3rv799"
      },
      "source": [
        "Bar plot for the target variable"
      ]
    },
    {
      "cell_type": "code",
      "execution_count": null,
      "metadata": {
        "colab": {
          "base_uri": "https://localhost:8080/",
          "height": 295
        },
        "id": "qj0qDcZwv7-A",
        "outputId": "3774c12f-3ec7-4a23-d123-9bf64bdaaf20"
      },
      "outputs": [
        {
          "output_type": "display_data",
          "data": {
            "text/plain": [
              "<Figure size 432x288 with 1 Axes>"
            ],
            "image/png": "[encoded data removed]"
          },
          "metadata": {
            "needs_background": "light"
          }
        }
      ],
      "source": [
        "%matplotlib inline\n",
        "import seaborn as sns\n",
        "import matplotlib.pyplot as plt\n",
        "\n",
        "\n",
        "sns.countplot(x=\"target\", data=df)\n",
        "plt.title(\"Diabetes Dataset\")\n",
        "plt.xlabel(\"Classes\")\n",
        "plt.ylabel(\"Counts\")\n",
        "plt.show()"
      ]
    },
    {
      "cell_type": "markdown",
      "metadata": {
        "id": "WDSTVR-rv7-C"
      },
      "source": [
        "Transform the dataframe into a numpy matrix (numpy is the python package for scientific computing)"
      ]
    },
    {
      "cell_type": "code",
      "execution_count": null,
      "metadata": {
        "colab": {
          "base_uri": "https://localhost:8080/"
        },
        "id": "gO_dt1TCv7-E",
        "outputId": "81b67729-241b-4fb5-b006-6dfddc283647"
      },
      "outputs": [
        {
          "output_type": "execute_result",
          "data": {
            "text/plain": [
              "Counter({1.0: 268, 0.0: 500})"
            ]
          },
          "metadata": {},
          "execution_count": 6
        }
      ],
      "source": [
        "import numpy as np\n",
        "df = df.to_numpy()\n",
        "x=df[:,0:-1] # prendiamo tutti i dati tranne l'ultima colonna -> variabili indipendenti, osservazioni\n",
        "y=df[:,-1] # prendiamo solo l'ultima colonna -> variabile dipendente, target\n",
        "\n",
        "#Print class frequencies through collections counter\n",
        "import collections\n",
        "collections.Counter(y)"
      ]
    },
    {
      "cell_type": "code",
      "execution_count": null,
      "metadata": {
        "colab": {
          "base_uri": "https://localhost:8080/"
        },
        "id": "ACmUgGMvv7-G",
        "outputId": "ed9bfb4c-cc7a-4c78-8afb-5d8e91a5ee69"
      },
      "outputs": [
        {
          "output_type": "stream",
          "name": "stdout",
          "text": [
            "[[6.000e+00 1.480e+02 7.200e+01 3.500e+01 0.000e+00 3.360e+01 6.270e-01\n",
            "  5.000e+01]\n",
            " [1.000e+00 8.500e+01 6.600e+01 2.900e+01 0.000e+00 2.660e+01 3.510e-01\n",
            "  3.100e+01]\n",
            " [8.000e+00 1.830e+02 6.400e+01 0.000e+00 0.000e+00 2.330e+01 6.720e-01\n",
            "  3.200e+01]\n",
            " [1.000e+00 8.900e+01 6.600e+01 2.300e+01 9.400e+01 2.810e+01 1.670e-01\n",
            "  2.100e+01]\n",
            " [0.000e+00 1.370e+02 4.000e+01 3.500e+01 1.680e+02 4.310e+01 2.288e+00\n",
            "  3.300e+01]\n",
            " [5.000e+00 1.160e+02 7.400e+01 0.000e+00 0.000e+00 2.560e+01 2.010e-01\n",
            "  3.000e+01]\n",
            " [3.000e+00 7.800e+01 5.000e+01 3.200e+01 8.800e+01 3.100e+01 2.480e-01\n",
            "  2.600e+01]\n",
            " [1.000e+01 1.150e+02 0.000e+00 0.000e+00 0.000e+00 3.530e+01 1.340e-01\n",
            "  2.900e+01]\n",
            " [2.000e+00 1.970e+02 7.000e+01 4.500e+01 5.430e+02 3.050e+01 1.580e-01\n",
            "  5.300e+01]\n",
            " [8.000e+00 1.250e+02 9.600e+01 0.000e+00 0.000e+00 0.000e+00 2.320e-01\n",
            "  5.400e+01]]\n",
            "y = [1. 0. 1. 0. 1. 0. 1. 0. 1. 1.]\n"
          ]
        }
      ],
      "source": [
        "print(x[:10])\n",
        "print(f'y = {y[:10]}')"
      ]
    },
    {
      "cell_type": "code",
      "execution_count": null,
      "metadata": {
        "colab": {
          "base_uri": "https://localhost:8080/"
        },
        "id": "qzSfHM6Rv7-H",
        "outputId": "dc40aef5-280f-423a-a84b-7708dc5bfe1c"
      },
      "outputs": [
        {
          "output_type": "stream",
          "name": "stdout",
          "text": [
            "[[  6.    148.     72.     35.      0.     33.6     0.627  50.   ]\n",
            " [  1.     85.     66.     29.      0.     26.6     0.351  31.   ]\n",
            " [  8.    183.     64.      0.      0.     23.3     0.672  32.   ]\n",
            " [  1.     89.     66.     23.     94.     28.1     0.167  21.   ]\n",
            " [  0.    137.     40.     35.    168.     43.1     2.288  33.   ]\n",
            " [  5.    116.     74.      0.      0.     25.6     0.201  30.   ]\n",
            " [  3.     78.     50.     32.     88.     31.      0.248  26.   ]\n",
            " [ 10.    115.      0.      0.      0.     35.3     0.134  29.   ]\n",
            " [  2.    197.     70.     45.    543.     30.5     0.158  53.   ]\n",
            " [  8.    125.     96.      0.      0.      0.      0.232  54.   ]]\n",
            "y = [1. 0. 1. 0. 1. 0. 1. 0. 1. 1.]\n"
          ]
        }
      ],
      "source": [
        "# suppress scientific notation\n",
        "np.set_printoptions(suppress=True)\n",
        "print(x[:10])\n",
        "print(f'y = {y[:10]}')"
      ]
    },
    {
      "cell_type": "markdown",
      "metadata": {
        "id": "mltaMM_jv7-J"
      },
      "source": [
        "# Split data into training/test set"
      ]
    },
    {
      "cell_type": "code",
      "execution_count": null,
      "metadata": {
        "id": "lbeT9Dfvv7-K"
      },
      "outputs": [],
      "source": [
        " !pip install sklearn"
      ]
    },
    {
      "cell_type": "code",
      "execution_count": null,
      "metadata": {
        "id": "Fdznm27cv7-L"
      },
      "outputs": [],
      "source": [
        "# https://scikit-learn.org/stable/ libreria per il Machine Learning in Python\n",
        "\n",
        "# come per altri metodi di ML, dobbiamo prendere i nostri valori delle osservazioni e splittarle in due insiemi:\n",
        "# training set: è il sottoinsieme delle osservazioni che serve al nostro metodo per imparare\n",
        "# test set: è il sottoinsieme delle osservazioni che serve al nostro metodo per capire se ha imparato bene\n",
        "\n",
        "from sklearn.model_selection import train_test_split # suddivide le osservazioni nei due insiemi\n",
        "\n",
        "X_train, X_test, y_train, y_test = train_test_split(x, y, \n",
        "                                                    test_size = 0.33, # by default is 75%-25%\n",
        "                                                    # shuffle is set True by default,\n",
        "                                                    stratify = y, # per mantenere le proporzioni che ci sono nei dati di partenza\n",
        "                                                    random_state = 123) # fix random seed for replicability"
      ]
    },
    {
      "cell_type": "code",
      "execution_count": null,
      "metadata": {
        "colab": {
          "base_uri": "https://localhost:8080/"
        },
        "id": "iDtFICucv7-M",
        "outputId": "c0a5fc7b-d0f4-483e-8b1a-0aee19d38f2f"
      },
      "outputs": [
        {
          "output_type": "execute_result",
          "data": {
            "text/plain": [
              "((514, 8), (514,), (254, 8), (254,))"
            ]
          },
          "metadata": {},
          "execution_count": 11
        }
      ],
      "source": [
        "X_train.shape,y_train.shape,X_test.shape,y_test.shape"
      ]
    },
    {
      "cell_type": "code",
      "execution_count": null,
      "metadata": {
        "colab": {
          "base_uri": "https://localhost:8080/"
        },
        "id": "Lc39jcZXv7-N",
        "outputId": "91c6b125-0a38-4e6e-a006-d98971049e1e"
      },
      "outputs": [
        {
          "output_type": "stream",
          "name": "stdout",
          "text": [
            "[[  5.    123.     74.     40.     77.     34.1     0.269  28.   ]\n",
            " [  6.     80.     66.     30.      0.     26.2     0.313  41.   ]\n",
            " [ 10.     68.    106.     23.     49.     35.5     0.285  47.   ]\n",
            " [ 12.     84.     72.     31.      0.     29.7     0.297  46.   ]\n",
            " [  2.    106.     64.     35.    119.     30.5     1.4    34.   ]\n",
            " [  2.     92.     76.     20.      0.     24.2     1.698  28.   ]\n",
            " [  6.     85.     78.      0.      0.     31.2     0.382  42.   ]\n",
            " [  2.     81.     72.     15.     76.     30.1     0.547  25.   ]\n",
            " [  7.    133.     84.      0.      0.     40.2     0.696  37.   ]\n",
            " [  2.    108.     52.     26.     63.     32.5     0.318  22.   ]]\n",
            "y_train = [0. 0. 0. 1. 0. 0. 0. 0. 0. 0.]\n"
          ]
        }
      ],
      "source": [
        "print(X_train[:10])\n",
        "print(f'y_train = {y_train[:10]}')"
      ]
    },
    {
      "cell_type": "markdown",
      "metadata": {
        "id": "_JSFNoDzv7-O"
      },
      "source": [
        "# Train the classifier"
      ]
    },
    {
      "cell_type": "markdown",
      "metadata": {
        "id": "ggYW8oLWv7-P"
      },
      "source": [
        "Ci sono molti metodi per classificare un nuovo elemento. Per questa prima lezione scegliamo il Nearest Neighbors Classifier (K-NN), che classifica un elemento cercando di capire a quali altri elementi è più 'vicino'. Il metodo ha un solo paramentro, il numero K, che indica il numero di osservazioni già classificate di cui tenere conto per determinare la vicinanza del nuovo elemento. Vediamo il funzionamento analizzando l'immagine seguente: \n",
        "\n",
        "<img src=\"https://drive.google.com/uc?export=view&id=1Y5Zue93wlVPfXBDAzAWMHXPrt5ARTSdz\">\n"
      ]
    },
    {
      "cell_type": "code",
      "execution_count": null,
      "metadata": {
        "colab": {
          "base_uri": "https://localhost:8080/"
        },
        "id": "YnDv2jgov7-S",
        "outputId": "b1db7043-e24a-454f-f0cf-98eaa170fdce"
      },
      "outputs": [
        {
          "output_type": "stream",
          "name": "stdout",
          "text": [
            "dati predetti dal metodo =                [0. 0. 1. 0. 1. 0. 1. 0. 1. 1.]\n",
            "dati reali presenti nel dataset di test = [1. 0. 1. 0. 1. 0. 1. 0. 1. 0.]\n"
          ]
        }
      ],
      "source": [
        "# importiamo il metodo che vogliamo utilizzara (tra i tanti disponibili...)\n",
        "from sklearn.neighbors import KNeighborsClassifier\n",
        "\n",
        "neigh = KNeighborsClassifier(n_neighbors=11) # impostiamo l'unico parametro (il numero di vicini)\n",
        "\n",
        "# prima parte: dobbiamo fare in modo che il metodo impari dalle informazioni a disposizione\n",
        "# NB: notare che il metodo utilizza sia X_train che y_train, perché deve capire se sta predicendo correttamente\n",
        "neigh.fit(X_train, y_train) # \"alleniamo\" il metodo con i dati del training set\n",
        "\n",
        "# seconda parte: vediamo se il metodo ha imparato bene facendogli prevedere i risultati \n",
        "# NB: notare che c'è solo X perché le y devono essere previste dal metodo\n",
        "predict = neigh.predict(X_test) # proviamo a fare una previsione sui dati del test set\n",
        "\n",
        "# visualizziamo il risultato (solo i primi dieci pazienti)\n",
        "print(f'dati predetti dal metodo =                {predict[:10]}') # dati predetti dal metodo\n",
        "print(f'dati reali presenti nel dataset di test = {y_test[:10]}') # dati effettivi presenti nel test set"
      ]
    },
    {
      "cell_type": "markdown",
      "metadata": {
        "id": "ikxfvtydv7-V"
      },
      "source": [
        "Vediamo come ha funzionato il nostro metodo analizzando i primi 10 pazienti (ricordiamoci che 1 vuol dire che il paziente ha il diabete, 0 che non lo ha)<br>\n",
        "\n",
        "- veri positivi (true positive, __TP__): quattro pazienti (nn. 3, 5, 7 e 9) sono stati classificati come diabetici ed effettivamente lo erano\n",
        "- veri negativi (true negative, __TN__): tre pazienti (nn. 4, 6 e 8) sono stati classificati come __non__ diabetici ed effettivamente non lo erano\n",
        "- falsi negativi (false negative, __FN__): un pazienti (n. 1) è stato classificato come __non__ diabetico anche se lo era \n",
        "- falsi positivi (false positive, __FP__): due pazienti (nn. 2 e 10) sono stati classificati come diabetici anche se __non__ lo erano \n",
        "\n",
        "Ma esiste un modo più scientifico per capire se il nostro metodo predice correttamente? Vediamo di valutare il nostro metodo con la confusion matrix e gli indicatori ad essa collegati."
      ]
    },
    {
      "cell_type": "markdown",
      "metadata": {
        "id": "d15pt7z9v7-W"
      },
      "source": [
        "# Evaluate the results"
      ]
    },
    {
      "cell_type": "markdown",
      "metadata": {
        "id": "8BCROR1Nv7-X"
      },
      "source": [
        "Per valutare il nostro metodo, visualizziamo prima la cosiddetta \"confusion matrix\""
      ]
    },
    {
      "cell_type": "code",
      "execution_count": null,
      "metadata": {
        "colab": {
          "base_uri": "https://localhost:8080/"
        },
        "id": "1aE4jy9av7-X",
        "outputId": "f2d85007-cef1-47a9-c25b-62b82c3f5700"
      },
      "outputs": [
        {
          "output_type": "stream",
          "name": "stdout",
          "text": [
            "Looking in indexes: https://pypi.org/simple, https://us-python.pkg.dev/colab-wheels/public/simple/\n",
            "Requirement already satisfied: mlxtend in /usr/local/lib/python3.8/dist-packages (0.14.0)\n",
            "Requirement already satisfied: scikit-learn>=0.18 in /usr/local/lib/python3.8/dist-packages (from mlxtend) (1.0.2)\n",
            "Requirement already satisfied: setuptools in /usr/local/lib/python3.8/dist-packages (from mlxtend) (57.4.0)\n",
            "Requirement already satisfied: pandas>=0.17.1 in /usr/local/lib/python3.8/dist-packages (from mlxtend) (1.3.5)\n",
            "Requirement already satisfied: scipy>=0.17 in /usr/local/lib/python3.8/dist-packages (from mlxtend) (1.7.3)\n",
            "Requirement already satisfied: numpy>=1.10.4 in /usr/local/lib/python3.8/dist-packages (from mlxtend) (1.22.4)\n",
            "Requirement already satisfied: matplotlib>=1.5.1 in /usr/local/lib/python3.8/dist-packages (from mlxtend) (3.5.3)\n",
            "Requirement already satisfied: cycler>=0.10 in /usr/local/lib/python3.8/dist-packages (from matplotlib>=1.5.1->mlxtend) (0.11.0)\n",
            "Requirement already satisfied: pillow>=6.2.0 in /usr/local/lib/python3.8/dist-packages (from matplotlib>=1.5.1->mlxtend) (7.1.2)\n",
            "Requirement already satisfied: packaging>=20.0 in /usr/local/lib/python3.8/dist-packages (from matplotlib>=1.5.1->mlxtend) (23.0)\n",
            "Requirement already satisfied: kiwisolver>=1.0.1 in /usr/local/lib/python3.8/dist-packages (from matplotlib>=1.5.1->mlxtend) (1.4.4)\n",
            "Requirement already satisfied: python-dateutil>=2.7 in /usr/local/lib/python3.8/dist-packages (from matplotlib>=1.5.1->mlxtend) (2.8.2)\n",
            "Requirement already satisfied: fonttools>=4.22.0 in /usr/local/lib/python3.8/dist-packages (from matplotlib>=1.5.1->mlxtend) (4.38.0)\n",
            "Requirement already satisfied: pyparsing>=2.2.1 in /usr/local/lib/python3.8/dist-packages (from matplotlib>=1.5.1->mlxtend) (3.0.9)\n",
            "Requirement already satisfied: pytz>=2017.3 in /usr/local/lib/python3.8/dist-packages (from pandas>=0.17.1->mlxtend) (2022.7.1)\n",
            "Requirement already satisfied: threadpoolctl>=2.0.0 in /usr/local/lib/python3.8/dist-packages (from scikit-learn>=0.18->mlxtend) (3.1.0)\n",
            "Requirement already satisfied: joblib>=0.11 in /usr/local/lib/python3.8/dist-packages (from scikit-learn>=0.18->mlxtend) (1.2.0)\n",
            "Requirement already satisfied: six>=1.5 in /usr/local/lib/python3.8/dist-packages (from python-dateutil>=2.7->matplotlib>=1.5.1->mlxtend) (1.15.0)\n"
          ]
        }
      ],
      "source": [
        "#to be run only once, code for the installation of a new library\n",
        "!pip install mlxtend"
      ]
    },
    {
      "cell_type": "code",
      "execution_count": null,
      "metadata": {
        "colab": {
          "base_uri": "https://localhost:8080/",
          "height": 279
        },
        "id": "CC7fTUM7v7-Y",
        "outputId": "8c3aa6c3-efc6-45c5-e86d-debc82c493a0"
      },
      "outputs": [
        {
          "output_type": "display_data",
          "data": {
            "text/plain": [
              "<Figure size 432x288 with 1 Axes>"
            ],
            "image/png": "[encoded data removed]"
          },
          "metadata": {
            "needs_background": "light"
          }
        }
      ],
      "source": [
        "#plots IMPORTS\n",
        "from mlxtend.plotting import plot_confusion_matrix\n",
        "from matplotlib import pyplot as plt\n",
        "from sklearn.metrics import confusion_matrix, classification_report\n",
        "\n",
        "plot_confusion_matrix(confusion_matrix(y_test, predict), cmap=plt.cm.Dark2)\n",
        "plt.show()"
      ]
    },
    {
      "cell_type": "markdown",
      "metadata": {
        "id": "A1pGqKtTv7-Y"
      },
      "source": [
        "Vediamo di capire il suo significato, riprendendo l'esempio precedente e tenendo presente che le __predicted label__ rappresentano le previsioni del metodo (1 il paziente è diabetico, 0 non lo è) mentre le __true label__ rappresentano i dati reali presenti nel dataset (1 il paziente è diabetico, 0 non lo è):\n",
        "\n",
        "- veri positivi (true positive, __TP__): 50 pazienti sono stati classificati come diabetici (predicted label = 1) ed effettivamente lo erano (true label = 1)\n",
        "- veri negativi (true negative, __TN__): 123 pazienti sono stati classificati come __non__ diabetici (predicted label = 0) ed effettivamente __non__ lo erano (true label = 0)\n",
        "- falsi negativi (false negative, __FN__): 39 pazienti sono stati classificati come __non__ diabetici (predicted label = 0)  anche se in realtà lo erano (true label = 1)\n",
        "- falsi positivi (false positive, __FP__): 42 pazienti sono stati classificati come diabetici (predicted label = 1) anche se in realtà __non__ lo erano (true label = 0)\n",
        "\n",
        "L'immagine seguente dovrebbe aiutare a capire meglio i vari TP, TN, FN, e FP:\n",
        "\n",
        "<img src=\"https://drive.google.com/uc?export=view&id=1Y0MR_Jc85Sv58499sMwtxDPMKxnNiJtn\"><br>"
      ]
    },
    {
      "cell_type": "markdown",
      "metadata": {
        "id": "BoVBZK5ev7-Z"
      },
      "source": [
        "Una volta definito i TP, TN, FN ed FP, possiamo definire anche alcuni indicatori e utilizzarli per capire se il metodo classifica bene il fenomeno o no.\n",
        "\n",
        "__accuracy: the fraction of predictions our model got right__<br>\n",
        "\n",
        "è la percentuale di previsioni (classificazioni) corrette, sia per i casi positivi che per quelli negativi. Nel nostro caso rappresenta, in percentuale, quanti diabetici e non diabetici sono stati individuati (classificati) correttamente dal nostro metodo<br>\n",
        "Vediamo come si calcola:<br>\n",
        "\\begin{equation*}\n",
        "accuracy = \\frac{TP + TN}{TP + TN + FP + FN} = \\frac{50 + 123}{50 + 123 + 42 + 39} = 0,6873\n",
        "\\end{equation*}\n",
        "\n",
        "Questo dato vuol dire che il metodo ha trovato correttamente chi ha il diabete e chi non lo ha nel __68%__ dei casi.\n",
        "\n",
        "In genere è la prima metrica che viene osservata quando si valuta un classificatore. Tuttavia, quando i dati di test non sono bilanciati (quando cioè la maggior parte delle istanze appartengono a una delle classi TP, TN FP o FN) o si è più interessati alle prestazioni in una delle classi (ad esempio TP), l'accuratezza non riesce a dare un'idea dell'efficacia di un classificatore. Pensate per esempio al caso in cui si tratti di trovare i contagiati da Coronavirus in un insieme di persone. Supponiamo di avere un dataset con 1000 osservazioni. Sappiamo che in questo dataset ci sono 3 contagiati e 997 sani. Supponiamo di eseguire il nostro metodo e ottenere i seguenti risultati:\n",
        "\n",
        "TP (il metodo dice che la persona è stata contagiata ed effettivamente lo è stata): 0\n",
        "\n",
        "TN (il metodo dice che la persona non è stata contagiata ed effettivamente non lo è stata): 990\n",
        "\n",
        "FN (il metodo dice che la persona non è stata contagiata ma in realtà lo è stata): 6\n",
        "\n",
        "FP (il metodo dice che la persona è stata contagiata ma in realtà non lo è stata): 4\n",
        "\n",
        "Se calcoliamo l'accuratezza otteniamo:\n",
        "\n",
        "\\begin{equation*}\n",
        "accuracy = \\frac{TP + TN}{TP + TN + FP + FN} = \\frac{0 + 990}{0 + 990 + 4 + 6} = 0,99\n",
        "\\end{equation*}\n",
        "\n",
        "Verrebbe da dire che è un metodo ottimo, perché ha una accuratezza del 99%. In realtà è un metodo che trova molti __non__ contagiati ma non trova neanche __un__ contagiato effettivo (TP = 0), che era invece il motivo per cui abbiamo cercato di utilizzare i metodi del Machine Learning. Per questo motivo è utile calcolare metriche aggiuntive che raccolgano aspetti più specifici della valutazione."
      ]
    },
    {
      "cell_type": "markdown",
      "metadata": {
        "id": "mwazcGtlv7-a"
      },
      "source": [
        "__precision: what proportion of positive identifications was actually correct?__<br><br>\n",
        "è la percentuale di classificazioni positive corrette, cioè i positivi effettivi (true label = 1, predicted label = 1 ossia TP) rispetto a tutti quelli che il metodo ha classificato come positivi, sia correttamente (true label = 1, predicted label = 1 ossia TP) sia non correttamente (true label = 1, predicted label = 1 ossia FP). In formula:\n",
        "\n",
        "\\begin{equation*}\n",
        "precision = \\frac{TP}{TP + FP} \n",
        "\\end{equation*}\n",
        "\n",
        "Nel nostro caso è il rapporto tra il numero dei pazienti effettivamente diabetici e che il modello ha predetto essere tali (true label = 1, predicted label = 1) rispetto tutti quelli diagnosticati dal modello come diabetici (in modo corretto e no, predicted label = 1)<br>Vediamo il calcolo:\n",
        "\n",
        "\\begin{equation*}\n",
        "precision = \\frac{TP}{TP + FP} = \\frac{50}{50 + 42} = 0,5435\n",
        "\\end{equation*}\n",
        "\n",
        "Questo vuol dire che il __54%__ di chi è stato diagnosticato (classificato) dal metodo come diabetico lo era effettivamente. La _precision_ è massima quando non ci sono falsi positivi, cioè, nel nostro caso, quando non ci sono pazienti a cui è stato diagnosticato il diabete ma che in realtà non erano diabetici.\n",
        "\n",
        "Calcoliamo ora la _precision_ per l'esempio del Coronavirus:\n",
        "\n",
        "\\begin{equation*}\n",
        "precision = \\frac{TP}{TP + FP} = \\frac{0}{0 + 4} = 0\n",
        "\\end{equation*}\n",
        "\n",
        "Questo risultato ci conferma quanto sapevamo già: questo metodo non è per niente utile nel caso dei contagi."
      ]
    },
    {
      "cell_type": "markdown",
      "metadata": {
        "id": "kEYARaR6v7-b"
      },
      "source": [
        "__recall: what proportion of actual positives was identified correctly?__\n",
        "\n",
        "è la percentuale di veri positivi identificati correttamente, cioè i veri positivi (true label = 1, predicted label = 1 cioè TP) rispetto a tutti quelli che erano effettivamente positivi nel dataset e che il metodo ha trovato (true label = 1, predicted label = 1 cioè TP) e non ha trovato (true label = 1, predicted label = 0 cioè FN). In formula:\n",
        "\n",
        "\\begin{equation*}\n",
        "recall = \\frac{TP}{TP + FN} \n",
        "\\end{equation*}\n",
        "\n",
        "\n",
        "Nel nostro caso è il rapporto tra il numero dei pazienti che il modello ha predetto essere diabetici (true label = 1, predicted label = 1) rispetto tutti quelli effettivamente diabetici (true label = 1).<br>Vediamo il calcolo:<br>\n",
        "\\begin{equation*}\n",
        "recall = \\frac{TP}{TP + FN} = \\frac{50}{50 + 39} = 0,5618\n",
        "\\end{equation*}\n",
        "\n",
        "Questo vuol dire che il __56%__ dei diabetici presenti nel dataset è stato correttamente identificato (classificato). La _recall_ è massima quando non ci sono falsi negativi, pazienti cioè a cui non è stato diagnosticato il diabete ma che invece erano diabetici.\n",
        "\n",
        "Calcoliamo ora la recall per l'esempio del Coronavirus:\n",
        "\n",
        "\\begin{equation*}\n",
        "recall = \\frac{TP}{TP + FN} = \\frac{0}{0 + 6} = 0\n",
        "\\end{equation*}\n",
        "\n",
        "Questo risultato rafforza quanto sapevamo già: questo metodo non è per niente utile nel caso dei contagi."
      ]
    },
    {
      "cell_type": "markdown",
      "metadata": {
        "id": "h1cNHliev7-c"
      },
      "source": [
        "__f1-score: un indicatore riassuntivo__\n",
        "\n",
        "A questo punto possiamo introdurre un indicatore riassuntivo di _precision_ e _recall_ che serve per dare un'indicazione di quanto il nostro metodo sia valido: l'___f1-score___\n",
        "\n",
        "\\begin{equation*}\n",
        "f1-score = 2*\\frac{precision*recall}{precision + recall}\n",
        "\\end{equation*}\n",
        "\n",
        "Questo indicatore è la media armonica di _precision_ e _recall_ e serve per tenere conto dei falsi positivi e dei falsi negativi nella valutazione di un metodo, evitando di considerare i veri negativi. Infatti l'accuratezza può essere molto influenzata da un numero elevato di veri negativi (TN) che nella maggior parte delle applicazioni reali non sono rilevanti (ad esempio non sono particoalrmente interessato a sapere se un paziente non è diabetico), mentre i falsi negativi e i falsi positivi di solito sono importanti (pensate al caso di un diabetico che non viene curato (FN) o al caso di sottoporre a cure costose un paziente che non è diabetico (FP)).\n",
        "\n",
        "_f1-score_ è quindi un misura migliore da usare (rispetto l'_accuracy_) se dobbiamo cercare un equilibrio tra _precision_ e _recall_ nel caso in cui ci sia un numero di TP, TN, FP o FN irregolare.\n",
        "\n",
        "Notare che _f1-score_ è massimo quando _precision_ e _recall_ sono uguali a 1 (cioè quando i falsi negativi e i falsi positivi sono uguali a 0), come si può vedere dal grafico seguente ( _p_ = _precision_ , _r_ = _recall_ ): \n",
        "\n",
        "\n",
        "<img src=\"https://drive.google.com/uc?export=view&id=1so-vxRtAsnOUbda1XSaCYlOlqoSMhTT0\" width=\"500\" align=\"center\"><br>\n",
        "\n",
        "\n",
        "\n",
        "Proviamo ora a calcolare l'_f1-score_ per il nostro caso:\n",
        "\n",
        "\\begin{equation*}\n",
        "f1-score = 2*\\frac{precision*recall}{precision + recall} = 2*\\frac{0,5435*0,5618}{0,5435 + 0,5618} = 0,5525\n",
        "\\end{equation*}\n",
        "\n",
        "Il nostro metodo non si comporta quindi particolarmente bene, visto che l'_f1-score_ massimo è 1. "
      ]
    },
    {
      "cell_type": "markdown",
      "metadata": {
        "id": "jQCdCm_kv7-d"
      },
      "source": [
        "Adesso che abbiamo capito i vari indicatori, stampiamo il report dei vari indicatori:"
      ]
    },
    {
      "cell_type": "code",
      "execution_count": null,
      "metadata": {
        "colab": {
          "base_uri": "https://localhost:8080/"
        },
        "id": "R-UfHRlAv7-d",
        "outputId": "283ac08a-5b73-4c1c-d5d9-7ac2c72a4a27"
      },
      "outputs": [
        {
          "output_type": "stream",
          "name": "stdout",
          "text": [
            "              precision    recall  f1-score   support\n",
            "\n",
            "         0.0       0.76      0.86      0.80       165\n",
            "         1.0       0.65      0.48      0.55        89\n",
            "\n",
            "    accuracy                           0.73       254\n",
            "   macro avg       0.70      0.67      0.68       254\n",
            "weighted avg       0.72      0.73      0.72       254\n",
            "\n"
          ]
        }
      ],
      "source": [
        "print(classification_report(y_test, predict))"
      ]
    },
    {
      "cell_type": "markdown",
      "metadata": {
        "id": "gy5EltDbv7-f"
      },
      "source": [
        "Come possiamo vedere, abbiamo ritrovato i valori precedentemente calcolati per l'_accuracy_ , la _precision_ e la _recall_ (per i pazienti diabetici, target = 1.0). Notare che gli stessi indicatori (tranne l'_accuracy_ che è complessiva) si possono calcolare anche per l'altro caso, cioè per i __non__ diabetici: dalla comparazione dei risultati vediamo che il metodo funziona meglio se dobbiamo trovare chi __non__ è diabetico."
      ]
    },
    {
      "cell_type": "markdown",
      "metadata": {
        "id": "UAh5mL22v7-g"
      },
      "source": [
        "# Utilizzare il metodo"
      ]
    },
    {
      "cell_type": "markdown",
      "metadata": {
        "id": "Om3RL4qbv7-g"
      },
      "source": [
        "Al di là dei risultati che ci hanno dato i nostri indicatori, supponiamo che il nostro metodo sia un ottimo metodo per valutare (classificare) se una persona è diabetica o no: come fa un medico  ad applicarlo ai dati di un paziente che gli arriva nello studio? Supponiamo per esempio che Maria abbia la seguente situazione"
      ]
    },
    {
      "cell_type": "code",
      "execution_count": null,
      "metadata": {
        "id": "UlHZgNEzv7-i"
      },
      "outputs": [],
      "source": [
        "!pip install tabulate"
      ]
    },
    {
      "cell_type": "code",
      "execution_count": null,
      "metadata": {
        "colab": {
          "base_uri": "https://localhost:8080/"
        },
        "id": "NyxP9CrSv7-j",
        "outputId": "a20e9096-30eb-4312-ae9a-bd3da96df568"
      },
      "outputs": [
        {
          "output_type": "stream",
          "name": "stdout",
          "text": [
            "  timespreg    gluctol    diaspb    triceps    insulin    massindex    pedigree    age\n",
            "-----------  ---------  --------  ---------  ---------  -----------  ----------  -----\n",
            "         10         68       106         23         49         35.5       0.285     47\n"
          ]
        }
      ],
      "source": [
        "from tabulate import tabulate\n",
        "\n",
        "info = ['timespreg', 'gluctol', 'diaspb', 'triceps', 'insulin', 'massindex', 'pedigree', 'age'] # nome delle misurazioni\n",
        "Maria= [10., 68., 106., 23., 49., 35.5, 0.285, 47.] # valore delle misurazioni\n",
        "print(tabulate([Maria], headers=info))"
      ]
    },
    {
      "cell_type": "markdown",
      "metadata": {
        "id": "HZSlpXl_v7-k"
      },
      "source": [
        "Proviamo a far girare il nostro metodo con questi dati e vediamo che cosa ci dice:"
      ]
    },
    {
      "cell_type": "code",
      "execution_count": null,
      "metadata": {
        "colab": {
          "base_uri": "https://localhost:8080/"
        },
        "id": "P1L5r8c2v7-l",
        "outputId": "13e7017a-5318-409c-96c5-43a901ab4753"
      },
      "outputs": [
        {
          "output_type": "execute_result",
          "data": {
            "text/plain": [
              "array([0.])"
            ]
          },
          "metadata": {},
          "execution_count": 24
        }
      ],
      "source": [
        "# previsione per Maria\n",
        "Maria = [[10., 68., 106., 23., 49., 35.5, 0.285, 47.]]\n",
        "predictMaria = neigh.predict(Maria)\n",
        "predictMaria"
      ]
    },
    {
      "cell_type": "markdown",
      "metadata": {
        "id": "KZhHqf-pv7-m"
      },
      "source": [
        "La risposta è 0, cioà il metodo dice che Maria non ha il diabete (cioè, visto che stiamo usando il metodo K-NN, Maria è più 'vicina' a pazienti che non hanno il diabete). Vediamo ora che cosa sarebbe successo se Maria avesse un indice relativo all'insulina di 159 invece che 49:"
      ]
    },
    {
      "cell_type": "code",
      "execution_count": null,
      "metadata": {
        "colab": {
          "base_uri": "https://localhost:8080/"
        },
        "id": "vxJJs305v7-m",
        "outputId": "f86db789-3e0d-4f23-b61c-21fe7375fe4e"
      },
      "outputs": [
        {
          "output_type": "execute_result",
          "data": {
            "text/plain": [
              "array([0.])"
            ]
          },
          "metadata": {},
          "execution_count": 25
        }
      ],
      "source": [
        "# nuova previsione per Maria\n",
        "Maria = [[10., 68., 106., 23., 159., 35.5, 0.285, 47.]]\n",
        "predictMaria = neigh.predict(Maria)\n",
        "predictMaria"
      ]
    },
    {
      "cell_type": "markdown",
      "metadata": {
        "id": "DWfDeKqxv7-n"
      },
      "source": [
        "La risposta è 1, cioè il metodo dice che Maria, con questi nuovi valori, ha il diabete (cioè è più 'vicina' a pazienti che hanno il diabete)."
      ]
    }
  ],
  "metadata": {
    "kernelspec": {
      "display_name": "Python 3",
      "language": "python",
      "name": "python3"
    },
    "language_info": {
      "codemirror_mode": {
        "name": "ipython",
        "version": 3
      },
      "file_extension": ".py",
      "mimetype": "text/x-python",
      "name": "python",
      "nbconvert_exporter": "python",
      "pygments_lexer": "ipython3",
      "version": "3.7.6"
    },
    "toc": {
      "base_numbering": 1,
      "nav_menu": {},
      "number_sections": true,
      "sideBar": true,
      "skip_h1_title": false,
      "title_cell": "Table of Contents",
      "title_sidebar": "Contents",
      "toc_cell": false,
      "toc_position": {},
      "toc_section_display": true,
      "toc_window_display": false
    },
    "colab": {
      "provenance": []
    }
  },
  "nbformat": 4,
  "nbformat_minor": 0
}