{
  "nbformat": 4,
  "nbformat_minor": 0,
  "metadata": {
    "colab": {
      "name": "esercizio2.ipynb",
      "provenance": []
    },
    "kernelspec": {
      "name": "python3",
      "display_name": "Python 3"
    },
    "language_info": {
      "name": "python"
    }
  },
  "cells": [
    {
      "cell_type": "markdown",
      "metadata": {
        "id": "qfdkH15BCvJt"
      },
      "source": [
        "1. Scrivere un programma che crei una lista contenente i nomi dei capoluoghi delle regioni italiane e\n",
        "che visualizzi la lista. Chiamare la lista capoluoghiRegione"
      ]
    },
    {
      "cell_type": "code",
      "metadata": {
        "colab": {
          "base_uri": "https://localhost:8080/"
        },
        "id": "bHR3yNdwCwOk",
        "outputId": "1ff31e08-dd5a-4c05-dbd8-6cc70db619fb"
      },
      "source": [
        "capoluoghiRegione = ['Laquila', 'Potenza', 'Catanzaro', 'Napoli', 'Bologna', 'Trieste', 'Roma', 'Genova', 'Milano', 'Ancona', 'Campobasso', 'Torino', 'Bari', 'Cagliari', 'Palermo', 'Firenze', 'Trento', 'Perugia', 'Aosta', 'Venezia']\n",
        "print(capoluoghiRegione)"
      ],
      "execution_count": null,
      "outputs": [
        {
          "output_type": "stream",
          "name": "stdout",
          "text": [
            "['Laquila', 'Potenza', 'Catanzaro', 'Napoli', 'Bologna', 'Trieste', 'Roma', 'Genova', 'Milano', 'Ancona', 'Campobasso', 'Torino', 'Bari', 'Cagliari', 'Palermo', 'Firenze', 'Trento', 'Perugia', 'Aosta', 'Venezia']\n"
          ]
        }
      ]
    },
    {
      "cell_type": "markdown",
      "metadata": {
        "id": "Vc40yHtEHJVn"
      },
      "source": [
        "2. Scrivere un programma che visualizzi i primi 6 capoluoghi di regione presenti in\n",
        "capoluoghiRegione"
      ]
    },
    {
      "cell_type": "code",
      "metadata": {
        "colab": {
          "base_uri": "https://localhost:8080/"
        },
        "id": "uXU0t1_mHNae",
        "outputId": "b5d702f2-6d2d-498c-8596-f9d540214dc0"
      },
      "source": [
        "print(capoluoghiRegione[0:6])"
      ],
      "execution_count": null,
      "outputs": [
        {
          "output_type": "stream",
          "name": "stdout",
          "text": [
            "['Laquila', 'Potenza', 'Catanzaro', 'Napoli', 'Bologna', 'Trieste']\n"
          ]
        }
      ]
    },
    {
      "cell_type": "markdown",
      "metadata": {
        "id": "vpuxi2-CHhxf"
      },
      "source": [
        "3. Scrivere un programma che visualizzi gli ultimi 6 capoluoghi di regione presenti in\n",
        "capoluoghiRegione"
      ]
    },
    {
      "cell_type": "code",
      "metadata": {
        "colab": {
          "base_uri": "https://localhost:8080/"
        },
        "id": "TPbBfkP1Hlih",
        "outputId": "d0737bf9-cc7b-4b76-a440-422347148c12"
      },
      "source": [
        "print(capoluoghiRegione[14:])"
      ],
      "execution_count": null,
      "outputs": [
        {
          "output_type": "stream",
          "name": "stdout",
          "text": [
            "['Palermo', 'Firenze', 'Trento', 'Perugia', 'Aosta', 'Venezia']\n"
          ]
        }
      ]
    },
    {
      "cell_type": "markdown",
      "metadata": {
        "id": "-koZbe65H8Nd"
      },
      "source": [
        "4. Scrivere un programma che visualizzi i 6 capoluoghi di regione presenti nella parte centrale di\n",
        "capoluoghiRegione"
      ]
    },
    {
      "cell_type": "code",
      "metadata": {
        "colab": {
          "base_uri": "https://localhost:8080/"
        },
        "id": "d9TA-BviH_KN",
        "outputId": "5f26bdd3-e725-4940-81e3-98af86d73ee2"
      },
      "source": [
        "print(capoluoghiRegione[7:13])"
      ],
      "execution_count": null,
      "outputs": [
        {
          "output_type": "stream",
          "name": "stdout",
          "text": [
            "['Genova', 'Milano', 'Ancona', 'Campobasso', 'Torino', 'Bari']\n"
          ]
        }
      ]
    },
    {
      "cell_type": "markdown",
      "metadata": {
        "id": "gTgRYK-VIVei"
      },
      "source": [
        "5. Scrivere un programma che visualizzi i capoluoghi di regione presenti in capoluoghiRegione\n",
        "nelle posizioni pari."
      ]
    },
    {
      "cell_type": "code",
      "metadata": {
        "colab": {
          "base_uri": "https://localhost:8080/"
        },
        "id": "YxWB0yYrIala",
        "outputId": "7b6d45e2-c672-455a-f43b-a3341166aec0"
      },
      "source": [
        "capoluoghiRegione[1:20:2]"
      ],
      "execution_count": null,
      "outputs": [
        {
          "output_type": "execute_result",
          "data": {
            "text/plain": [
              "['Potenza',\n",
              " 'Napoli',\n",
              " 'Trieste',\n",
              " 'Genova',\n",
              " 'Ancona',\n",
              " 'Torino',\n",
              " 'Cagliari',\n",
              " 'Firenze',\n",
              " 'Perugia',\n",
              " 'Venezia']"
            ]
          },
          "metadata": {},
          "execution_count": 7
        }
      ]
    },
    {
      "cell_type": "markdown",
      "metadata": {
        "id": "dTDX5Z6eJyqR"
      },
      "source": [
        "6. Scrivere un programma che visualizzi i capoluoghi di regione presenti in capoluoghiRegione\n",
        "nelle posizioni dispari."
      ]
    },
    {
      "cell_type": "code",
      "metadata": {
        "colab": {
          "base_uri": "https://localhost:8080/"
        },
        "id": "-H0GKNLgJ1_f",
        "outputId": "abc1c579-f54e-4428-ceb8-390c66adb594"
      },
      "source": [
        "capoluoghiRegione[:20:2]"
      ],
      "execution_count": null,
      "outputs": [
        {
          "output_type": "execute_result",
          "data": {
            "text/plain": [
              "['Laquila',\n",
              " 'Catanzaro',\n",
              " 'Bologna',\n",
              " 'Roma',\n",
              " 'Milano',\n",
              " 'Campobasso',\n",
              " 'Bari',\n",
              " 'Palermo',\n",
              " 'Trento',\n",
              " 'Aosta']"
            ]
          },
          "metadata": {},
          "execution_count": 8
        }
      ]
    },
    {
      "cell_type": "markdown",
      "metadata": {
        "id": "jtBGCwkuJ6qF"
      },
      "source": [
        "7. Scrivere un programma che visualizzi il primo capoluogo di regione in ordine alfabetico"
      ]
    },
    {
      "cell_type": "code",
      "metadata": {
        "colab": {
          "base_uri": "https://localhost:8080/"
        },
        "id": "vfWaTADOJ9VZ",
        "outputId": "9ad49cbd-0d6e-430a-a05e-456907205f7c"
      },
      "source": [
        "capoluoghiRegione.sort()\n",
        "print(capoluoghiRegione[0])"
      ],
      "execution_count": null,
      "outputs": [
        {
          "output_type": "stream",
          "name": "stdout",
          "text": [
            "Ancona\n"
          ]
        }
      ]
    },
    {
      "cell_type": "markdown",
      "metadata": {
        "id": "2JYKVcevKapZ"
      },
      "source": [
        "8. Scrivere un programma che permetta ad un utente di inserire il nome di una città è risponda True\n",
        "se quella città è un capoluogo di regione, False altrimenti."
      ]
    },
    {
      "cell_type": "code",
      "metadata": {
        "colab": {
          "base_uri": "https://localhost:8080/"
        },
        "id": "XyAgzksCKdqO",
        "outputId": "c0da2697-4d05-47f6-da20-5987ddec2c16"
      },
      "source": [
        "a = (input(\"Inserire il nome di una città: \"))\n",
        "a in capoluoghiRegione"
      ],
      "execution_count": null,
      "outputs": [
        {
          "name": "stdout",
          "output_type": "stream",
          "text": [
            "Inserire il nome di una città: Milano\n"
          ]
        },
        {
          "output_type": "execute_result",
          "data": {
            "text/plain": [
              "True"
            ]
          },
          "metadata": {},
          "execution_count": 10
        }
      ]
    },
    {
      "cell_type": "markdown",
      "metadata": {
        "id": "UCz97-ggLj0s"
      },
      "source": [
        "9. Scrivere un programma che visualizzi i capoluoghi in ordine alfabetico"
      ]
    },
    {
      "cell_type": "code",
      "metadata": {
        "colab": {
          "base_uri": "https://localhost:8080/"
        },
        "id": "2bW5CVUlLnA8",
        "outputId": "5c31347c-7ff8-4228-b73f-f1039998f0de"
      },
      "source": [
        "capoluoghiRegione.sort()\n",
        "print(capoluoghiRegione)"
      ],
      "execution_count": null,
      "outputs": [
        {
          "output_type": "stream",
          "name": "stdout",
          "text": [
            "['Ancona', 'Aosta', 'Bari', 'Bologna', 'Cagliari', 'Campobasso', 'Catanzaro', 'Firenze', 'Genova', 'Laquila', 'Milano', 'Napoli', 'Palermo', 'Perugia', 'Potenza', 'Roma', 'Torino', 'Trento', 'Trieste', 'Venezia']\n"
          ]
        }
      ]
    },
    {
      "cell_type": "markdown",
      "metadata": {
        "id": "MqZqX0rML0Vv"
      },
      "source": [
        "10. Scrivere un programma che visualizzi i capoluoghi in ordine alfabetico inverso (dalla Z alla A)"
      ]
    },
    {
      "cell_type": "code",
      "metadata": {
        "colab": {
          "base_uri": "https://localhost:8080/"
        },
        "id": "3-Z0UhIVL4Bc",
        "outputId": "197acbf8-eee1-4f54-c20c-df315998f0a1"
      },
      "source": [
        "capoluoghiRegione.sort(reverse=True)\n",
        "print(capoluoghiRegione)"
      ],
      "execution_count": null,
      "outputs": [
        {
          "output_type": "stream",
          "name": "stdout",
          "text": [
            "['Venezia', 'Trieste', 'Trento', 'Torino', 'Roma', 'Potenza', 'Perugia', 'Palermo', 'Napoli', 'Milano', 'Laquila', 'Genova', 'Firenze', 'Catanzaro', 'Campobasso', 'Cagliari', 'Bologna', 'Bari', 'Aosta', 'Ancona']\n"
          ]
        }
      ]
    },
    {
      "cell_type": "markdown",
      "metadata": {
        "id": "ayxdDLAgMYEt"
      },
      "source": [
        "11. Scrivere un programma che visualizzi i capoluoghi in ordine sulla base della lunghezza del nome (da\n",
        "quello più corto a quello più lungo)"
      ]
    },
    {
      "cell_type": "code",
      "metadata": {
        "colab": {
          "base_uri": "https://localhost:8080/"
        },
        "id": "XsU73Ut0Mbvy",
        "outputId": "0945f3b7-2488-4306-f29a-f43f8815aa5b"
      },
      "source": [
        "capoluoghiRegione.sort(key=len)\n",
        "print(capoluoghiRegione)"
      ],
      "execution_count": null,
      "outputs": [
        {
          "output_type": "stream",
          "name": "stdout",
          "text": [
            "['Roma', 'Bari', 'Aosta', 'Trento', 'Torino', 'Napoli', 'Milano', 'Genova', 'Ancona', 'Venezia', 'Trieste', 'Potenza', 'Perugia', 'Palermo', 'Laquila', 'Firenze', 'Bologna', 'Cagliari', 'Catanzaro', 'Campobasso']\n"
          ]
        }
      ]
    },
    {
      "cell_type": "markdown",
      "metadata": {
        "id": "HABD3rdHM1n0"
      },
      "source": [
        "12. Scrivere un programma che copi la lista capoluoghiRegione nella lista\n",
        "capoluoghiRegione2 e che elimini dalla prima lista il primo e l’ultimo elemento. Al termine,\n",
        "visualizzare le due liste una sotto l’altra per verificare che effettivamente siano stati eliminati gli\n",
        "elementi della lista originale."
      ]
    },
    {
      "cell_type": "code",
      "metadata": {
        "id": "GJFlK_o7M4fn",
        "colab": {
          "base_uri": "https://localhost:8080/"
        },
        "outputId": "1db1b4b4-0b3e-4fe0-bc03-a9286e82bfc0"
      },
      "source": [
        "capoluoghiRegione2 = capoluoghiRegione\n",
        "print(capoluoghiRegione)\n",
        "capoluoghiRegione2.pop()\n",
        "capoluoghiRegione2.pop(0)\n",
        "print(capoluoghiRegione2)"
      ],
      "execution_count": null,
      "outputs": [
        {
          "output_type": "stream",
          "name": "stdout",
          "text": [
            "['Bari', 'Aosta', 'Trento', 'Torino', 'Napoli', 'Milano', 'Genova', 'Ancona', 'Venezia', 'Trieste', 'Potenza', 'Perugia', 'Palermo', 'Laquila', 'Firenze', 'Bologna', 'Cagliari', 'Catanzaro']\n",
            "['Aosta', 'Trento', 'Torino', 'Napoli', 'Milano', 'Genova', 'Ancona', 'Venezia', 'Trieste', 'Potenza', 'Perugia', 'Palermo', 'Laquila', 'Firenze', 'Bologna', 'Cagliari']\n"
          ]
        }
      ]
    },
    {
      "cell_type": "markdown",
      "metadata": {
        "id": "E3NH0ovBN1xw"
      },
      "source": [
        "13. Scrivere un programma che, con una sola istruzione, carichi una lista con i primi 100 numeri interi.\n",
        "Chiamare la lista numeriInteri. Al termine, visualizzare la lista."
      ]
    },
    {
      "cell_type": "code",
      "metadata": {
        "id": "opF3VtrfN3aj",
        "colab": {
          "base_uri": "https://localhost:8080/"
        },
        "outputId": "0672fb2a-b9f0-456b-8f37-83c9a7b2b2c7"
      },
      "source": [
        "numeriInteri = [i for i in range(0,100)]\n",
        "print(numeriInteri)"
      ],
      "execution_count": null,
      "outputs": [
        {
          "output_type": "stream",
          "name": "stdout",
          "text": [
            "[0, 1, 2, 3, 4, 5, 6, 7, 8, 9, 10, 11, 12, 13, 14, 15, 16, 17, 18, 19, 20, 21, 22, 23, 24, 25, 26, 27, 28, 29, 30, 31, 32, 33, 34, 35, 36, 37, 38, 39, 40, 41, 42, 43, 44, 45, 46, 47, 48, 49, 50, 51, 52, 53, 54, 55, 56, 57, 58, 59, 60, 61, 62, 63, 64, 65, 66, 67, 68, 69, 70, 71, 72, 73, 74, 75, 76, 77, 78, 79, 80, 81, 82, 83, 84, 85, 86, 87, 88, 89, 90, 91, 92, 93, 94, 95, 96, 97, 98, 99]\n"
          ]
        }
      ]
    },
    {
      "cell_type": "markdown",
      "metadata": {
        "id": "vGjg88E6N344"
      },
      "source": [
        "14. Scrivere un programma che permetta all’utente di inserire in una lista 10 numeri interi, elimini i\n",
        "duplicati e visualizzi la lista senza duplicati. Chiamare la lista numeriInteri."
      ]
    },
    {
      "cell_type": "code",
      "metadata": {
        "id": "XA8M8dpeN60E"
      },
      "source": [
        ""
      ],
      "execution_count": null,
      "outputs": []
    }
  ]
}