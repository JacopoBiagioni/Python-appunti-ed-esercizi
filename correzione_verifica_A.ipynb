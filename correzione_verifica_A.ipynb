{
  "nbformat": 4,
  "nbformat_minor": 0,
  "metadata": {
    "colab": {
      "name": "correzione verifica A.ipynb",
      "provenance": [],
      "collapsed_sections": []
    },
    "kernelspec": {
      "name": "python3",
      "display_name": "Python 3"
    },
    "language_info": {
      "name": "python"
    }
  },
  "cells": [
    {
      "cell_type": "markdown",
      "metadata": {
        "id": "6nJjD2G0zuzp"
      },
      "source": [
        "1. scrivere un programma che calcoli la somma di due frazioni. L’utente deve inserire il numeratore e il denominatore della prima frazione e poi numeratore e denominatore della seconda frazione e il programma calcola la somma."
      ]
    },
    {
      "cell_type": "code",
      "metadata": {
        "colab": {
          "base_uri": "https://localhost:8080/"
        },
        "id": "q-sXSd4zzmiv",
        "outputId": "f7fa2916-2a70-4005-b1c0-5faa66f0fc80"
      },
      "source": [
        "n1 = int(input(\"Inserire primo numeratore: \"))\n",
        "d1 = int(input(\"Inserire primo denominatore: \"))\n",
        "n2 = int(input(\"Inserire secondo numeratore: \"))\n",
        "d2 = int(input(\"Inserire secondo denominatore: \"))\n",
        "\n",
        "print(str(n1*d2 + n2*d1)+'/'+str(d1*d2))"
      ],
      "execution_count": null,
      "outputs": [
        {
          "output_type": "stream",
          "name": "stdout",
          "text": [
            "Inserire primo numeratore: 1\n",
            "Inserire primo denominatore: 2\n",
            "Inserire secondo numeratore: 1\n",
            "Inserire secondo denominatore: 3\n",
            "5/6\n"
          ]
        }
      ]
    },
    {
      "cell_type": "markdown",
      "metadata": {
        "id": "trP1-Ekt2MeY"
      },
      "source": [
        "2. scrivere un programma che permetta di verificare se un orario è scritto correttamente. Un orario è scritto correttamente se è formato da 5 caratteri di cui il terzo è il carattere : . Ad esempio 13:45 è scritto correttamente 123:4 non è scritto correttamente."
      ]
    },
    {
      "cell_type": "code",
      "metadata": {
        "id": "W10_N4HH2PvY",
        "outputId": "0c23bc75-57dd-4785-e399-60f92e8a5b9c",
        "colab": {
          "base_uri": "https://localhost:8080/"
        }
      },
      "source": [
        "orario = input(\"Inserire orario: \")\n",
        "if len(orario) == 5:\n",
        "  if orario[2] == ':':\n",
        "    print(\"Orario corretto\")\n",
        "else: \n",
        "  print(\"Problemi\")\n",
        "\n"
      ],
      "execution_count": null,
      "outputs": [
        {
          "output_type": "stream",
          "name": "stdout",
          "text": [
            "Inserire orario: 1345\n",
            "Problemi\n"
          ]
        }
      ]
    },
    {
      "cell_type": "markdown",
      "metadata": {
        "id": "j4Lqldjg6BJ8"
      },
      "source": [
        "3. scrivere un programma che visualizzi le prime dieci potenze di un numero inserito dall’utente. Ad esempio se l’utente inserisse 2 il programma dovrebbe visualizzare i valori 1, 2, 4, 8, 16, 32, 64, 128, 256 e 512. Separare i valori con il trattino -"
      ]
    },
    {
      "cell_type": "code",
      "metadata": {
        "colab": {
          "base_uri": "https://localhost:8080/"
        },
        "id": "AMqukmfU6EiN",
        "outputId": "eed765f6-c777-473f-bc17-e204163b7fd0"
      },
      "source": [
        "numero = int(input(\"Inserire numero: \"))\n",
        "for i in range(0,10):\n",
        "  print(numero**i)"
      ],
      "execution_count": null,
      "outputs": [
        {
          "output_type": "stream",
          "name": "stdout",
          "text": [
            "Inserire numero: 2\n",
            "1\n",
            "2\n",
            "4\n",
            "8\n",
            "16\n",
            "32\n",
            "64\n",
            "128\n",
            "256\n",
            "512\n"
          ]
        }
      ]
    },
    {
      "cell_type": "markdown",
      "metadata": {
        "id": "SxkaU81H7Oar"
      },
      "source": [
        "4. scrivere un programma che carichi in una lista le prime venti potenze di un numero inserito dall’utente. Al termine visualizzare gli ultimi tre elementi della lista."
      ]
    },
    {
      "cell_type": "code",
      "metadata": {
        "colab": {
          "base_uri": "https://localhost:8080/"
        },
        "id": "vwt6YQQt7RzT",
        "outputId": "ec9165a4-6e83-43a6-9643-29f24934837d"
      },
      "source": [
        "potenze = []\n",
        "\n",
        "numero = int(input(\"Inserire numero: \"))\n",
        "for i in range(0,20):\n",
        "  potenze.append(numero**i)\n",
        "print(potenze[-3:])"
      ],
      "execution_count": null,
      "outputs": [
        {
          "output_type": "stream",
          "name": "stdout",
          "text": [
            "Inserire numero: 2\n",
            "[131072, 262144, 524288]\n"
          ]
        }
      ]
    },
    {
      "cell_type": "code",
      "metadata": {
        "colab": {
          "base_uri": "https://localhost:8080/"
        },
        "id": "oHl81rAP8fN0",
        "outputId": "43cae97c-b7a4-4770-ff28-b2c7600f7f62"
      },
      "source": [
        "numero = int(input(\"Inserire numero: \"))\n",
        "potenza = [numero**i for i in range(0,20)]\n",
        "print(potenza[-3:])"
      ],
      "execution_count": null,
      "outputs": [
        {
          "output_type": "stream",
          "name": "stdout",
          "text": [
            "Inserire numero: 2\n",
            "[131072, 262144, 524288]\n"
          ]
        }
      ]
    },
    {
      "cell_type": "markdown",
      "metadata": {
        "id": "ygGh-GNb__TU"
      },
      "source": [
        "5. scrivere un programma che elimini dalla lista precedente tutti i numeri compresi tra due estremi inseriti dall’utente. Visualizzare al termine la lista modificata"
      ]
    },
    {
      "cell_type": "code",
      "metadata": {
        "id": "fppjdc51ADqE"
      },
      "source": [
        "e1 = int(input(\"Inserire primo estremo:\"))\n",
        "e2 = int(input(\"Inserire secondo estremo:\"))\n",
        "print(potenze)\n",
        "\n",
        "for i in range(0,10):\n",
        "  if e1< potenze[i] <e2:\n",
        "    potenze.remove(potenze[i])\n",
        "print(potenze)"
      ],
      "execution_count": null,
      "outputs": []
    },
    {
      "cell_type": "markdown",
      "metadata": {
        "id": "HaRbgN3tEdIM"
      },
      "source": [
        "6. scrivere una funzione chiamata prodotto che data una lista di numeri interi restituisca il prodotto di tutti i suoi elementi. Ad esempio se la lista fosse [2, 5, 3] la funzione restituirebbe 30\n"
      ]
    },
    {
      "cell_type": "code",
      "metadata": {
        "colab": {
          "base_uri": "https://localhost:8080/"
        },
        "id": "xaS4BwSUEg_s",
        "outputId": "c3f8be22-8db3-42db-98d4-04f2a2703b9c"
      },
      "source": [
        "def prodotto(l):\n",
        "  totale = 1\n",
        "  for e in l: \n",
        "    totale = totale*e\n",
        "  return totale\n",
        "\n",
        "lista = [int(elemento)for elemento in input('Inserire lista: ').split()]\n",
        "prodotto(lista)"
      ],
      "execution_count": null,
      "outputs": [
        {
          "name": "stdout",
          "output_type": "stream",
          "text": [
            "Inserire lista: 2 5 3\n"
          ]
        },
        {
          "output_type": "execute_result",
          "data": {
            "text/plain": [
              "30"
            ]
          },
          "metadata": {},
          "execution_count": 36
        }
      ]
    },
    {
      "cell_type": "markdown",
      "metadata": {
        "id": "cF4ck5UwHIlX"
      },
      "source": [
        "7. scrivere un programma che permetta di caricare in una struttura dati opportuna i nomi delle nazioni che compongono l’Unione Europea, le loro capitali e la popolazione (inserire solo tre nazioni). \n",
        "Visualizzare poi i dati di una nazione inserita dall’utente"
      ]
    },
    {
      "cell_type": "code",
      "metadata": {
        "id": "zJ481mxRHMSm"
      },
      "source": [
        "Unione Europea = [{'nome':'Italia', 'capitale':'Roma','popolazione':60},\n",
        "                  {'nome':'Francia', 'capitale':'Parigi','popolazione':58},\n",
        "                  {'nome':'Germania', 'capitale':'Berlino','popolazione':80}]\n",
        "\n",
        "nazione = input(\"Inserire una nazione: \")\n"
      ],
      "execution_count": null,
      "outputs": []
    },
    {
      "cell_type": "markdown",
      "metadata": {
        "id": "mS30HNbWJpgO"
      },
      "source": [
        "8. scrivere un programma che, utilizzando una lambda function e la funzione map, elevi alla terza tutti gli elementi della lista. La lista deve essere caricata dall’utente."
      ]
    },
    {
      "cell_type": "code",
      "metadata": {
        "colab": {
          "base_uri": "https://localhost:8080/"
        },
        "id": "302zzIwwJsyl",
        "outputId": "7e4485cf-295a-40b1-9f87-7f502ab30cf5"
      },
      "source": [
        "lista = [int(elemento)for elemento in input('Inserire lista: ').split()]\n",
        "listafinale = list(map(lambda x:x**3 , lista))\n",
        "print(listafinale)"
      ],
      "execution_count": null,
      "outputs": [
        {
          "output_type": "stream",
          "name": "stdout",
          "text": [
            "Inserire lista: 2 5 3\n",
            "[8, 125, 27]\n"
          ]
        }
      ]
    },
    {
      "cell_type": "markdown",
      "metadata": {
        "id": "BX780uA1KLGu"
      },
      "source": [
        "9. scrivere una funzione che calcoli in modo ricorsivo il prodotto tra due numeri."
      ]
    },
    {
      "cell_type": "code",
      "metadata": {
        "colab": {
          "base_uri": "https://localhost:8080/"
        },
        "id": "eOHrxpTBKNKO",
        "outputId": "0b8bfcba-5db8-4592-fc23-bdf267c86040"
      },
      "source": [
        "def prodotto2(f1,f2):\n",
        "  if f2 == 1:\n",
        "    return f1\n",
        "  else: \n",
        "    return f1 + prodotto2(f1,f2-1)\n",
        "\n",
        "prodotto2(5,4)"
      ],
      "execution_count": null,
      "outputs": [
        {
          "output_type": "execute_result",
          "data": {
            "text/plain": [
              "20"
            ]
          },
          "metadata": {},
          "execution_count": 51
        }
      ]
    }
  ]
}