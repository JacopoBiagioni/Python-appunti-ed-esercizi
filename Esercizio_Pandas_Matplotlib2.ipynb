{
  "nbformat": 4,
  "nbformat_minor": 0,
  "metadata": {
    "colab": {
      "name": "Esercizio Pandas/Matplotlib2.ipynb",
      "provenance": [],
      "collapsed_sections": []
    },
    "kernelspec": {
      "name": "python3",
      "display_name": "Python 3"
    },
    "language_info": {
      "name": "python"
    }
  },
  "cells": [
    {
      "cell_type": "markdown",
      "metadata": {
        "id": "WWF4Fua7HIll"
      },
      "source": [
        "1. caricare i dati in un dataframe"
      ]
    },
    {
      "cell_type": "code",
      "metadata": {
        "colab": {
          "base_uri": "https://localhost:8080/",
          "height": 424
        },
        "id": "cJdqGya8HGla",
        "outputId": "d1ccb36a-e05e-4550-8c7a-523b4ebe56bd"
      },
      "source": [
        "import pandas as pd \n",
        "import matplotlib.pyplot as plt\n",
        "df = pd.read_csv('https://raw.githubusercontent.com/wtitze/4E/main/prime_titles.csv')\n",
        "df"
      ],
      "execution_count": null,
      "outputs": [
        {
          "output_type": "execute_result",
          "data": {
            "text/html": [
              "<div>\n",
              "<style scoped>\n",
              "    .dataframe tbody tr th:only-of-type {\n",
              "        vertical-align: middle;\n",
              "    }\n",
              "\n",
              "    .dataframe tbody tr th {\n",
              "        vertical-align: top;\n",
              "    }\n",
              "\n",
              "    .dataframe thead th {\n",
              "        text-align: right;\n",
              "    }\n",
              "</style>\n",
              "<table border=\"1\" class=\"dataframe\">\n",
              "  <thead>\n",
              "    <tr style=\"text-align: right;\">\n",
              "      <th></th>\n",
              "      <th>S.no.</th>\n",
              "      <th>Name of the show</th>\n",
              "      <th>Year of release</th>\n",
              "      <th>No of seasons available</th>\n",
              "      <th>Language</th>\n",
              "      <th>Genre</th>\n",
              "      <th>IMDb rating</th>\n",
              "      <th>Age of viewers</th>\n",
              "    </tr>\n",
              "  </thead>\n",
              "  <tbody>\n",
              "    <tr>\n",
              "      <th>0</th>\n",
              "      <td>1</td>\n",
              "      <td>Pataal Lok</td>\n",
              "      <td>2020.0</td>\n",
              "      <td>1.0</td>\n",
              "      <td>Hindi</td>\n",
              "      <td>Drama</td>\n",
              "      <td>7.5</td>\n",
              "      <td>18+</td>\n",
              "    </tr>\n",
              "    <tr>\n",
              "      <th>1</th>\n",
              "      <td>2</td>\n",
              "      <td>Upload</td>\n",
              "      <td>2020.0</td>\n",
              "      <td>1.0</td>\n",
              "      <td>English</td>\n",
              "      <td>Sci-fi comedy</td>\n",
              "      <td>8.1</td>\n",
              "      <td>16+</td>\n",
              "    </tr>\n",
              "    <tr>\n",
              "      <th>2</th>\n",
              "      <td>3</td>\n",
              "      <td>The Marvelous Mrs. Maisel</td>\n",
              "      <td>2017.0</td>\n",
              "      <td>3.0</td>\n",
              "      <td>English</td>\n",
              "      <td>Drama, Comedy</td>\n",
              "      <td>8.7</td>\n",
              "      <td>16+</td>\n",
              "    </tr>\n",
              "    <tr>\n",
              "      <th>3</th>\n",
              "      <td>4</td>\n",
              "      <td>Four More Shots Please</td>\n",
              "      <td>2019.0</td>\n",
              "      <td>2.0</td>\n",
              "      <td>Hindi</td>\n",
              "      <td>Drama, Comedy</td>\n",
              "      <td>5.3</td>\n",
              "      <td>18+</td>\n",
              "    </tr>\n",
              "    <tr>\n",
              "      <th>4</th>\n",
              "      <td>5</td>\n",
              "      <td>Fleabag</td>\n",
              "      <td>2016.0</td>\n",
              "      <td>2.0</td>\n",
              "      <td>English</td>\n",
              "      <td>Comedy</td>\n",
              "      <td>8.7</td>\n",
              "      <td>18+</td>\n",
              "    </tr>\n",
              "    <tr>\n",
              "      <th>...</th>\n",
              "      <td>...</td>\n",
              "      <td>...</td>\n",
              "      <td>...</td>\n",
              "      <td>...</td>\n",
              "      <td>...</td>\n",
              "      <td>...</td>\n",
              "      <td>...</td>\n",
              "      <td>...</td>\n",
              "    </tr>\n",
              "    <tr>\n",
              "      <th>399</th>\n",
              "      <td>400</td>\n",
              "      <td>NaN</td>\n",
              "      <td>NaN</td>\n",
              "      <td>NaN</td>\n",
              "      <td>NaN</td>\n",
              "      <td>NaN</td>\n",
              "      <td>NaN</td>\n",
              "      <td>NaN</td>\n",
              "    </tr>\n",
              "    <tr>\n",
              "      <th>400</th>\n",
              "      <td>401</td>\n",
              "      <td>NaN</td>\n",
              "      <td>NaN</td>\n",
              "      <td>NaN</td>\n",
              "      <td>NaN</td>\n",
              "      <td>NaN</td>\n",
              "      <td>NaN</td>\n",
              "      <td>NaN</td>\n",
              "    </tr>\n",
              "    <tr>\n",
              "      <th>401</th>\n",
              "      <td>402</td>\n",
              "      <td>NaN</td>\n",
              "      <td>NaN</td>\n",
              "      <td>NaN</td>\n",
              "      <td>NaN</td>\n",
              "      <td>NaN</td>\n",
              "      <td>NaN</td>\n",
              "      <td>NaN</td>\n",
              "    </tr>\n",
              "    <tr>\n",
              "      <th>402</th>\n",
              "      <td>403</td>\n",
              "      <td>NaN</td>\n",
              "      <td>NaN</td>\n",
              "      <td>NaN</td>\n",
              "      <td>NaN</td>\n",
              "      <td>NaN</td>\n",
              "      <td>NaN</td>\n",
              "      <td>NaN</td>\n",
              "    </tr>\n",
              "    <tr>\n",
              "      <th>403</th>\n",
              "      <td>404</td>\n",
              "      <td>NaN</td>\n",
              "      <td>NaN</td>\n",
              "      <td>NaN</td>\n",
              "      <td>NaN</td>\n",
              "      <td>NaN</td>\n",
              "      <td>NaN</td>\n",
              "      <td>NaN</td>\n",
              "    </tr>\n",
              "  </tbody>\n",
              "</table>\n",
              "<p>404 rows × 8 columns</p>\n",
              "</div>"
            ],
            "text/plain": [
              "     S.no.           Name of the show  ...  IMDb rating  Age of viewers\n",
              "0        1                 Pataal Lok  ...          7.5             18+\n",
              "1        2                     Upload  ...          8.1             16+\n",
              "2        3  The Marvelous Mrs. Maisel  ...          8.7             16+\n",
              "3        4     Four More Shots Please  ...          5.3             18+\n",
              "4        5                    Fleabag  ...          8.7             18+\n",
              "..     ...                        ...  ...          ...             ...\n",
              "399    400                        NaN  ...          NaN             NaN\n",
              "400    401                        NaN  ...          NaN             NaN\n",
              "401    402                        NaN  ...          NaN             NaN\n",
              "402    403                        NaN  ...          NaN             NaN\n",
              "403    404                        NaN  ...          NaN             NaN\n",
              "\n",
              "[404 rows x 8 columns]"
            ]
          },
          "metadata": {},
          "execution_count": 24
        }
      ]
    },
    {
      "cell_type": "markdown",
      "metadata": {
        "id": "kKLQDRqwHjyT"
      },
      "source": [
        "2. visualizzare i dati\n"
      ]
    },
    {
      "cell_type": "code",
      "metadata": {
        "colab": {
          "base_uri": "https://localhost:8080/",
          "height": 424
        },
        "id": "VhfiLPHBHnYO",
        "outputId": "1b0628c3-4dfd-4a1c-b027-76b059b42d56"
      },
      "source": [
        "df"
      ],
      "execution_count": null,
      "outputs": [
        {
          "output_type": "execute_result",
          "data": {
            "text/html": [
              "<div>\n",
              "<style scoped>\n",
              "    .dataframe tbody tr th:only-of-type {\n",
              "        vertical-align: middle;\n",
              "    }\n",
              "\n",
              "    .dataframe tbody tr th {\n",
              "        vertical-align: top;\n",
              "    }\n",
              "\n",
              "    .dataframe thead th {\n",
              "        text-align: right;\n",
              "    }\n",
              "</style>\n",
              "<table border=\"1\" class=\"dataframe\">\n",
              "  <thead>\n",
              "    <tr style=\"text-align: right;\">\n",
              "      <th></th>\n",
              "      <th>S.no.</th>\n",
              "      <th>Name of the show</th>\n",
              "      <th>Year of release</th>\n",
              "      <th>No of seasons available</th>\n",
              "      <th>Language</th>\n",
              "      <th>Genre</th>\n",
              "      <th>IMDb rating</th>\n",
              "      <th>Age of viewers</th>\n",
              "    </tr>\n",
              "  </thead>\n",
              "  <tbody>\n",
              "    <tr>\n",
              "      <th>0</th>\n",
              "      <td>1</td>\n",
              "      <td>Pataal Lok</td>\n",
              "      <td>2020.0</td>\n",
              "      <td>1.0</td>\n",
              "      <td>Hindi</td>\n",
              "      <td>Drama</td>\n",
              "      <td>7.5</td>\n",
              "      <td>18+</td>\n",
              "    </tr>\n",
              "    <tr>\n",
              "      <th>1</th>\n",
              "      <td>2</td>\n",
              "      <td>Upload</td>\n",
              "      <td>2020.0</td>\n",
              "      <td>1.0</td>\n",
              "      <td>English</td>\n",
              "      <td>Sci-fi comedy</td>\n",
              "      <td>8.1</td>\n",
              "      <td>16+</td>\n",
              "    </tr>\n",
              "    <tr>\n",
              "      <th>2</th>\n",
              "      <td>3</td>\n",
              "      <td>The Marvelous Mrs. Maisel</td>\n",
              "      <td>2017.0</td>\n",
              "      <td>3.0</td>\n",
              "      <td>English</td>\n",
              "      <td>Drama, Comedy</td>\n",
              "      <td>8.7</td>\n",
              "      <td>16+</td>\n",
              "    </tr>\n",
              "    <tr>\n",
              "      <th>3</th>\n",
              "      <td>4</td>\n",
              "      <td>Four More Shots Please</td>\n",
              "      <td>2019.0</td>\n",
              "      <td>2.0</td>\n",
              "      <td>Hindi</td>\n",
              "      <td>Drama, Comedy</td>\n",
              "      <td>5.3</td>\n",
              "      <td>18+</td>\n",
              "    </tr>\n",
              "    <tr>\n",
              "      <th>4</th>\n",
              "      <td>5</td>\n",
              "      <td>Fleabag</td>\n",
              "      <td>2016.0</td>\n",
              "      <td>2.0</td>\n",
              "      <td>English</td>\n",
              "      <td>Comedy</td>\n",
              "      <td>8.7</td>\n",
              "      <td>18+</td>\n",
              "    </tr>\n",
              "    <tr>\n",
              "      <th>...</th>\n",
              "      <td>...</td>\n",
              "      <td>...</td>\n",
              "      <td>...</td>\n",
              "      <td>...</td>\n",
              "      <td>...</td>\n",
              "      <td>...</td>\n",
              "      <td>...</td>\n",
              "      <td>...</td>\n",
              "    </tr>\n",
              "    <tr>\n",
              "      <th>399</th>\n",
              "      <td>400</td>\n",
              "      <td>NaN</td>\n",
              "      <td>NaN</td>\n",
              "      <td>NaN</td>\n",
              "      <td>NaN</td>\n",
              "      <td>NaN</td>\n",
              "      <td>NaN</td>\n",
              "      <td>NaN</td>\n",
              "    </tr>\n",
              "    <tr>\n",
              "      <th>400</th>\n",
              "      <td>401</td>\n",
              "      <td>NaN</td>\n",
              "      <td>NaN</td>\n",
              "      <td>NaN</td>\n",
              "      <td>NaN</td>\n",
              "      <td>NaN</td>\n",
              "      <td>NaN</td>\n",
              "      <td>NaN</td>\n",
              "    </tr>\n",
              "    <tr>\n",
              "      <th>401</th>\n",
              "      <td>402</td>\n",
              "      <td>NaN</td>\n",
              "      <td>NaN</td>\n",
              "      <td>NaN</td>\n",
              "      <td>NaN</td>\n",
              "      <td>NaN</td>\n",
              "      <td>NaN</td>\n",
              "      <td>NaN</td>\n",
              "    </tr>\n",
              "    <tr>\n",
              "      <th>402</th>\n",
              "      <td>403</td>\n",
              "      <td>NaN</td>\n",
              "      <td>NaN</td>\n",
              "      <td>NaN</td>\n",
              "      <td>NaN</td>\n",
              "      <td>NaN</td>\n",
              "      <td>NaN</td>\n",
              "      <td>NaN</td>\n",
              "    </tr>\n",
              "    <tr>\n",
              "      <th>403</th>\n",
              "      <td>404</td>\n",
              "      <td>NaN</td>\n",
              "      <td>NaN</td>\n",
              "      <td>NaN</td>\n",
              "      <td>NaN</td>\n",
              "      <td>NaN</td>\n",
              "      <td>NaN</td>\n",
              "      <td>NaN</td>\n",
              "    </tr>\n",
              "  </tbody>\n",
              "</table>\n",
              "<p>404 rows × 8 columns</p>\n",
              "</div>"
            ],
            "text/plain": [
              "     S.no.           Name of the show  ...  IMDb rating  Age of viewers\n",
              "0        1                 Pataal Lok  ...          7.5             18+\n",
              "1        2                     Upload  ...          8.1             16+\n",
              "2        3  The Marvelous Mrs. Maisel  ...          8.7             16+\n",
              "3        4     Four More Shots Please  ...          5.3             18+\n",
              "4        5                    Fleabag  ...          8.7             18+\n",
              "..     ...                        ...  ...          ...             ...\n",
              "399    400                        NaN  ...          NaN             NaN\n",
              "400    401                        NaN  ...          NaN             NaN\n",
              "401    402                        NaN  ...          NaN             NaN\n",
              "402    403                        NaN  ...          NaN             NaN\n",
              "403    404                        NaN  ...          NaN             NaN\n",
              "\n",
              "[404 rows x 8 columns]"
            ]
          },
          "metadata": {},
          "execution_count": 25
        }
      ]
    },
    {
      "cell_type": "markdown",
      "metadata": {
        "id": "6uHtbTehHnlG"
      },
      "source": [
        "3. eliminare dal dataframe tutti i record con valori NaN"
      ]
    },
    {
      "cell_type": "code",
      "metadata": {
        "colab": {
          "base_uri": "https://localhost:8080/",
          "height": 424
        },
        "id": "vpPB-jMOHpXN",
        "outputId": "838862d5-341f-4448-811d-45c585211a25"
      },
      "source": [
        "df.dropna(inplace=True)\n",
        "df"
      ],
      "execution_count": null,
      "outputs": [
        {
          "output_type": "execute_result",
          "data": {
            "text/html": [
              "<div>\n",
              "<style scoped>\n",
              "    .dataframe tbody tr th:only-of-type {\n",
              "        vertical-align: middle;\n",
              "    }\n",
              "\n",
              "    .dataframe tbody tr th {\n",
              "        vertical-align: top;\n",
              "    }\n",
              "\n",
              "    .dataframe thead th {\n",
              "        text-align: right;\n",
              "    }\n",
              "</style>\n",
              "<table border=\"1\" class=\"dataframe\">\n",
              "  <thead>\n",
              "    <tr style=\"text-align: right;\">\n",
              "      <th></th>\n",
              "      <th>S.no.</th>\n",
              "      <th>Name of the show</th>\n",
              "      <th>Year of release</th>\n",
              "      <th>No of seasons available</th>\n",
              "      <th>Language</th>\n",
              "      <th>Genre</th>\n",
              "      <th>IMDb rating</th>\n",
              "      <th>Age of viewers</th>\n",
              "    </tr>\n",
              "  </thead>\n",
              "  <tbody>\n",
              "    <tr>\n",
              "      <th>0</th>\n",
              "      <td>1</td>\n",
              "      <td>Pataal Lok</td>\n",
              "      <td>2020.0</td>\n",
              "      <td>1.0</td>\n",
              "      <td>Hindi</td>\n",
              "      <td>Drama</td>\n",
              "      <td>7.5</td>\n",
              "      <td>18+</td>\n",
              "    </tr>\n",
              "    <tr>\n",
              "      <th>1</th>\n",
              "      <td>2</td>\n",
              "      <td>Upload</td>\n",
              "      <td>2020.0</td>\n",
              "      <td>1.0</td>\n",
              "      <td>English</td>\n",
              "      <td>Sci-fi comedy</td>\n",
              "      <td>8.1</td>\n",
              "      <td>16+</td>\n",
              "    </tr>\n",
              "    <tr>\n",
              "      <th>2</th>\n",
              "      <td>3</td>\n",
              "      <td>The Marvelous Mrs. Maisel</td>\n",
              "      <td>2017.0</td>\n",
              "      <td>3.0</td>\n",
              "      <td>English</td>\n",
              "      <td>Drama, Comedy</td>\n",
              "      <td>8.7</td>\n",
              "      <td>16+</td>\n",
              "    </tr>\n",
              "    <tr>\n",
              "      <th>3</th>\n",
              "      <td>4</td>\n",
              "      <td>Four More Shots Please</td>\n",
              "      <td>2019.0</td>\n",
              "      <td>2.0</td>\n",
              "      <td>Hindi</td>\n",
              "      <td>Drama, Comedy</td>\n",
              "      <td>5.3</td>\n",
              "      <td>18+</td>\n",
              "    </tr>\n",
              "    <tr>\n",
              "      <th>4</th>\n",
              "      <td>5</td>\n",
              "      <td>Fleabag</td>\n",
              "      <td>2016.0</td>\n",
              "      <td>2.0</td>\n",
              "      <td>English</td>\n",
              "      <td>Comedy</td>\n",
              "      <td>8.7</td>\n",
              "      <td>18+</td>\n",
              "    </tr>\n",
              "    <tr>\n",
              "      <th>...</th>\n",
              "      <td>...</td>\n",
              "      <td>...</td>\n",
              "      <td>...</td>\n",
              "      <td>...</td>\n",
              "      <td>...</td>\n",
              "      <td>...</td>\n",
              "      <td>...</td>\n",
              "      <td>...</td>\n",
              "    </tr>\n",
              "    <tr>\n",
              "      <th>373</th>\n",
              "      <td>374</td>\n",
              "      <td>The Danny Thomas Show</td>\n",
              "      <td>1958.0</td>\n",
              "      <td>3.0</td>\n",
              "      <td>English</td>\n",
              "      <td>Comedy</td>\n",
              "      <td>7.2</td>\n",
              "      <td>All</td>\n",
              "    </tr>\n",
              "    <tr>\n",
              "      <th>374</th>\n",
              "      <td>375</td>\n",
              "      <td>Hitoshi Matsumoto Presents Documental</td>\n",
              "      <td>2018.0</td>\n",
              "      <td>3.0</td>\n",
              "      <td>Japanese</td>\n",
              "      <td>Comedy</td>\n",
              "      <td>8.0</td>\n",
              "      <td>18+</td>\n",
              "    </tr>\n",
              "    <tr>\n",
              "      <th>375</th>\n",
              "      <td>376</td>\n",
              "      <td>Businessmen VS Aliens</td>\n",
              "      <td>2018.0</td>\n",
              "      <td>1.0</td>\n",
              "      <td>Japanese</td>\n",
              "      <td>Comedy</td>\n",
              "      <td>4.5</td>\n",
              "      <td>13+</td>\n",
              "    </tr>\n",
              "    <tr>\n",
              "      <th>379</th>\n",
              "      <td>380</td>\n",
              "      <td>Scooter: Secret Agent</td>\n",
              "      <td>2003.0</td>\n",
              "      <td>1.0</td>\n",
              "      <td>English</td>\n",
              "      <td>Comedy</td>\n",
              "      <td>6.8</td>\n",
              "      <td>All</td>\n",
              "    </tr>\n",
              "    <tr>\n",
              "      <th>383</th>\n",
              "      <td>384</td>\n",
              "      <td>The Real McCoys</td>\n",
              "      <td>1958.0</td>\n",
              "      <td>6.0</td>\n",
              "      <td>English</td>\n",
              "      <td>Comedy</td>\n",
              "      <td>7.5</td>\n",
              "      <td>All</td>\n",
              "    </tr>\n",
              "  </tbody>\n",
              "</table>\n",
              "<p>182 rows × 8 columns</p>\n",
              "</div>"
            ],
            "text/plain": [
              "     S.no.                       Name of the show  ...  IMDb rating  Age of viewers\n",
              "0        1                             Pataal Lok  ...          7.5             18+\n",
              "1        2                                 Upload  ...          8.1             16+\n",
              "2        3              The Marvelous Mrs. Maisel  ...          8.7             16+\n",
              "3        4                 Four More Shots Please  ...          5.3             18+\n",
              "4        5                                Fleabag  ...          8.7             18+\n",
              "..     ...                                    ...  ...          ...             ...\n",
              "373    374                  The Danny Thomas Show  ...          7.2             All\n",
              "374    375  Hitoshi Matsumoto Presents Documental  ...          8.0             18+\n",
              "375    376                  Businessmen VS Aliens  ...          4.5             13+\n",
              "379    380                  Scooter: Secret Agent  ...          6.8             All\n",
              "383    384                        The Real McCoys  ...          7.5             All\n",
              "\n",
              "[182 rows x 8 columns]"
            ]
          },
          "metadata": {},
          "execution_count": 26
        }
      ]
    },
    {
      "cell_type": "markdown",
      "metadata": {
        "id": "3AA_mcDpHrbV"
      },
      "source": [
        "4. calcolare il numero di show per ogni lingua. Ordinare in ordine decrescente sul numero"
      ]
    },
    {
      "cell_type": "code",
      "metadata": {
        "id": "IVgzxNIZHs8d",
        "colab": {
          "base_uri": "https://localhost:8080/"
        },
        "outputId": "39f45f1c-c81d-48e4-b4f9-b80653360779"
      },
      "source": [
        "df.groupby('Language')['Name of the show'].count().sort_values(ascending=False)"
      ],
      "execution_count": null,
      "outputs": [
        {
          "output_type": "execute_result",
          "data": {
            "text/plain": [
              "Language\n",
              "English     155\n",
              "Hindi        17\n",
              "Japanese      7\n",
              "Suomi         1\n",
              "Spanish       1\n",
              "Deutsch       1\n",
              "Name: Name of the show, dtype: int64"
            ]
          },
          "metadata": {},
          "execution_count": 27
        }
      ]
    },
    {
      "cell_type": "markdown",
      "metadata": {
        "id": "gJTTPwZ8HtHl"
      },
      "source": [
        "5. visualizzare il grafico a barre verticali dei dati precedenti\n"
      ]
    },
    {
      "cell_type": "code",
      "metadata": {
        "id": "WXQn1GIsHuOV",
        "colab": {
          "base_uri": "https://localhost:8080/",
          "height": 273
        },
        "outputId": "aa27e714-56fd-41b2-fd16-dd1969e2c1cd"
      },
      "source": [
        "df1 = df.groupby('Language', as_index=False)['Name of the show'].count().sort_values('Name of the show',ascending=False)\n",
        "fig = plt.figure()\n",
        "ax = plt.axes()\n",
        "ax.bar(df1['Language'],df1['Name of the show'])\n",
        "fig.autofmt_xdate(rotation=45)\n",
        "plt.show()"
      ],
      "execution_count": null,
      "outputs": [
        {
          "output_type": "display_data",
          "data": {
            "image/png": "[encoded data removed]",
            "text/plain": [
              "<Figure size 432x288 with 1 Axes>"
            ]
          },
          "metadata": {
            "needs_background": "light"
          }
        }
      ]
    },
    {
      "cell_type": "markdown",
      "metadata": {
        "id": "UdkF7dmUHulk"
      },
      "source": [
        "6. visualizzare le stesse informazioni dell'esercizio precedente utilizzando un grafico a torta\n"
      ]
    },
    {
      "cell_type": "code",
      "metadata": {
        "id": "TpKjM_ghHvY9",
        "colab": {
          "base_uri": "https://localhost:8080/",
          "height": 248
        },
        "outputId": "5c5edf55-709e-48a0-f4bd-7949bc93cd5f"
      },
      "source": [
        "fig = plt.figure()\n",
        "ax = plt.axes()\n",
        "ax.pie(df1['Name of the show'], labels=df1['Language'],autopct='%1.1f%%')\n",
        "plt.show()"
      ],
      "execution_count": null,
      "outputs": [
        {
          "output_type": "display_data",
          "data": {
            "image/png": "[encoded data removed]",
            "text/plain": [
              "<Figure size 432x288 with 1 Axes>"
            ]
          },
          "metadata": {}
        }
      ]
    },
    {
      "cell_type": "markdown",
      "metadata": {
        "id": "C6i7OCJ7Hvie"
      },
      "source": [
        "7. creare un nuovo dataframe che nella colonna 'Language' contenga solo 'English' o 'non English'\n"
      ]
    },
    {
      "cell_type": "code",
      "metadata": {
        "id": "QuKi23uPHw0t",
        "colab": {
          "base_uri": "https://localhost:8080/",
          "height": 510
        },
        "outputId": "92a14f1c-ac98-4cf8-d63f-28515516ad30"
      },
      "source": [
        "df2 = df\n",
        "df2['Language'][df2['Language'] != 'English'] = 'Non English'\n",
        "df2"
      ],
      "execution_count": null,
      "outputs": [
        {
          "output_type": "stream",
          "name": "stderr",
          "text": [
            "/usr/local/lib/python3.7/dist-packages/ipykernel_launcher.py:2: SettingWithCopyWarning: \n",
            "A value is trying to be set on a copy of a slice from a DataFrame\n",
            "\n",
            "See the caveats in the documentation: https://pandas.pydata.org/pandas-docs/stable/user_guide/indexing.html#returning-a-view-versus-a-copy\n",
            "  \n"
          ]
        },
        {
          "output_type": "execute_result",
          "data": {
            "text/html": [
              "<div>\n",
              "<style scoped>\n",
              "    .dataframe tbody tr th:only-of-type {\n",
              "        vertical-align: middle;\n",
              "    }\n",
              "\n",
              "    .dataframe tbody tr th {\n",
              "        vertical-align: top;\n",
              "    }\n",
              "\n",
              "    .dataframe thead th {\n",
              "        text-align: right;\n",
              "    }\n",
              "</style>\n",
              "<table border=\"1\" class=\"dataframe\">\n",
              "  <thead>\n",
              "    <tr style=\"text-align: right;\">\n",
              "      <th></th>\n",
              "      <th>S.no.</th>\n",
              "      <th>Name of the show</th>\n",
              "      <th>Year of release</th>\n",
              "      <th>No of seasons available</th>\n",
              "      <th>Language</th>\n",
              "      <th>Genre</th>\n",
              "      <th>IMDb rating</th>\n",
              "      <th>Age of viewers</th>\n",
              "    </tr>\n",
              "  </thead>\n",
              "  <tbody>\n",
              "    <tr>\n",
              "      <th>0</th>\n",
              "      <td>1</td>\n",
              "      <td>Pataal Lok</td>\n",
              "      <td>2020.0</td>\n",
              "      <td>1.0</td>\n",
              "      <td>Non English</td>\n",
              "      <td>Drama</td>\n",
              "      <td>7.5</td>\n",
              "      <td>18+</td>\n",
              "    </tr>\n",
              "    <tr>\n",
              "      <th>1</th>\n",
              "      <td>2</td>\n",
              "      <td>Upload</td>\n",
              "      <td>2020.0</td>\n",
              "      <td>1.0</td>\n",
              "      <td>English</td>\n",
              "      <td>Sci-fi comedy</td>\n",
              "      <td>8.1</td>\n",
              "      <td>16+</td>\n",
              "    </tr>\n",
              "    <tr>\n",
              "      <th>2</th>\n",
              "      <td>3</td>\n",
              "      <td>The Marvelous Mrs. Maisel</td>\n",
              "      <td>2017.0</td>\n",
              "      <td>3.0</td>\n",
              "      <td>English</td>\n",
              "      <td>Drama, Comedy</td>\n",
              "      <td>8.7</td>\n",
              "      <td>16+</td>\n",
              "    </tr>\n",
              "    <tr>\n",
              "      <th>3</th>\n",
              "      <td>4</td>\n",
              "      <td>Four More Shots Please</td>\n",
              "      <td>2019.0</td>\n",
              "      <td>2.0</td>\n",
              "      <td>Non English</td>\n",
              "      <td>Drama, Comedy</td>\n",
              "      <td>5.3</td>\n",
              "      <td>18+</td>\n",
              "    </tr>\n",
              "    <tr>\n",
              "      <th>4</th>\n",
              "      <td>5</td>\n",
              "      <td>Fleabag</td>\n",
              "      <td>2016.0</td>\n",
              "      <td>2.0</td>\n",
              "      <td>English</td>\n",
              "      <td>Comedy</td>\n",
              "      <td>8.7</td>\n",
              "      <td>18+</td>\n",
              "    </tr>\n",
              "    <tr>\n",
              "      <th>...</th>\n",
              "      <td>...</td>\n",
              "      <td>...</td>\n",
              "      <td>...</td>\n",
              "      <td>...</td>\n",
              "      <td>...</td>\n",
              "      <td>...</td>\n",
              "      <td>...</td>\n",
              "      <td>...</td>\n",
              "    </tr>\n",
              "    <tr>\n",
              "      <th>373</th>\n",
              "      <td>374</td>\n",
              "      <td>The Danny Thomas Show</td>\n",
              "      <td>1958.0</td>\n",
              "      <td>3.0</td>\n",
              "      <td>English</td>\n",
              "      <td>Comedy</td>\n",
              "      <td>7.2</td>\n",
              "      <td>All</td>\n",
              "    </tr>\n",
              "    <tr>\n",
              "      <th>374</th>\n",
              "      <td>375</td>\n",
              "      <td>Hitoshi Matsumoto Presents Documental</td>\n",
              "      <td>2018.0</td>\n",
              "      <td>3.0</td>\n",
              "      <td>Non English</td>\n",
              "      <td>Comedy</td>\n",
              "      <td>8.0</td>\n",
              "      <td>18+</td>\n",
              "    </tr>\n",
              "    <tr>\n",
              "      <th>375</th>\n",
              "      <td>376</td>\n",
              "      <td>Businessmen VS Aliens</td>\n",
              "      <td>2018.0</td>\n",
              "      <td>1.0</td>\n",
              "      <td>Non English</td>\n",
              "      <td>Comedy</td>\n",
              "      <td>4.5</td>\n",
              "      <td>13+</td>\n",
              "    </tr>\n",
              "    <tr>\n",
              "      <th>379</th>\n",
              "      <td>380</td>\n",
              "      <td>Scooter: Secret Agent</td>\n",
              "      <td>2003.0</td>\n",
              "      <td>1.0</td>\n",
              "      <td>English</td>\n",
              "      <td>Comedy</td>\n",
              "      <td>6.8</td>\n",
              "      <td>All</td>\n",
              "    </tr>\n",
              "    <tr>\n",
              "      <th>383</th>\n",
              "      <td>384</td>\n",
              "      <td>The Real McCoys</td>\n",
              "      <td>1958.0</td>\n",
              "      <td>6.0</td>\n",
              "      <td>English</td>\n",
              "      <td>Comedy</td>\n",
              "      <td>7.5</td>\n",
              "      <td>All</td>\n",
              "    </tr>\n",
              "  </tbody>\n",
              "</table>\n",
              "<p>182 rows × 8 columns</p>\n",
              "</div>"
            ],
            "text/plain": [
              "     S.no.                       Name of the show  ...  IMDb rating  Age of viewers\n",
              "0        1                             Pataal Lok  ...          7.5             18+\n",
              "1        2                                 Upload  ...          8.1             16+\n",
              "2        3              The Marvelous Mrs. Maisel  ...          8.7             16+\n",
              "3        4                 Four More Shots Please  ...          5.3             18+\n",
              "4        5                                Fleabag  ...          8.7             18+\n",
              "..     ...                                    ...  ...          ...             ...\n",
              "373    374                  The Danny Thomas Show  ...          7.2             All\n",
              "374    375  Hitoshi Matsumoto Presents Documental  ...          8.0             18+\n",
              "375    376                  Businessmen VS Aliens  ...          4.5             13+\n",
              "379    380                  Scooter: Secret Agent  ...          6.8             All\n",
              "383    384                        The Real McCoys  ...          7.5             All\n",
              "\n",
              "[182 rows x 8 columns]"
            ]
          },
          "metadata": {},
          "execution_count": 30
        }
      ]
    },
    {
      "cell_type": "markdown",
      "metadata": {
        "id": "7bQHAyhVHxBF"
      },
      "source": [
        "8. visualizzare un grafico a barre con gli anni sulle ascisse e il numero di show in inglese e non in inglese sulle ordinate. Considerare solo gli ultimi 10 anni (vedi grafico allegato come esempio)\n"
      ]
    },
    {
      "cell_type": "code",
      "metadata": {
        "id": "sNlz1QoytkKu"
      },
      "source": [
        ""
      ],
      "execution_count": null,
      "outputs": []
    },
    {
      "cell_type": "code",
      "metadata": {
        "id": "cqYCCNqnHyfV",
        "colab": {
          "base_uri": "https://localhost:8080/",
          "height": 304
        },
        "outputId": "b4832c4a-6cc4-40ce-f877-6b3c91df5e2e"
      },
      "source": [
        "from datetime import datetime\n",
        "df2[df2['Year of release'] >= datetime.now().year - 10].groupby(['Language'])['Year of release'].value_counts().unstack(0).plot.bar()\n",
        "plt.show()"
      ],
      "execution_count": null,
      "outputs": [
        {
          "output_type": "display_data",
          "data": {
            "image/png": "[encoded data removed]",
            "text/plain": [
              "<Figure size 432x288 with 1 Axes>"
            ]
          },
          "metadata": {
            "needs_background": "light"
          }
        }
      ]
    }
  ]
}