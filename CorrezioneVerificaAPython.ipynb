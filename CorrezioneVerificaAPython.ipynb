{
  "nbformat": 4,
  "nbformat_minor": 0,
  "metadata": {
    "colab": {
      "name": "CorrezioneVerificaAPython.ipynb",
      "provenance": [],
      "collapsed_sections": []
    },
    "kernelspec": {
      "name": "python3",
      "display_name": "Python 3"
    },
    "language_info": {
      "name": "python"
    }
  },
  "cells": [
    {
      "cell_type": "markdown",
      "metadata": {
        "id": "bi1BxxuTr9wG"
      },
      "source": [
        "1. scrivere un programma che calcoli il volume di un parallelepipedo data la base, l’altezza e la profondità. I valori inseriti possono essere decimali e il risultato deve essere fornito con due cifre decimali. I valori della base, dell’altezza e della profondità devono essere inseriti dall’utente"
      ]
    },
    {
      "cell_type": "code",
      "metadata": {
        "colab": {
          "base_uri": "https://localhost:8080/"
        },
        "id": "mkrhAjanr9EH",
        "outputId": "c45f4417-77d9-4a35-c0ec-962200c0478c"
      },
      "source": [
        "base = float(input('Inserire base: '))\n",
        "altezza = float(input('Inserire altezza: '))\n",
        "profondità = float(input('Inserire profondità: '))\n",
        "volume = base*altezza*profondità\n",
        "print(round(volume,2))"
      ],
      "execution_count": null,
      "outputs": [
        {
          "output_type": "stream",
          "name": "stdout",
          "text": [
            "Inserire base: 10\n",
            "Inserire altezza: 8\n",
            "Inserire profondità: 3\n",
            "240.0\n"
          ]
        }
      ]
    },
    {
      "cell_type": "markdown",
      "metadata": {
        "id": "GfDAh_2NsOKR"
      },
      "source": [
        "2. modificare il programma precedente in modo che prima di effettuare il calcolo controlli che i valori inseriti dall’utente siano positivi. Visualizzare gli opportuni messaggi di errore a seconda del verificarsi delle diverse condizioni\n"
      ]
    },
    {
      "cell_type": "code",
      "metadata": {
        "colab": {
          "base_uri": "https://localhost:8080/"
        },
        "id": "Kw4BHVk4sQcD",
        "outputId": "ed350ec6-52a0-43ea-d105-36de8f8b6759"
      },
      "source": [
        "base = float(input('Inserire base: '))\n",
        "if base <= 0:\n",
        "  print('Base minore di 0')\n",
        "else:\n",
        "  altezza = float(input('Inserire altezza: '))\n",
        "  if altezza <= 0:\n",
        "    print('Altezza minore di 0')\n",
        "  else:\n",
        "      profondità = float(input('Inserire profondità: '))\n",
        "      if profondità <= 0:\n",
        "        print('Profondità minore di 0')\n",
        "      else:\n",
        "          volume = base*altezza*profondità\n",
        "          print(round(volume,2))"
      ],
      "execution_count": null,
      "outputs": [
        {
          "output_type": "stream",
          "name": "stdout",
          "text": [
            "Inserire base: 10\n",
            "Inserire altezza: 8\n",
            "Inserire profondità: 0\n",
            "Profondità minore di 0\n"
          ]
        }
      ]
    },
    {
      "cell_type": "markdown",
      "metadata": {
        "id": "1TiNxDh1sQu7"
      },
      "source": [
        "3. scrivere un programma che permetta di visualizzare tutti i quadrati perfetti minori di un numero intero inserito dall’utente. I quadrati perfetti sono numeri interi che possono essere espressi come il quadrato di un numero intero. Ad esempio 9 è un quadrato perfetto perché è il quadrato del numero intero 3 mentre 8 non è un quadrato perfetto perché non è il quadrato di nessun numero intero)\n"
      ]
    },
    {
      "cell_type": "code",
      "metadata": {
        "colab": {
          "base_uri": "https://localhost:8080/"
        },
        "id": "RAoM317ZsUn8",
        "outputId": "10f61e4f-8bea-4389-ab00-0cfb138df5de"
      },
      "source": [
        "n = int(input('Inserire numero: ')) \n",
        "quadratiperfetti = []\n",
        "\n",
        "i = 1\n",
        "while i**2 < n:\n",
        "  print(i**2)\n",
        "  i += 1"
      ],
      "execution_count": null,
      "outputs": [
        {
          "output_type": "stream",
          "name": "stdout",
          "text": [
            "Inserire numero: 10\n",
            "1\n",
            "4\n",
            "9\n"
          ]
        }
      ]
    },
    {
      "cell_type": "markdown",
      "metadata": {
        "id": "FNuo6mIzsUzr"
      },
      "source": [
        "4. scrivere un programma che inserisca in una lista tutti i numeri interi compresi tra due estremi forniti dall’utente. Al termine, visualizzare la lista dei numeri e la lista al contrario\n"
      ]
    },
    {
      "cell_type": "code",
      "metadata": {
        "id": "uZ44PxZtsWxU",
        "colab": {
          "base_uri": "https://localhost:8080/"
        },
        "outputId": "80504785-73a1-445d-8110-78207d834d65"
      },
      "source": [
        "estremo1 = int(input(\"Inserire primo estremo: \"))\n",
        "estremo2 = int(input(\"Inserire secondo estremo: \"))\n",
        "lista = [elemento for elemento in range(estremo1,estremo2+1)]\n",
        "print(lista)\n",
        "print(sorted(lista,reverse=True))"
      ],
      "execution_count": null,
      "outputs": [
        {
          "output_type": "stream",
          "name": "stdout",
          "text": [
            "Inserire primo estremo: 2\n",
            "Inserire secondo estremo: 10\n",
            "[2, 3, 4, 5, 6, 7, 8, 9, 10]\n",
            "[10, 9, 8, 7, 6, 5, 4, 3, 2]\n"
          ]
        }
      ]
    },
    {
      "cell_type": "markdown",
      "metadata": {
        "id": "_zX64AngsW_j"
      },
      "source": [
        "5. scrivere un programma che carichi in una lista chiamata “tutti” i numeri pari compresi tra -30 e +30. Usando poi lo slicing, caricare in una lista chiamata “negativi” gli elementi della lista “tutti” minori di 0 e in una chiamata “positivi” gli elementi della lista “tutti” maggiori di zero. Al termine visualizzare le tre liste..\n"
      ]
    },
    {
      "cell_type": "code",
      "metadata": {
        "id": "EetiKXbBsZPL",
        "colab": {
          "base_uri": "https://localhost:8080/"
        },
        "outputId": "da8ed521-2ec5-48e7-9a32-e08889ed61c6"
      },
      "source": [
        "tutti = [int(elementi) for elementi in range(-30,30) if elementi%2 == 0]\n",
        "print(tutti)\n",
        "negativi = []\n",
        "positivi = []\n",
        "for i in tutti:\n",
        "  if i < 0:\n",
        "    negativi.append(i)\n",
        "  else:\n",
        "    positivi.append(i)\n",
        "print('Negativi = ',negativi)\n",
        "print('Positivi = ',positivi)"
      ],
      "execution_count": null,
      "outputs": [
        {
          "output_type": "stream",
          "name": "stdout",
          "text": [
            "[-30, -28, -26, -24, -22, -20, -18, -16, -14, -12, -10, -8, -6, -4, -2, 0, 2, 4, 6, 8, 10, 12, 14, 16, 18, 20, 22, 24, 26, 28]\n",
            "Negativi =  [-30, -28, -26, -24, -22, -20, -18, -16, -14, -12, -10, -8, -6, -4, -2]\n",
            "Positivi =  [0, 2, 4, 6, 8, 10, 12, 14, 16, 18, 20, 22, 24, 26, 28]\n"
          ]
        }
      ]
    },
    {
      "cell_type": "markdown",
      "metadata": {
        "id": "ovuHPLEOsZpr"
      },
      "source": [
        "6. scrivere una funzione chiamata volumeSfera che dato il raggio in metri di una sfera calcoli il suo volume. Utilizzare poi quella funzione per scrivere un’altra funzione chiamata pesoSfera che permetta di calcolare il peso di una sfera dato il suo raggio in metri e la sua densità, espressa in grammi al centimetro cubo. Infine, scrivere un programma che calcoli il peso di una sfera di piombo del raggio di un metro (la densità del piombo è di 11.34 g/cm3)\n"
      ]
    },
    {
      "cell_type": "code",
      "metadata": {
        "colab": {
          "base_uri": "https://localhost:8080/"
        },
        "id": "NnRmG2j1sb5k",
        "outputId": "26bc5915-cb41-42e7-f1c0-96bc8451a5ca"
      },
      "source": [
        "import math \n",
        "def volumeSfera(x):\n",
        "  return 4/3 * math.pi * x**3\n",
        "\n",
        "def pesoSfera(r,d):\n",
        "  return volumeSfera(r) * d\n",
        "print(pesoSfera(1,11.34*1000),'kg')"
      ],
      "execution_count": null,
      "outputs": [
        {
          "output_type": "stream",
          "name": "stdout",
          "text": [
            "47500.88092227767 kg\n"
          ]
        }
      ]
    },
    {
      "cell_type": "markdown",
      "metadata": {
        "id": "pFAPNVmiscFa"
      },
      "source": [
        "7. data una lista di 100 numeri pari casuali caricata tramite una list comprehension, sostituire ogni elemento con il suo quadrato \n"
      ]
    },
    {
      "cell_type": "code",
      "metadata": {
        "id": "SYulK_ReseHD",
        "colab": {
          "base_uri": "https://localhost:8080/"
        },
        "outputId": "997ff98d-c12e-4516-e853-f12ddded0382"
      },
      "source": [
        "import random\n",
        "\n",
        "lista = [random.randint(0,1000) for i in range(0,200)]\n",
        "lista2 = list(filter(lambda x: x%2 == 0, lista))\n",
        "lista3 = list(map(lambda x: x**2,lista2))\n",
        "\n",
        "print(sorted(lista2))\n",
        "print(sorted(lista3))"
      ],
      "execution_count": null,
      "outputs": [
        {
          "output_type": "stream",
          "name": "stdout",
          "text": [
            "[2, 10, 18, 30, 48, 54, 54, 58, 68, 76, 86, 88, 124, 136, 154, 164, 184, 214, 220, 224, 236, 248, 262, 268, 270, 276, 284, 298, 300, 306, 306, 316, 320, 320, 330, 340, 344, 362, 384, 390, 400, 402, 404, 404, 410, 440, 444, 468, 474, 474, 486, 522, 522, 528, 542, 574, 574, 578, 584, 596, 614, 622, 638, 658, 678, 692, 692, 700, 712, 730, 766, 776, 792, 838, 844, 850, 884, 884, 890, 892, 898, 908, 910, 912, 920, 924, 946, 952, 958, 978, 990, 996]\n",
            "[4, 100, 324, 900, 2304, 2916, 2916, 3364, 4624, 5776, 7396, 7744, 15376, 18496, 23716, 26896, 33856, 45796, 48400, 50176, 55696, 61504, 68644, 71824, 72900, 76176, 80656, 88804, 90000, 93636, 93636, 99856, 102400, 102400, 108900, 115600, 118336, 131044, 147456, 152100, 160000, 161604, 163216, 163216, 168100, 193600, 197136, 219024, 224676, 224676, 236196, 272484, 272484, 278784, 293764, 329476, 329476, 334084, 341056, 355216, 376996, 386884, 407044, 432964, 459684, 478864, 478864, 490000, 506944, 532900, 586756, 602176, 627264, 702244, 712336, 722500, 781456, 781456, 792100, 795664, 806404, 824464, 828100, 831744, 846400, 853776, 894916, 906304, 917764, 956484, 980100, 992016]\n"
          ]
        }
      ]
    },
    {
      "cell_type": "markdown",
      "metadata": {
        "id": "SPfOXjM4sedJ"
      },
      "source": [
        "8. data una lista di 100 numeri pari casuali caricata tramite una list comprehension, eliminare tutti gli elementi della lista che sono multipli di 6\n"
      ]
    },
    {
      "cell_type": "code",
      "metadata": {
        "id": "3wDy12M4sgmq",
        "colab": {
          "base_uri": "https://localhost:8080/"
        },
        "outputId": "a5c61c72-dc8c-493e-9acc-d13f69903e6f"
      },
      "source": [
        "lista = [random.randint(0,1000) for i in range(0,200)]\n",
        "lista2 = list(filter(lambda x: x%2 == 0, lista))\n",
        "lista3 = list(filter(lambda x: x%6 == 0,lista2))\n",
        "\n",
        "print(sorted(lista2))\n",
        "print(sorted(lista3))"
      ],
      "execution_count": null,
      "outputs": [
        {
          "output_type": "stream",
          "name": "stdout",
          "text": [
            "[16, 24, 24, 36, 40, 40, 62, 74, 78, 88, 92, 94, 98, 114, 124, 132, 136, 148, 148, 152, 164, 166, 190, 198, 212, 260, 266, 270, 276, 280, 296, 306, 338, 350, 366, 372, 374, 384, 386, 390, 394, 406, 430, 448, 450, 468, 480, 482, 484, 494, 536, 540, 550, 556, 566, 574, 580, 596, 600, 606, 608, 612, 612, 628, 628, 660, 662, 664, 676, 680, 688, 720, 778, 786, 802, 806, 822, 824, 834, 852, 866, 874, 874, 888, 888, 892, 894, 920, 926, 928, 936, 944, 950, 982, 990]\n",
            "[24, 24, 36, 78, 114, 132, 198, 270, 276, 306, 366, 372, 384, 390, 450, 468, 480, 540, 600, 606, 612, 612, 660, 720, 786, 822, 834, 852, 888, 888, 894, 936, 990]\n"
          ]
        }
      ]
    },
    {
      "cell_type": "markdown",
      "metadata": {
        "id": "eaLU9-vJshMJ"
      },
      "source": [
        "9. progettare una struttura dati che permetta di memorizzare l’orario di partenza e di arrivo dei treni della tratta Milano Roma dell’alta velocità. Ad esempio il treno 9645 parte alle 16.00 e arriva alle 19.10, il treno 9647 parte alle 16.30 e arriva alle 19.40 a Roma. Memorizzare nella struttura dati progettata queste informazioni e scrivere il codice necessario per cercare un treno ed avere l’ora di partenza e l’ora di arrivo. Se non c’è il treno che l’utente inserisce, dare un opportuno messaggio di errore.\n"
      ]
    },
    {
      "cell_type": "code",
      "metadata": {
        "colab": {
          "base_uri": "https://localhost:8080/"
        },
        "id": "HvOpk0wnskNp",
        "outputId": "8a4d4096-a8cf-41ab-81af-8857c49b63f0"
      },
      "source": [
        "milanoroma = [{'numerotreno':'9645','partenza':'16.00','arrivo':'19.10'},\n",
        "               {'numerotreno':'9647','partenza':'16.30','arrivo':'19.40'}]\n",
        "               \n",
        "infotreno = input('Inserire numero treno: ')\n",
        "for treno in milanoroma:\n",
        "  if treno['numerotreno'] == infotreno:\n",
        "    print(treno['partenza'],treno['arrivo'])\n"
      ],
      "execution_count": null,
      "outputs": [
        {
          "output_type": "stream",
          "name": "stdout",
          "text": [
            "Inserire numero treno: 9645\n",
            "16.00 19.10\n"
          ]
        }
      ]
    }
  ]
}