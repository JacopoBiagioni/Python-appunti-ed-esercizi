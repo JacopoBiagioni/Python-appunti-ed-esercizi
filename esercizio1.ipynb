{
  "nbformat": 4,
  "nbformat_minor": 0,
  "metadata": {
    "colab": {
      "name": "esercizio1.ipynb",
      "provenance": []
    },
    "kernelspec": {
      "name": "python3",
      "display_name": "Python 3"
    },
    "language_info": {
      "name": "python"
    }
  },
  "cells": [
    {
      "cell_type": "markdown",
      "metadata": {
        "id": "EfTlhSTiix-W"
      },
      "source": [
        "a. far inserire all'utente due valori interi"
      ]
    },
    {
      "cell_type": "code",
      "metadata": {
        "colab": {
          "base_uri": "https://localhost:8080/"
        },
        "id": "cFgyIRxBi3TF",
        "outputId": "5e8852a0-ca99-4fa9-a388-3da73ddba18a"
      },
      "source": [
        "a = int(input(\"Inserire il numero uno: \"))\n",
        "b = int(input(\"Inserire il numero due: \"))"
      ],
      "execution_count": 30,
      "outputs": [
        {
          "name": "stdout",
          "output_type": "stream",
          "text": [
            "Inserire il numero uno: 20\n",
            "Inserire il numero due: 8\n"
          ]
        }
      ]
    },
    {
      "cell_type": "markdown",
      "metadata": {
        "id": "WO3RDisClo7N"
      },
      "source": [
        "b. effettuare le 4 operazioni aritmetiche tra i due numeri\n"
      ]
    },
    {
      "cell_type": "code",
      "metadata": {
        "colab": {
          "base_uri": "https://localhost:8080/"
        },
        "id": "5aEezX3BlsgN",
        "outputId": "13453f80-b53c-4ebb-d3d2-5fb70b7acd95"
      },
      "source": [
        "som = a+b\n",
        "sot = a-b\n",
        "mol = a*b\n",
        "div = a/b\n",
        "print(som, sot, mol, div)"
      ],
      "execution_count": 31,
      "outputs": [
        {
          "output_type": "stream",
          "name": "stdout",
          "text": [
            "28 12 160 2.5\n"
          ]
        }
      ]
    },
    {
      "cell_type": "markdown",
      "metadata": {
        "id": "pzp09rS2mJl1"
      },
      "source": [
        "c. effettuare l'elevamento a potenza del primo numero per il secondo\n"
      ]
    },
    {
      "cell_type": "code",
      "metadata": {
        "colab": {
          "base_uri": "https://localhost:8080/"
        },
        "id": "3se8mJdImMXc",
        "outputId": "e8265cd8-ab07-4611-8523-aca8cb082bb8"
      },
      "source": [
        "pot = a**b\n",
        "print(pot)"
      ],
      "execution_count": 32,
      "outputs": [
        {
          "output_type": "stream",
          "name": "stdout",
          "text": [
            "25600000000\n"
          ]
        }
      ]
    },
    {
      "cell_type": "markdown",
      "metadata": {
        "id": "PJpy7VYKmRPU"
      },
      "source": [
        "d. effettuare il calcolo del resto della divisione tra il primo e il secondo numero\n"
      ]
    },
    {
      "cell_type": "code",
      "metadata": {
        "colab": {
          "base_uri": "https://localhost:8080/"
        },
        "id": "eW0uuJFomTDm",
        "outputId": "338924bd-ce88-480b-f84f-cfa197599d90"
      },
      "source": [
        "mod = a%b\n",
        "print(mod)"
      ],
      "execution_count": 33,
      "outputs": [
        {
          "output_type": "stream",
          "name": "stdout",
          "text": [
            "4\n"
          ]
        }
      ]
    },
    {
      "cell_type": "markdown",
      "metadata": {
        "id": "WpmDTvUimcps"
      },
      "source": [
        "f. effettuare la divisione intera tra il primo e il secondo numero\n"
      ]
    },
    {
      "cell_type": "code",
      "metadata": {
        "colab": {
          "base_uri": "https://localhost:8080/"
        },
        "id": "UVPP0wV0mdJv",
        "outputId": "ab4c9d70-f6c1-4c33-a083-5fdc71a50df9"
      },
      "source": [
        "divintera = a // b\n",
        "print(divintera)"
      ],
      "execution_count": 34,
      "outputs": [
        {
          "output_type": "stream",
          "name": "stdout",
          "text": [
            "2\n"
          ]
        }
      ]
    },
    {
      "cell_type": "markdown",
      "metadata": {
        "id": "5W5HQw-RnIDk"
      },
      "source": [
        "g. incrementare di una unità entrambi i numeri\n"
      ]
    },
    {
      "cell_type": "code",
      "metadata": {
        "colab": {
          "base_uri": "https://localhost:8080/"
        },
        "id": "jTLHPlnmnJ80",
        "outputId": "3d3220e2-6b99-4965-ab73-34dbf67a3c6f"
      },
      "source": [
        "num1 = a + 1\n",
        "num2 = b + 1\n",
        "print(num1, num2)"
      ],
      "execution_count": 35,
      "outputs": [
        {
          "output_type": "stream",
          "name": "stdout",
          "text": [
            "21 9\n"
          ]
        }
      ]
    },
    {
      "cell_type": "markdown",
      "metadata": {
        "id": "-gh7xS4LoIp8"
      },
      "source": [
        "h. far inserie all'utente due valori: il primo rappresenta la sua altezza (in metri) e il secondo rappresenta il suo peso (in kg). Visualizzare poi l'IMC (google it...)\n"
      ]
    },
    {
      "cell_type": "code",
      "metadata": {
        "colab": {
          "base_uri": "https://localhost:8080/"
        },
        "id": "MVYUAsWCoKg1",
        "outputId": "31b846e5-c415-4195-875d-087706d8db0e"
      },
      "source": [
        "alt = float(input(\"Inserire altezza in m: \"))\n",
        "peso = float(input(\"Inserire peso in kg:\" ))\n",
        "IMC = peso/(alt**2)\n",
        "print(IMC)"
      ],
      "execution_count": 46,
      "outputs": [
        {
          "output_type": "stream",
          "name": "stdout",
          "text": [
            "Inserire altezza in m: 1.72\n",
            "Inserire peso in kg:69\n",
            "23.323418063818284\n"
          ]
        }
      ]
    },
    {
      "cell_type": "markdown",
      "metadata": {
        "id": "xROaRx5ytiNr"
      },
      "source": [
        "i. arrotondare l'IMC precedente\n"
      ]
    },
    {
      "cell_type": "code",
      "metadata": {
        "colab": {
          "base_uri": "https://localhost:8080/"
        },
        "id": "2GFbuxlUtjr6",
        "outputId": "afe5457c-6e25-4afc-88b8-6100369cd1fe"
      },
      "source": [
        "print(round(IMC))"
      ],
      "execution_count": 48,
      "outputs": [
        {
          "output_type": "stream",
          "name": "stdout",
          "text": [
            "23\n"
          ]
        }
      ]
    },
    {
      "cell_type": "markdown",
      "metadata": {
        "id": "f-DjTYnettOK"
      },
      "source": [
        "j. visualizzare il proprio nome, cognome, data di nascita e città di nascita separando le informazioni con un trattino.\n"
      ]
    },
    {
      "cell_type": "code",
      "metadata": {
        "colab": {
          "base_uri": "https://localhost:8080/"
        },
        "id": "h12x-Xl-tu7A",
        "outputId": "3d43e5a1-7a31-4a16-c6f1-dfab00df935b"
      },
      "source": [
        "nome = \"Jacopo\"\n",
        "cognome = \"Biagioni\"\n",
        "data = \"25 novembre 2005\"\n",
        "città = \"Milano\"\n",
        "print(nome, cognome, data, città, sep= \"-\", end= \".\")"
      ],
      "execution_count": 50,
      "outputs": [
        {
          "output_type": "stream",
          "name": "stdout",
          "text": [
            "Jacopo-Biagioni-25 novembre 2005-Milano."
          ]
        }
      ]
    },
    {
      "cell_type": "markdown",
      "metadata": {
        "id": "N8JPk2PYvLNT"
      },
      "source": [
        "k. visualizzare le stesse informazioni per 10 volte di seguito\n"
      ]
    },
    {
      "cell_type": "code",
      "metadata": {
        "colab": {
          "base_uri": "https://localhost:8080/"
        },
        "id": "7j2Cym_cyGA6",
        "outputId": "aea82f2a-2d2d-4a26-8dcc-7d7f53a20092"
      },
      "source": [
        "informazioni = (nome, cognome, data, città)\n",
        "print(informazioni*10)"
      ],
      "execution_count": 64,
      "outputs": [
        {
          "output_type": "stream",
          "name": "stdout",
          "text": [
            "('Jacopo', 'Biagioni', '25 novembre 2005', 'Milano', 'Jacopo', 'Biagioni', '25 novembre 2005', 'Milano', 'Jacopo', 'Biagioni', '25 novembre 2005', 'Milano', 'Jacopo', 'Biagioni', '25 novembre 2005', 'Milano', 'Jacopo', 'Biagioni', '25 novembre 2005', 'Milano', 'Jacopo', 'Biagioni', '25 novembre 2005', 'Milano', 'Jacopo', 'Biagioni', '25 novembre 2005', 'Milano', 'Jacopo', 'Biagioni', '25 novembre 2005', 'Milano', 'Jacopo', 'Biagioni', '25 novembre 2005', 'Milano', 'Jacopo', 'Biagioni', '25 novembre 2005', 'Milano')\n"
          ]
        }
      ]
    },
    {
      "cell_type": "markdown",
      "metadata": {
        "id": "paHPgsaBzMyR"
      },
      "source": [
        "l. assegnare il proprio nome e cognome ad una stringa e visualizzarla con tutte le lettere maiuscole\n"
      ]
    },
    {
      "cell_type": "code",
      "metadata": {
        "id": "WbEwreSc12sh"
      },
      "source": [
        ""
      ],
      "execution_count": null,
      "outputs": []
    }
  ]
}