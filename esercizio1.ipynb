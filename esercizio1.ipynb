{
  "nbformat": 4,
  "nbformat_minor": 0,
  "metadata": {
    "colab": {
      "name": "esercizio1.ipynb",
      "provenance": []
    },
    "kernelspec": {
      "name": "python3",
      "display_name": "Python 3"
    },
    "language_info": {
      "name": "python"
    }
  },
  "cells": [
    {
      "cell_type": "markdown",
      "metadata": {
        "id": "EfTlhSTiix-W"
      },
      "source": [
        "a. far inserire all'utente due valori interi"
      ]
    },
    {
      "cell_type": "code",
      "metadata": {
        "colab": {
          "base_uri": "https://localhost:8080/"
        },
        "id": "cFgyIRxBi3TF",
        "outputId": "5e8852a0-ca99-4fa9-a388-3da73ddba18a"
      },
      "source": [
        "a = int(input(\"Inserire il numero uno: \"))\n",
        "b = int(input(\"Inserire il numero due: \"))"
      ],
      "execution_count": null,
      "outputs": [
        {
          "name": "stdout",
          "output_type": "stream",
          "text": [
            "Inserire il numero uno: 20\n",
            "Inserire il numero due: 8\n"
          ]
        }
      ]
    },
    {
      "cell_type": "markdown",
      "metadata": {
        "id": "WO3RDisClo7N"
      },
      "source": [
        "b. effettuare le 4 operazioni aritmetiche tra i due numeri\n"
      ]
    },
    {
      "cell_type": "code",
      "metadata": {
        "colab": {
          "base_uri": "https://localhost:8080/"
        },
        "id": "5aEezX3BlsgN",
        "outputId": "13453f80-b53c-4ebb-d3d2-5fb70b7acd95"
      },
      "source": [
        "som = a+b\n",
        "sot = a-b\n",
        "mol = a*b\n",
        "div = a/b\n",
        "print(som, sot, mol, div)"
      ],
      "execution_count": null,
      "outputs": [
        {
          "output_type": "stream",
          "name": "stdout",
          "text": [
            "28 12 160 2.5\n"
          ]
        }
      ]
    },
    {
      "cell_type": "markdown",
      "metadata": {
        "id": "pzp09rS2mJl1"
      },
      "source": [
        "c. effettuare l'elevamento a potenza del primo numero per il secondo\n"
      ]
    },
    {
      "cell_type": "code",
      "metadata": {
        "colab": {
          "base_uri": "https://localhost:8080/"
        },
        "id": "3se8mJdImMXc",
        "outputId": "e8265cd8-ab07-4611-8523-aca8cb082bb8"
      },
      "source": [
        "pot = a**b\n",
        "print(pot)"
      ],
      "execution_count": null,
      "outputs": [
        {
          "output_type": "stream",
          "name": "stdout",
          "text": [
            "25600000000\n"
          ]
        }
      ]
    },
    {
      "cell_type": "markdown",
      "metadata": {
        "id": "PJpy7VYKmRPU"
      },
      "source": [
        "d. effettuare il calcolo del resto della divisione tra il primo e il secondo numero\n"
      ]
    },
    {
      "cell_type": "code",
      "metadata": {
        "colab": {
          "base_uri": "https://localhost:8080/"
        },
        "id": "eW0uuJFomTDm",
        "outputId": "338924bd-ce88-480b-f84f-cfa197599d90"
      },
      "source": [
        "mod = a%b\n",
        "print(mod)"
      ],
      "execution_count": null,
      "outputs": [
        {
          "output_type": "stream",
          "name": "stdout",
          "text": [
            "4\n"
          ]
        }
      ]
    },
    {
      "cell_type": "markdown",
      "metadata": {
        "id": "WpmDTvUimcps"
      },
      "source": [
        "f. effettuare la divisione intera tra il primo e il secondo numero\n"
      ]
    },
    {
      "cell_type": "code",
      "metadata": {
        "colab": {
          "base_uri": "https://localhost:8080/"
        },
        "id": "UVPP0wV0mdJv",
        "outputId": "ab4c9d70-f6c1-4c33-a083-5fdc71a50df9"
      },
      "source": [
        "divintera = a // b\n",
        "print(divintera)"
      ],
      "execution_count": null,
      "outputs": [
        {
          "output_type": "stream",
          "name": "stdout",
          "text": [
            "2\n"
          ]
        }
      ]
    },
    {
      "cell_type": "markdown",
      "metadata": {
        "id": "5W5HQw-RnIDk"
      },
      "source": [
        "g. incrementare di una unità entrambi i numeri\n"
      ]
    },
    {
      "cell_type": "code",
      "metadata": {
        "colab": {
          "base_uri": "https://localhost:8080/"
        },
        "id": "jTLHPlnmnJ80",
        "outputId": "3d3220e2-6b99-4965-ab73-34dbf67a3c6f"
      },
      "source": [
        "num1 = a + 1\n",
        "num2 = b + 1\n",
        "print(num1, num2)"
      ],
      "execution_count": null,
      "outputs": [
        {
          "output_type": "stream",
          "name": "stdout",
          "text": [
            "21 9\n"
          ]
        }
      ]
    },
    {
      "cell_type": "markdown",
      "metadata": {
        "id": "-gh7xS4LoIp8"
      },
      "source": [
        "h. far inserie all'utente due valori: il primo rappresenta la sua altezza (in metri) e il secondo rappresenta il suo peso (in kg). Visualizzare poi l'IMC (google it...)\n"
      ]
    },
    {
      "cell_type": "code",
      "metadata": {
        "colab": {
          "base_uri": "https://localhost:8080/"
        },
        "id": "MVYUAsWCoKg1",
        "outputId": "31b846e5-c415-4195-875d-087706d8db0e"
      },
      "source": [
        "alt = float(input(\"Inserire altezza in m: \"))\n",
        "peso = float(input(\"Inserire peso in kg:\" ))\n",
        "IMC = peso/(alt**2)\n",
        "print(IMC)"
      ],
      "execution_count": null,
      "outputs": [
        {
          "output_type": "stream",
          "name": "stdout",
          "text": [
            "Inserire altezza in m: 1.72\n",
            "Inserire peso in kg:69\n",
            "23.323418063818284\n"
          ]
        }
      ]
    },
    {
      "cell_type": "markdown",
      "metadata": {
        "id": "xROaRx5ytiNr"
      },
      "source": [
        "i. arrotondare l'IMC precedente\n"
      ]
    },
    {
      "cell_type": "code",
      "metadata": {
        "colab": {
          "base_uri": "https://localhost:8080/"
        },
        "id": "2GFbuxlUtjr6",
        "outputId": "afe5457c-6e25-4afc-88b8-6100369cd1fe"
      },
      "source": [
        "print(round(IMC))"
      ],
      "execution_count": null,
      "outputs": [
        {
          "output_type": "stream",
          "name": "stdout",
          "text": [
            "23\n"
          ]
        }
      ]
    },
    {
      "cell_type": "markdown",
      "metadata": {
        "id": "f-DjTYnettOK"
      },
      "source": [
        "j. visualizzare il proprio nome, cognome, data di nascita e città di nascita separando le informazioni con un trattino.\n"
      ]
    },
    {
      "cell_type": "code",
      "metadata": {
        "colab": {
          "base_uri": "https://localhost:8080/"
        },
        "id": "h12x-Xl-tu7A",
        "outputId": "04879f32-9730-4796-d553-1f064afb5d9d"
      },
      "source": [
        "nome = \"Jacopo\"\n",
        "cognome = \"Biagioni\"\n",
        "data = \"25 novembre 2005\"\n",
        "città = \"Milano\"\n",
        "print(nome, cognome, data, città, sep= \"-\", end= \".\")"
      ],
      "execution_count": 6,
      "outputs": [
        {
          "output_type": "stream",
          "name": "stdout",
          "text": [
            "Jacopo-Biagioni-25 novembre 2005-Milano."
          ]
        }
      ]
    },
    {
      "cell_type": "markdown",
      "metadata": {
        "id": "N8JPk2PYvLNT"
      },
      "source": [
        "k. visualizzare le stesse informazioni per 10 volte di seguito\n"
      ]
    },
    {
      "cell_type": "code",
      "metadata": {
        "colab": {
          "base_uri": "https://localhost:8080/"
        },
        "id": "beky40mXX17L",
        "outputId": "262e8462-3f10-4900-eb72-00cea3d7d828"
      },
      "source": [
        "informazioni = (nome, cognome, data, città)\n",
        "print(informazioni*10)"
      ],
      "execution_count": 7,
      "outputs": [
        {
          "output_type": "stream",
          "name": "stdout",
          "text": [
            "('Jacopo', 'Biagioni', '25 novembre 2005', 'Milano', 'Jacopo', 'Biagioni', '25 novembre 2005', 'Milano', 'Jacopo', 'Biagioni', '25 novembre 2005', 'Milano', 'Jacopo', 'Biagioni', '25 novembre 2005', 'Milano', 'Jacopo', 'Biagioni', '25 novembre 2005', 'Milano', 'Jacopo', 'Biagioni', '25 novembre 2005', 'Milano', 'Jacopo', 'Biagioni', '25 novembre 2005', 'Milano', 'Jacopo', 'Biagioni', '25 novembre 2005', 'Milano', 'Jacopo', 'Biagioni', '25 novembre 2005', 'Milano', 'Jacopo', 'Biagioni', '25 novembre 2005', 'Milano')\n"
          ]
        }
      ]
    },
    {
      "cell_type": "markdown",
      "metadata": {
        "id": "paHPgsaBzMyR"
      },
      "source": [
        "l. assegnare il proprio nome e cognome ad una stringa e visualizzarla con tutte le lettere maiuscole\n"
      ]
    },
    {
      "cell_type": "code",
      "metadata": {
        "id": "WbEwreSc12sh",
        "colab": {
          "base_uri": "https://localhost:8080/"
        },
        "outputId": "d1908bd9-25bf-41a2-e305-89a36e351add"
      },
      "source": [
        "string = 'jacopo biagioni'\n",
        "print(string.upper())"
      ],
      "execution_count": 40,
      "outputs": [
        {
          "output_type": "stream",
          "name": "stdout",
          "text": [
            "JACOPO BIAGIONI\n"
          ]
        }
      ]
    },
    {
      "cell_type": "markdown",
      "metadata": {
        "id": "m0YDD7DWctht"
      },
      "source": [
        "m. assegnare il proprio nome e cognome ad una stringa e visualizzarla con le prime lettere maiuscole\n"
      ]
    },
    {
      "cell_type": "code",
      "metadata": {
        "colab": {
          "base_uri": "https://localhost:8080/"
        },
        "id": "RvElSFVJcwbP",
        "outputId": "c3e70a79-1657-41a5-e8f4-110c6b9ccb1f"
      },
      "source": [
        "print(string.title())"
      ],
      "execution_count": 41,
      "outputs": [
        {
          "output_type": "stream",
          "name": "stdout",
          "text": [
            "Jacopo Biagioni\n"
          ]
        }
      ]
    },
    {
      "cell_type": "markdown",
      "metadata": {
        "id": "yefslmvVd_pj"
      },
      "source": [
        "n. assegnare il proprio nome e cognome ad una stringa e visualizzarne la lunghezza\n"
      ]
    },
    {
      "cell_type": "code",
      "metadata": {
        "colab": {
          "base_uri": "https://localhost:8080/"
        },
        "id": "M81GWe3qePab",
        "outputId": "ab5da60a-1e52-4197-a0b7-4b8cbf6681ad"
      },
      "source": [
        "lunghezza = len(string)\n",
        "print(lunghezza)"
      ],
      "execution_count": 44,
      "outputs": [
        {
          "output_type": "stream",
          "name": "stdout",
          "text": [
            "15\n"
          ]
        }
      ]
    },
    {
      "cell_type": "markdown",
      "metadata": {
        "id": "FQUC8JHsfbaE"
      },
      "source": [
        "o. assegnare il proprio nome e cognome ad una stringa e contate quante vocali contiene\n"
      ]
    },
    {
      "cell_type": "code",
      "metadata": {
        "colab": {
          "base_uri": "https://localhost:8080/"
        },
        "id": "xCoCbucXfdP1",
        "outputId": "aecddb16-f3c6-4603-b9c3-120e90d244d0"
      },
      "source": [
        "contatore=0\n",
        "vocali=set('aeiou')\n",
        "for lettera in string.lower():\n",
        "  if lettera in vocali:contatore=contatore+1\n",
        "print(contatore)"
      ],
      "execution_count": 48,
      "outputs": [
        {
          "output_type": "stream",
          "name": "stdout",
          "text": [
            "8\n"
          ]
        }
      ]
    },
    {
      "cell_type": "markdown",
      "metadata": {
        "id": "THb8HCo1g4Tk"
      },
      "source": [
        "p. assegnare il proprio nome e cognome ad una stringa e visualizzare i primi 5 caratteri\n"
      ]
    },
    {
      "cell_type": "code",
      "metadata": {
        "colab": {
          "base_uri": "https://localhost:8080/"
        },
        "id": "6aJg_JOyg58U",
        "outputId": "40a620a0-94cd-4352-9151-d29cd5e76e62"
      },
      "source": [
        "print(string[0:5])"
      ],
      "execution_count": 49,
      "outputs": [
        {
          "output_type": "stream",
          "name": "stdout",
          "text": [
            "jacop\n"
          ]
        }
      ]
    },
    {
      "cell_type": "markdown",
      "metadata": {
        "id": "SY-Ol-pWhBHj"
      },
      "source": [
        "q. assegnare il proprio nome e cognome ad una stringa e visualizzare gli ultimi 5 caratteri\n"
      ]
    },
    {
      "cell_type": "code",
      "metadata": {
        "colab": {
          "base_uri": "https://localhost:8080/"
        },
        "id": "qraLYfOIhCYr",
        "outputId": "b1402b41-c070-4245-d606-440610003c99"
      },
      "source": [
        "print(string[10:15])"
      ],
      "execution_count": 50,
      "outputs": [
        {
          "output_type": "stream",
          "name": "stdout",
          "text": [
            "gioni\n"
          ]
        }
      ]
    },
    {
      "cell_type": "markdown",
      "metadata": {
        "id": "2roXjETfhCmr"
      },
      "source": [
        "r. assegnare il proprio nome e cognome ad una stringa e visualizzare i 5 caratteri centrali\n"
      ]
    },
    {
      "cell_type": "code",
      "metadata": {
        "colab": {
          "base_uri": "https://localhost:8080/"
        },
        "id": "PvJWo72uhC-b",
        "outputId": "50cda981-4708-402b-e355-a093eaf110dc"
      },
      "source": [
        "print(string[5:10])"
      ],
      "execution_count": 53,
      "outputs": [
        {
          "output_type": "stream",
          "name": "stdout",
          "text": [
            "o bia\n"
          ]
        }
      ]
    },
    {
      "cell_type": "markdown",
      "metadata": {
        "id": "1DG_dbizhHRk"
      },
      "source": [
        "s. assegnare il proprio nome e cognome ad una stringa e sostituire le vocali con una X\n"
      ]
    },
    {
      "cell_type": "code",
      "metadata": {
        "colab": {
          "base_uri": "https://localhost:8080/"
        },
        "id": "CY3EnaefhHdl",
        "outputId": "1324edc6-2880-4f00-cb62-d583107963f2"
      },
      "source": [
        "stringX = string.replace('a', 'X').replace('e', 'X').replace('i', 'X').replace('o', 'X').replace('u', 'X')\n",
        "print(stringX)"
      ],
      "execution_count": 55,
      "outputs": [
        {
          "output_type": "stream",
          "name": "stdout",
          "text": [
            "jXcXpX bXXgXXnX\n"
          ]
        }
      ]
    }
  ]
}